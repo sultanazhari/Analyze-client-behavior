{
 "cells": [
  {
   "cell_type": "markdown",
   "metadata": {},
   "source": [
    "# Reviewer's comment v1\n",
    "\n",
    "**Halo mas Sultan!**\n",
    "\n",
    "Perkenalkan saya Chamdani, disini saya akan mereview tugas mas Sultan ya.\n",
    "\n",
    "Saya akan memberikan beberapa komentar dan feedback seperti dibawah ini, mohon jangan dipindah, dirubah, maupun dihapus ya :).\n",
    "\n",
    "Komen yang saya berikan akan muncul dalam warna hijau, kuning, atau pun merah seperti ini:"
   ]
  },
  {
   "cell_type": "markdown",
   "metadata": {},
   "source": [
    "<div class=\"alert alert-success\">\n",
    "<b>Reviewer's comment</b> <a class=\"tocSkip\"></a>\n",
    "\n",
    "Bagus, semua berjalan lancar.\n",
    "\n",
    "</div>"
   ]
  },
  {
   "cell_type": "markdown",
   "metadata": {},
   "source": [
    "<div class=\"alert alert-warning\">\n",
    "<b>Reviewer's comment</b> <a class=\"tocSkip\"></a>\n",
    "\n",
    "Terdapat beberapa catatan.\n",
    "\n",
    "</div>"
   ]
  },
  {
   "cell_type": "markdown",
   "metadata": {},
   "source": [
    "<div class=\"alert alert-danger\">\n",
    "<b>Reviewer's comment</b> <a class=\"tocSkip\"></a>\n",
    "\n",
    "Perlu beberapa perbaikan\n",
    "\n",
    "</div>"
   ]
  },
  {
   "cell_type": "markdown",
   "metadata": {},
   "source": [
    "Dan tentu saja mas Sultan dapat menjawab saya dengan menggunakan blok berwarna biru seperti ini"
   ]
  },
  {
   "cell_type": "markdown",
   "metadata": {},
   "source": [
    "<div class=\"alert alert-block alert-info\">\n",
    "<b>Student answer.</b> <a class=\"tocSkip\"></a>\n",
    "    \n",
    "Baik kak Chamdani, Terima kasih.\n",
    "</div>"
   ]
  },
  {
   "cell_type": "markdown",
   "metadata": {},
   "source": [
    "<div style=\"border:solid black 2px; padding: 20px\">\n",
    "    \n",
    "# General feedback\n",
    "\n",
    "Terima kasih banyak telah mengirimkan proyek Anda! \n",
    "\n",
    "<br>\n",
    "Secara keseluruhan, proyek Anda cukup mengesankan. Namun saya melihat masih banyak hal yang perlu di perbaiki. Saya telah menemukan beberapa kesalahan kecil dan beberapa penjelasan yang kurang mendalam proyek Anda. Perhatikan bahwa dalam proyek Anda ada beberapa hal yang perlu diperbaiki dimana sebagian besar adalah masalah kecil yang mudah Anda temukan solusinya. \n",
    "\n",
    "Saya telah meninggalkan komentar, yang dapat membantu Anda meningkatkan proyek dan mengembangkan keterampilan Anda lebih lanjut. \n",
    "\n",
    "<br>\n",
    "\n",
    "Jika ada sesuatu yang membuat Anda bingung atau tidak mengerti. \n",
    "\n",
    "Tolong, jangan ragu untuk menghubungi saya kapan saja jika Anda memiliki kesulitan. Saya ingin berdiskusi dengan Anda. \n",
    "\n",
    "**TETAP SEMANGAT!!**\n",
    "    \n",
    "</div>"
   ]
  },
  {
   "cell_type": "markdown",
   "metadata": {},
   "source": [
    "<div style=\"border:solid black 2px; padding: 20px\" class=\"alert alert-warning\">\n",
    "    \n",
    "# General feedback v2\n",
    "\n",
    "Terima kasih banyak telah mengirimkan proyek Anda! \n",
    "\n",
    "<br>\n",
    "Secara keseluruhan, proyek Anda sangat mengesankan. Namun saya melihat masih banyak hal yang perlu di perbaiki. Saya telah menemukan beberapa kesalahan kecil dan beberapa penjelasan yang kurang dalam proyek Anda. Selain itu ada beberapa hal yang perlu diperbaiki dalam proyek Anda. \n",
    "    \n",
    "Sebagian besar masalah kecil yang mudah diperbaiki dan **Mohon perhatikan dan ikuti arahan dari komentar saya sebelumnya**. Saya telah menambahkan komentar versi 2, yang dapat membantu Anda meningkatkan proyek Anda lebih lanjut. Hal itu hanya berisi beberapa saran tentang bagaimana permasalahanmu itu dapat diperbaiki. Anda masih memiliki kesempatan **Ketiga (terakhir)** untuk memperbaikinya dan jangan lupa untuk kembali kepada saya setelah perbaikan anda selesai. \n",
    "\n",
    "<br>\n",
    "\n",
    "Jika ada sesuatu yang membuat Anda bingung atau tidak mengerti. \n",
    "\n",
    "Tolong, jangan ragu untuk menghubungi saya kapan saja jika Anda memiliki kesulitan. Saya ingin berdiskusi dengan Anda. \n",
    "\n",
    "**TETAP SEMANGAT!!**\n",
    "    \n",
    "</div>"
   ]
  },
  {
   "cell_type": "markdown",
   "metadata": {},
   "source": [
    "<div style=\"border:solid black 2px; padding: 20px\" class=\"alert alert-success\">\n",
    "    \n",
    "# General feedback v3 *LULUS*\n",
    "\n",
    "Selamat mas Sultan Azhari. Kamu luar biasa!\n",
    "\n",
    "Terima kasih banyak telah mengirimkan proyek Anda! \n",
    "\n",
    "<br>\n",
    "Secara keseluruhan, proyek Anda cukup mengesankan. Saya harap kamu bisa belajar banyak dari feedback yang saya berikan yaa. Semangat terus! Jangan lupa untuk terus mengasah skill dan pengetahuan kamu yaa. Sampai Jumpa\n",
    "\n",
    "<br>\n",
    "\n",
    "Jangan ragu untuk menghubungi saya kapan saja jika Anda memiliki kesulitan. Saya ingin berdiskusi dengan Anda. \n",
    "\n",
    "**TETAP SEMANGAT!!**\n",
    "    \n",
    "</div>"
   ]
  },
  {
   "cell_type": "markdown",
   "metadata": {},
   "source": [
    "# Paket prabayar mana yang mendatangkan lebih banyak pendapatan.\n",
    "Anda bekerja sebagai analis untuk operator telekomunikasi Megaline. Perusahaan tersebut menawarkan kliennya dua paket prabayar, Surf dan Ultimate. Departemen periklanan ingin mengetahui paket prabayar mana yang menghasilkan lebih banyak pendapatan untuk menyesuaikan anggaran iklan.\n",
    "Anda akan melakukan analisis awal untuk paket-paket prabayar tersebut berdasarkan sampel klien yang berukuran relatif kecil. Anda akan memiliki 500 data klien Megaline: siapa mereka, dari mana mereka, jenis paket apa yang mereka gunakan, serta jumlah panggilan dan pesan yang mereka kirim di tahun 2018. Tugas Anda adalah untuk menganalisis perilaku klien dan menentukan paket prabayar mana yang mendatangkan lebih banyak pendapatan.\n"
   ]
  },
  {
   "cell_type": "markdown",
   "metadata": {},
   "source": [
    "<div class=\"alert alert-success\">\n",
    "<b>Chamdani comment v.1</b> <a class=\"tocSkip\"></a>\n",
    "\n",
    "Mantab, kamu sudah memberikan pengenalan untuk studikasus ini dengan baik.\n",
    "\n",
    "</div>"
   ]
  },
  {
   "cell_type": "markdown",
   "metadata": {},
   "source": [
    "## Pra-Process data"
   ]
  },
  {
   "cell_type": "code",
   "execution_count": 1,
   "metadata": {},
   "outputs": [],
   "source": [
    "# Memuat library yang dibutuhkan\n",
    "import pandas as pd\n",
    "import matplotlib.pyplot as plt, seaborn as sns\n",
    "import numpy as np\n",
    "from scipy import stats as st"
   ]
  },
  {
   "cell_type": "markdown",
   "metadata": {},
   "source": [
    "<div class=\"alert alert-success\">\n",
    "<b>Chamdani comment v.1</b> <a class=\"tocSkip\"></a>\n",
    "\n",
    "Bagus, kamu telah berhasil mengimport library yang tepat untuk proses data kali ini.\n",
    "\n",
    "</div>"
   ]
  },
  {
   "cell_type": "markdown",
   "metadata": {},
   "source": [
    "### Load data file"
   ]
  },
  {
   "cell_type": "markdown",
   "metadata": {},
   "source": [
    "#### Megaline Calls"
   ]
  },
  {
   "cell_type": "code",
   "execution_count": 2,
   "metadata": {},
   "outputs": [],
   "source": [
    "# Memuat data Megaline Calls\n",
    "try:\n",
    "    calls = pd.read_csv('/datasets/megaline_calls.csv')\n",
    "except:\n",
    "    calls = pd.read_csv('megaline_calls.csv')"
   ]
  },
  {
   "cell_type": "markdown",
   "metadata": {},
   "source": [
    "<div class=\"alert alert-success\">\n",
    "<b>Chamdani comment v.1</b> <a class=\"tocSkip\"></a>\n",
    "    \n",
    "Bagus, semua berjalan dengan lancar disini.\n",
    "\n",
    "</div>"
   ]
  },
  {
   "cell_type": "code",
   "execution_count": 3,
   "metadata": {},
   "outputs": [
    {
     "data": {
      "text/html": [
       "<div>\n",
       "<style scoped>\n",
       "    .dataframe tbody tr th:only-of-type {\n",
       "        vertical-align: middle;\n",
       "    }\n",
       "\n",
       "    .dataframe tbody tr th {\n",
       "        vertical-align: top;\n",
       "    }\n",
       "\n",
       "    .dataframe thead th {\n",
       "        text-align: right;\n",
       "    }\n",
       "</style>\n",
       "<table border=\"1\" class=\"dataframe\">\n",
       "  <thead>\n",
       "    <tr style=\"text-align: right;\">\n",
       "      <th></th>\n",
       "      <th>id</th>\n",
       "      <th>user_id</th>\n",
       "      <th>call_date</th>\n",
       "      <th>duration</th>\n",
       "    </tr>\n",
       "  </thead>\n",
       "  <tbody>\n",
       "    <tr>\n",
       "      <th>0</th>\n",
       "      <td>1000_93</td>\n",
       "      <td>1000</td>\n",
       "      <td>2018-12-27</td>\n",
       "      <td>8.52</td>\n",
       "    </tr>\n",
       "    <tr>\n",
       "      <th>1</th>\n",
       "      <td>1000_145</td>\n",
       "      <td>1000</td>\n",
       "      <td>2018-12-27</td>\n",
       "      <td>13.66</td>\n",
       "    </tr>\n",
       "    <tr>\n",
       "      <th>2</th>\n",
       "      <td>1000_247</td>\n",
       "      <td>1000</td>\n",
       "      <td>2018-12-27</td>\n",
       "      <td>14.48</td>\n",
       "    </tr>\n",
       "    <tr>\n",
       "      <th>3</th>\n",
       "      <td>1000_309</td>\n",
       "      <td>1000</td>\n",
       "      <td>2018-12-28</td>\n",
       "      <td>5.76</td>\n",
       "    </tr>\n",
       "    <tr>\n",
       "      <th>4</th>\n",
       "      <td>1000_380</td>\n",
       "      <td>1000</td>\n",
       "      <td>2018-12-30</td>\n",
       "      <td>4.22</td>\n",
       "    </tr>\n",
       "  </tbody>\n",
       "</table>\n",
       "</div>"
      ],
      "text/plain": [
       "         id  user_id   call_date  duration\n",
       "0   1000_93     1000  2018-12-27      8.52\n",
       "1  1000_145     1000  2018-12-27     13.66\n",
       "2  1000_247     1000  2018-12-27     14.48\n",
       "3  1000_309     1000  2018-12-28      5.76\n",
       "4  1000_380     1000  2018-12-30      4.22"
      ]
     },
     "execution_count": 3,
     "metadata": {},
     "output_type": "execute_result"
    }
   ],
   "source": [
    "# Memuat 5 isi data\n",
    "calls.head()"
   ]
  },
  {
   "cell_type": "markdown",
   "metadata": {},
   "source": [
    "<div class=\"alert alert-success\">\n",
    "<b>Chamdani comment v.1</b> <a class=\"tocSkip\"></a>\n",
    "    \n",
    "Bagus, semua berjalan dengan lancar disini.\n",
    "\n",
    "</div>"
   ]
  },
  {
   "cell_type": "code",
   "execution_count": 4,
   "metadata": {},
   "outputs": [
    {
     "name": "stdout",
     "output_type": "stream",
     "text": [
      "<class 'pandas.core.frame.DataFrame'>\n",
      "RangeIndex: 137735 entries, 0 to 137734\n",
      "Data columns (total 4 columns):\n",
      " #   Column     Non-Null Count   Dtype  \n",
      "---  ------     --------------   -----  \n",
      " 0   id         137735 non-null  object \n",
      " 1   user_id    137735 non-null  int64  \n",
      " 2   call_date  137735 non-null  object \n",
      " 3   duration   137735 non-null  float64\n",
      "dtypes: float64(1), int64(1), object(2)\n",
      "memory usage: 4.2+ MB\n"
     ]
    }
   ],
   "source": [
    "# Mendapatkan info dataset\n",
    "calls.info()"
   ]
  },
  {
   "cell_type": "markdown",
   "metadata": {},
   "source": [
    "<div class=\"alert alert-success\">\n",
    "<b>Chamdani comment v.1</b> <a class=\"tocSkip\"></a>\n",
    "\n",
    "Bagus, semua berjalan dengan lancar disini.\n",
    "\n",
    "</div>"
   ]
  },
  {
   "cell_type": "code",
   "execution_count": 5,
   "metadata": {},
   "outputs": [
    {
     "data": {
      "text/plain": [
       "0"
      ]
     },
     "execution_count": 5,
     "metadata": {},
     "output_type": "execute_result"
    }
   ],
   "source": [
    "# Melakukan pengecekan data duplikat\n",
    "calls.duplicated().sum()"
   ]
  },
  {
   "cell_type": "markdown",
   "metadata": {},
   "source": [
    "<div class=\"alert alert-success\">\n",
    "<b>Chamdani comment v.1</b> <a class=\"tocSkip\"></a>\n",
    "\n",
    "Ide bagus untuk memastikan tidak ada data duplikat dalam datasetmu sebelum mulai melakukan proses lebih dalam.\n",
    "\n",
    "</div>"
   ]
  },
  {
   "cell_type": "markdown",
   "metadata": {},
   "source": [
    "<b> Mini-Conclution Megaline Calls</b>\n",
    "\n",
    "Tabel calls (data panggilan):\n",
    "\n",
    "<b>id</b> — ID sesi web unik - OK\n",
    "\n",
    "\n",
    "<b>user_id</b> — ID pengguna yang melakukan panggilan - OK\n",
    "\n",
    "<b>call_date</b> — tanggal panggilan - <b>Type data 'Object' Perlu diubah menjadi 'Datetime'</b>\n",
    "\n",
    "<b>duration</b> — durasi panggilan (dalam menit) - Ok\n",
    "\n",
    "<b>Tidak terdapat data yang duplikat</b>\n",
    "\n",
    "<b>Tidak terdapat nilai yang hilang</b>"
   ]
  },
  {
   "cell_type": "markdown",
   "metadata": {},
   "source": [
    "<div class=\"alert alert-success\">\n",
    "<b>Chamdani comment v.1</b> <a class=\"tocSkip\"></a>\n",
    "\n",
    "Keren, analisa awal yang bagus mas Sultan. \n",
    "    \n",
    "Sedikit catatan jika mas Sultan nyaman dengan istilah bahasa Inggris mas Sultan bisa menggunakan bahasa Inggris untuk istilah teknis dan bahasa Indonesia untuk deskripsi dan penjelasannya. Hal ini akan sangat berguna untuk membiasakan mas Sultan untuk dapat menjelaskan perkerjaan dengan profesional. \n",
    "    \n",
    "Sebagai contoh kamu dapat menggunakan istilah `dataframe` daripada `bingkai data` dalam penjelasanmu. \n",
    "\n",
    "</div>"
   ]
  },
  {
   "cell_type": "markdown",
   "metadata": {},
   "source": [
    "#### Megaline Internet"
   ]
  },
  {
   "cell_type": "code",
   "execution_count": 6,
   "metadata": {},
   "outputs": [],
   "source": [
    "# Memuat data megaline internet\n",
    "try:\n",
    "    internet = pd.read_csv('/datasets/megaline_internet.csv')\n",
    "except:\n",
    "    internet = pd.read_csv('megaline_internet.csv')"
   ]
  },
  {
   "cell_type": "code",
   "execution_count": 7,
   "metadata": {},
   "outputs": [
    {
     "data": {
      "text/html": [
       "<div>\n",
       "<style scoped>\n",
       "    .dataframe tbody tr th:only-of-type {\n",
       "        vertical-align: middle;\n",
       "    }\n",
       "\n",
       "    .dataframe tbody tr th {\n",
       "        vertical-align: top;\n",
       "    }\n",
       "\n",
       "    .dataframe thead th {\n",
       "        text-align: right;\n",
       "    }\n",
       "</style>\n",
       "<table border=\"1\" class=\"dataframe\">\n",
       "  <thead>\n",
       "    <tr style=\"text-align: right;\">\n",
       "      <th></th>\n",
       "      <th>id</th>\n",
       "      <th>user_id</th>\n",
       "      <th>session_date</th>\n",
       "      <th>mb_used</th>\n",
       "    </tr>\n",
       "  </thead>\n",
       "  <tbody>\n",
       "    <tr>\n",
       "      <th>0</th>\n",
       "      <td>1000_13</td>\n",
       "      <td>1000</td>\n",
       "      <td>2018-12-29</td>\n",
       "      <td>89.86</td>\n",
       "    </tr>\n",
       "    <tr>\n",
       "      <th>1</th>\n",
       "      <td>1000_204</td>\n",
       "      <td>1000</td>\n",
       "      <td>2018-12-31</td>\n",
       "      <td>0.00</td>\n",
       "    </tr>\n",
       "    <tr>\n",
       "      <th>2</th>\n",
       "      <td>1000_379</td>\n",
       "      <td>1000</td>\n",
       "      <td>2018-12-28</td>\n",
       "      <td>660.40</td>\n",
       "    </tr>\n",
       "    <tr>\n",
       "      <th>3</th>\n",
       "      <td>1000_413</td>\n",
       "      <td>1000</td>\n",
       "      <td>2018-12-26</td>\n",
       "      <td>270.99</td>\n",
       "    </tr>\n",
       "    <tr>\n",
       "      <th>4</th>\n",
       "      <td>1000_442</td>\n",
       "      <td>1000</td>\n",
       "      <td>2018-12-27</td>\n",
       "      <td>880.22</td>\n",
       "    </tr>\n",
       "  </tbody>\n",
       "</table>\n",
       "</div>"
      ],
      "text/plain": [
       "         id  user_id session_date  mb_used\n",
       "0   1000_13     1000   2018-12-29    89.86\n",
       "1  1000_204     1000   2018-12-31     0.00\n",
       "2  1000_379     1000   2018-12-28   660.40\n",
       "3  1000_413     1000   2018-12-26   270.99\n",
       "4  1000_442     1000   2018-12-27   880.22"
      ]
     },
     "execution_count": 7,
     "metadata": {},
     "output_type": "execute_result"
    }
   ],
   "source": [
    "# Memuat 5 isi data \n",
    "internet.head()"
   ]
  },
  {
   "cell_type": "code",
   "execution_count": 8,
   "metadata": {},
   "outputs": [
    {
     "name": "stdout",
     "output_type": "stream",
     "text": [
      "<class 'pandas.core.frame.DataFrame'>\n",
      "RangeIndex: 104825 entries, 0 to 104824\n",
      "Data columns (total 4 columns):\n",
      " #   Column        Non-Null Count   Dtype  \n",
      "---  ------        --------------   -----  \n",
      " 0   id            104825 non-null  object \n",
      " 1   user_id       104825 non-null  int64  \n",
      " 2   session_date  104825 non-null  object \n",
      " 3   mb_used       104825 non-null  float64\n",
      "dtypes: float64(1), int64(1), object(2)\n",
      "memory usage: 3.2+ MB\n"
     ]
    }
   ],
   "source": [
    "# Mendapatkan info dataset\n",
    "internet.info()"
   ]
  },
  {
   "cell_type": "code",
   "execution_count": 9,
   "metadata": {},
   "outputs": [
    {
     "data": {
      "text/plain": [
       "0"
      ]
     },
     "execution_count": 9,
     "metadata": {},
     "output_type": "execute_result"
    }
   ],
   "source": [
    "# Melakukan pengecekan data duplikat\n",
    "internet.duplicated().sum()"
   ]
  },
  {
   "cell_type": "markdown",
   "metadata": {},
   "source": [
    "<b> Mini-Conclution Megaline internet</b>\n",
    "\n",
    "Tabel internet (data sesi web):\n",
    "\n",
    "<b>id</b> — ID sesi web unik\n",
    "\n",
    "<b>mb_used</b> — volume data yang dihabiskan selama sesi (dalam megabita)\n",
    "\n",
    "<b>session_date</b> — tanggal sesi web - <b>Type data 'Object' Perlu diubah menjadi 'Datetime'</b>\n",
    "\n",
    "<b>user_id</b> — ID pengguna\n",
    "\n",
    "<b>Tidak terdapat data yang duplikat</b>\n",
    "\n",
    "<b>Tidak terdapat nilai yang hilang</b>"
   ]
  },
  {
   "cell_type": "markdown",
   "metadata": {},
   "source": [
    "#### Megaline Messages"
   ]
  },
  {
   "cell_type": "code",
   "execution_count": 10,
   "metadata": {},
   "outputs": [],
   "source": [
    "# Memuat data megaline messages\n",
    "try:\n",
    "    messages = pd.read_csv('/datasets/megaline_messages.csv')\n",
    "except:\n",
    "    messages = pd.read_csv('megaline_messages.csv')"
   ]
  },
  {
   "cell_type": "code",
   "execution_count": 11,
   "metadata": {},
   "outputs": [
    {
     "data": {
      "text/html": [
       "<div>\n",
       "<style scoped>\n",
       "    .dataframe tbody tr th:only-of-type {\n",
       "        vertical-align: middle;\n",
       "    }\n",
       "\n",
       "    .dataframe tbody tr th {\n",
       "        vertical-align: top;\n",
       "    }\n",
       "\n",
       "    .dataframe thead th {\n",
       "        text-align: right;\n",
       "    }\n",
       "</style>\n",
       "<table border=\"1\" class=\"dataframe\">\n",
       "  <thead>\n",
       "    <tr style=\"text-align: right;\">\n",
       "      <th></th>\n",
       "      <th>id</th>\n",
       "      <th>user_id</th>\n",
       "      <th>message_date</th>\n",
       "    </tr>\n",
       "  </thead>\n",
       "  <tbody>\n",
       "    <tr>\n",
       "      <th>0</th>\n",
       "      <td>1000_125</td>\n",
       "      <td>1000</td>\n",
       "      <td>2018-12-27</td>\n",
       "    </tr>\n",
       "    <tr>\n",
       "      <th>1</th>\n",
       "      <td>1000_160</td>\n",
       "      <td>1000</td>\n",
       "      <td>2018-12-31</td>\n",
       "    </tr>\n",
       "    <tr>\n",
       "      <th>2</th>\n",
       "      <td>1000_223</td>\n",
       "      <td>1000</td>\n",
       "      <td>2018-12-31</td>\n",
       "    </tr>\n",
       "    <tr>\n",
       "      <th>3</th>\n",
       "      <td>1000_251</td>\n",
       "      <td>1000</td>\n",
       "      <td>2018-12-27</td>\n",
       "    </tr>\n",
       "    <tr>\n",
       "      <th>4</th>\n",
       "      <td>1000_255</td>\n",
       "      <td>1000</td>\n",
       "      <td>2018-12-26</td>\n",
       "    </tr>\n",
       "  </tbody>\n",
       "</table>\n",
       "</div>"
      ],
      "text/plain": [
       "         id  user_id message_date\n",
       "0  1000_125     1000   2018-12-27\n",
       "1  1000_160     1000   2018-12-31\n",
       "2  1000_223     1000   2018-12-31\n",
       "3  1000_251     1000   2018-12-27\n",
       "4  1000_255     1000   2018-12-26"
      ]
     },
     "execution_count": 11,
     "metadata": {},
     "output_type": "execute_result"
    }
   ],
   "source": [
    "# Memuat 5 isi data \n",
    "messages.head()"
   ]
  },
  {
   "cell_type": "code",
   "execution_count": 12,
   "metadata": {},
   "outputs": [
    {
     "name": "stdout",
     "output_type": "stream",
     "text": [
      "<class 'pandas.core.frame.DataFrame'>\n",
      "RangeIndex: 76051 entries, 0 to 76050\n",
      "Data columns (total 3 columns):\n",
      " #   Column        Non-Null Count  Dtype \n",
      "---  ------        --------------  ----- \n",
      " 0   id            76051 non-null  object\n",
      " 1   user_id       76051 non-null  int64 \n",
      " 2   message_date  76051 non-null  object\n",
      "dtypes: int64(1), object(2)\n",
      "memory usage: 1.7+ MB\n"
     ]
    }
   ],
   "source": [
    "# Mendapatkan info dataset\n",
    "messages.info()"
   ]
  },
  {
   "cell_type": "code",
   "execution_count": 13,
   "metadata": {},
   "outputs": [
    {
     "data": {
      "text/plain": [
       "0"
      ]
     },
     "execution_count": 13,
     "metadata": {},
     "output_type": "execute_result"
    }
   ],
   "source": [
    "# Melakukan pengecekan data duplikat\n",
    "messages.duplicated().sum()"
   ]
  },
  {
   "cell_type": "markdown",
   "metadata": {},
   "source": [
    "<b> Mini-Conclution Megaline messages</b>\n",
    "\n",
    "Tabel messages (data SMS):\n",
    "\n",
    "<b>id</b> — ID SMS unik\n",
    "\n",
    "<b>message_date</b> — tanggal SMS dikirim\n",
    "\n",
    "<b>user_id</b> — ID pengguna yang mengirim SMS - <b>Type data 'Object' Perlu diubah menjadi 'Datetime'</b>\n",
    "\n",
    "<b>Tidak terdapat data yang duplikat</b>\n",
    "\n",
    "<b>Tidak terdapat nilai yang hilang</b>"
   ]
  },
  {
   "cell_type": "markdown",
   "metadata": {},
   "source": [
    "#### Megaline Plan"
   ]
  },
  {
   "cell_type": "code",
   "execution_count": 14,
   "metadata": {},
   "outputs": [],
   "source": [
    "# Memuat data megaline plan\n",
    "try:\n",
    "    plan = pd.read_csv('/datasets/megaline_plans.csv')\n",
    "except:\n",
    "    plan = pd.read_csv('megaline_plans.csv')"
   ]
  },
  {
   "cell_type": "code",
   "execution_count": 15,
   "metadata": {},
   "outputs": [
    {
     "data": {
      "text/html": [
       "<div>\n",
       "<style scoped>\n",
       "    .dataframe tbody tr th:only-of-type {\n",
       "        vertical-align: middle;\n",
       "    }\n",
       "\n",
       "    .dataframe tbody tr th {\n",
       "        vertical-align: top;\n",
       "    }\n",
       "\n",
       "    .dataframe thead th {\n",
       "        text-align: right;\n",
       "    }\n",
       "</style>\n",
       "<table border=\"1\" class=\"dataframe\">\n",
       "  <thead>\n",
       "    <tr style=\"text-align: right;\">\n",
       "      <th></th>\n",
       "      <th>messages_included</th>\n",
       "      <th>mb_per_month_included</th>\n",
       "      <th>minutes_included</th>\n",
       "      <th>usd_monthly_pay</th>\n",
       "      <th>usd_per_gb</th>\n",
       "      <th>usd_per_message</th>\n",
       "      <th>usd_per_minute</th>\n",
       "      <th>plan_name</th>\n",
       "    </tr>\n",
       "  </thead>\n",
       "  <tbody>\n",
       "    <tr>\n",
       "      <th>0</th>\n",
       "      <td>50</td>\n",
       "      <td>15360</td>\n",
       "      <td>500</td>\n",
       "      <td>20</td>\n",
       "      <td>10</td>\n",
       "      <td>0.03</td>\n",
       "      <td>0.03</td>\n",
       "      <td>surf</td>\n",
       "    </tr>\n",
       "    <tr>\n",
       "      <th>1</th>\n",
       "      <td>1000</td>\n",
       "      <td>30720</td>\n",
       "      <td>3000</td>\n",
       "      <td>70</td>\n",
       "      <td>7</td>\n",
       "      <td>0.01</td>\n",
       "      <td>0.01</td>\n",
       "      <td>ultimate</td>\n",
       "    </tr>\n",
       "  </tbody>\n",
       "</table>\n",
       "</div>"
      ],
      "text/plain": [
       "   messages_included  mb_per_month_included  minutes_included  \\\n",
       "0                 50                  15360               500   \n",
       "1               1000                  30720              3000   \n",
       "\n",
       "   usd_monthly_pay  usd_per_gb  usd_per_message  usd_per_minute plan_name  \n",
       "0               20          10             0.03            0.03      surf  \n",
       "1               70           7             0.01            0.01  ultimate  "
      ]
     },
     "execution_count": 15,
     "metadata": {},
     "output_type": "execute_result"
    }
   ],
   "source": [
    "# Memuat 5 isi data \n",
    "plan.head()"
   ]
  },
  {
   "cell_type": "code",
   "execution_count": 16,
   "metadata": {},
   "outputs": [
    {
     "name": "stdout",
     "output_type": "stream",
     "text": [
      "<class 'pandas.core.frame.DataFrame'>\n",
      "RangeIndex: 2 entries, 0 to 1\n",
      "Data columns (total 8 columns):\n",
      " #   Column                 Non-Null Count  Dtype  \n",
      "---  ------                 --------------  -----  \n",
      " 0   messages_included      2 non-null      int64  \n",
      " 1   mb_per_month_included  2 non-null      int64  \n",
      " 2   minutes_included       2 non-null      int64  \n",
      " 3   usd_monthly_pay        2 non-null      int64  \n",
      " 4   usd_per_gb             2 non-null      int64  \n",
      " 5   usd_per_message        2 non-null      float64\n",
      " 6   usd_per_minute         2 non-null      float64\n",
      " 7   plan_name              2 non-null      object \n",
      "dtypes: float64(2), int64(5), object(1)\n",
      "memory usage: 256.0+ bytes\n"
     ]
    }
   ],
   "source": [
    "# Mendapatkan info dataset\n",
    "plan.info()"
   ]
  },
  {
   "cell_type": "markdown",
   "metadata": {},
   "source": [
    "<b> Mini-Conclution Megaline plan</b>\n",
    "\n",
    "Tabel plans (data paket telepon):\n",
    "\n",
    "<b>plan_name</b> — nama paket telepon\n",
    "\n",
    "<b>usd_monthly_fee</b> — biaya bulanan dalam dolar AS\n",
    "\n",
    "<b>minutes_included</b> — alokasi panggilan bulanan dalam menit\n",
    "\n",
    "<b>messages_included</b> — alokasi SMS bulanan\n",
    "\n",
    "<b>mb_per_month_included</b> — alokasi volume data bulanan (dalam megabita)\n",
    "\n",
    "<b>usd_per_minute</b> — harga per menit jika telah melebihi batas alokasi paket (misalnya, jika paket memiliki alokasi 100 menit, maka penggunaan mulai dari menit ke-101 akan dikenakan biaya)\n",
    "\n",
    "<b>usd_per_message</b> — harga per SMS jika telah melebihi batas alokasi paket\n",
    "\n",
    "<b>usd_per_gb</b> — harga per ekstra gigabita data jika telah melebihi batas alokasi paket (1 GB = 1024 megabita)"
   ]
  },
  {
   "cell_type": "markdown",
   "metadata": {},
   "source": [
    "<div class=\"alert alert-warning\">\n",
    "<b>Chamdani comment v.1</b> <a class=\"tocSkip\"></a>\n",
    "\n",
    "Secara keseluruhan bagus. Namun saya melihat masih ada beberapa kalimat yang sedikit ambigu kemungkinan karena hasil translate bahasa yang kurang tepat. Seperti contoh `alokasi menit panggilan bulanan` akan lebih baik ditulis `alokasi panggilan bulanan dalam menit`\n",
    "\n",
    "</div>"
   ]
  },
  {
   "cell_type": "markdown",
   "metadata": {},
   "source": [
    "<div class=\"alert alert-danger\">\n",
    "<b>Chamdani comment v.2</b> <a class=\"tocSkip\"></a>\n",
    "\n",
    "Mohon perhatikan komentar warna kuning dan merah ya :)\n",
    "\n",
    "</div>\n",
    "\n",
    "<div class=\"alert alert-block alert-info\">\n",
    "<b>Student answer v.2</b> <a class=\"tocSkip\"></a>\n",
    "    \n",
    "Baik kak.\n",
    "</div>"
   ]
  },
  {
   "cell_type": "markdown",
   "metadata": {},
   "source": [
    "<div class=\"alert alert-success\">\n",
    "<b>Chamdani comment v.3</b> <a class=\"tocSkip\"></a>\n",
    "    \n",
    "Great!\n",
    "\n",
    "</div>"
   ]
  },
  {
   "cell_type": "markdown",
   "metadata": {},
   "source": [
    "#### Megaline Users"
   ]
  },
  {
   "cell_type": "code",
   "execution_count": 17,
   "metadata": {},
   "outputs": [],
   "source": [
    "# Memuat data megaline users\n",
    "try:\n",
    "    users = pd.read_csv('/datasets/megaline_users.csv')\n",
    "except:\n",
    "    users = pd.read_csv('megaline_users.csv')"
   ]
  },
  {
   "cell_type": "code",
   "execution_count": 18,
   "metadata": {},
   "outputs": [
    {
     "data": {
      "text/html": [
       "<div>\n",
       "<style scoped>\n",
       "    .dataframe tbody tr th:only-of-type {\n",
       "        vertical-align: middle;\n",
       "    }\n",
       "\n",
       "    .dataframe tbody tr th {\n",
       "        vertical-align: top;\n",
       "    }\n",
       "\n",
       "    .dataframe thead th {\n",
       "        text-align: right;\n",
       "    }\n",
       "</style>\n",
       "<table border=\"1\" class=\"dataframe\">\n",
       "  <thead>\n",
       "    <tr style=\"text-align: right;\">\n",
       "      <th></th>\n",
       "      <th>user_id</th>\n",
       "      <th>first_name</th>\n",
       "      <th>last_name</th>\n",
       "      <th>age</th>\n",
       "      <th>city</th>\n",
       "      <th>reg_date</th>\n",
       "      <th>plan</th>\n",
       "      <th>churn_date</th>\n",
       "    </tr>\n",
       "  </thead>\n",
       "  <tbody>\n",
       "    <tr>\n",
       "      <th>0</th>\n",
       "      <td>1000</td>\n",
       "      <td>Anamaria</td>\n",
       "      <td>Bauer</td>\n",
       "      <td>45</td>\n",
       "      <td>Atlanta-Sandy Springs-Roswell, GA MSA</td>\n",
       "      <td>2018-12-24</td>\n",
       "      <td>ultimate</td>\n",
       "      <td>NaN</td>\n",
       "    </tr>\n",
       "    <tr>\n",
       "      <th>1</th>\n",
       "      <td>1001</td>\n",
       "      <td>Mickey</td>\n",
       "      <td>Wilkerson</td>\n",
       "      <td>28</td>\n",
       "      <td>Seattle-Tacoma-Bellevue, WA MSA</td>\n",
       "      <td>2018-08-13</td>\n",
       "      <td>surf</td>\n",
       "      <td>NaN</td>\n",
       "    </tr>\n",
       "    <tr>\n",
       "      <th>2</th>\n",
       "      <td>1002</td>\n",
       "      <td>Carlee</td>\n",
       "      <td>Hoffman</td>\n",
       "      <td>36</td>\n",
       "      <td>Las Vegas-Henderson-Paradise, NV MSA</td>\n",
       "      <td>2018-10-21</td>\n",
       "      <td>surf</td>\n",
       "      <td>NaN</td>\n",
       "    </tr>\n",
       "    <tr>\n",
       "      <th>3</th>\n",
       "      <td>1003</td>\n",
       "      <td>Reynaldo</td>\n",
       "      <td>Jenkins</td>\n",
       "      <td>52</td>\n",
       "      <td>Tulsa, OK MSA</td>\n",
       "      <td>2018-01-28</td>\n",
       "      <td>surf</td>\n",
       "      <td>NaN</td>\n",
       "    </tr>\n",
       "    <tr>\n",
       "      <th>4</th>\n",
       "      <td>1004</td>\n",
       "      <td>Leonila</td>\n",
       "      <td>Thompson</td>\n",
       "      <td>40</td>\n",
       "      <td>Seattle-Tacoma-Bellevue, WA MSA</td>\n",
       "      <td>2018-05-23</td>\n",
       "      <td>surf</td>\n",
       "      <td>NaN</td>\n",
       "    </tr>\n",
       "  </tbody>\n",
       "</table>\n",
       "</div>"
      ],
      "text/plain": [
       "   user_id first_name  last_name  age                                   city  \\\n",
       "0     1000   Anamaria      Bauer   45  Atlanta-Sandy Springs-Roswell, GA MSA   \n",
       "1     1001     Mickey  Wilkerson   28        Seattle-Tacoma-Bellevue, WA MSA   \n",
       "2     1002     Carlee    Hoffman   36   Las Vegas-Henderson-Paradise, NV MSA   \n",
       "3     1003   Reynaldo    Jenkins   52                          Tulsa, OK MSA   \n",
       "4     1004    Leonila   Thompson   40        Seattle-Tacoma-Bellevue, WA MSA   \n",
       "\n",
       "     reg_date      plan churn_date  \n",
       "0  2018-12-24  ultimate        NaN  \n",
       "1  2018-08-13      surf        NaN  \n",
       "2  2018-10-21      surf        NaN  \n",
       "3  2018-01-28      surf        NaN  \n",
       "4  2018-05-23      surf        NaN  "
      ]
     },
     "execution_count": 18,
     "metadata": {},
     "output_type": "execute_result"
    }
   ],
   "source": [
    "# Memuat 5 isi data \n",
    "users.head()"
   ]
  },
  {
   "cell_type": "code",
   "execution_count": 19,
   "metadata": {},
   "outputs": [
    {
     "name": "stdout",
     "output_type": "stream",
     "text": [
      "<class 'pandas.core.frame.DataFrame'>\n",
      "RangeIndex: 500 entries, 0 to 499\n",
      "Data columns (total 8 columns):\n",
      " #   Column      Non-Null Count  Dtype \n",
      "---  ------      --------------  ----- \n",
      " 0   user_id     500 non-null    int64 \n",
      " 1   first_name  500 non-null    object\n",
      " 2   last_name   500 non-null    object\n",
      " 3   age         500 non-null    int64 \n",
      " 4   city        500 non-null    object\n",
      " 5   reg_date    500 non-null    object\n",
      " 6   plan        500 non-null    object\n",
      " 7   churn_date  34 non-null     object\n",
      "dtypes: int64(2), object(6)\n",
      "memory usage: 31.4+ KB\n"
     ]
    }
   ],
   "source": [
    "# Mendapatkan info dataset\n",
    "users.info()"
   ]
  },
  {
   "cell_type": "code",
   "execution_count": 20,
   "metadata": {},
   "outputs": [
    {
     "data": {
      "text/plain": [
       "0"
      ]
     },
     "execution_count": 20,
     "metadata": {},
     "output_type": "execute_result"
    }
   ],
   "source": [
    "# Melakukan pengecekan data duplikat\n",
    "users.duplicated().sum()"
   ]
  },
  {
   "cell_type": "markdown",
   "metadata": {},
   "source": [
    "<b> Mini-Conclution Megaline users</b>\n",
    "\n",
    "Tabel users (data pengguna):\n",
    "\n",
    "<b>user_id</b> — ID pengguna\n",
    "\n",
    "<b>first_name</b> — nama depan pengguna\n",
    "\n",
    "<b>last_name</b> — nama belakang pengguna\n",
    "\n",
    "<b>age</b> — usia pengguna (tahun)\n",
    "\n",
    "<b>reg_date</b> — tanggal mulai berlangganan (dd, mm, yy)\n",
    "\n",
    "<b>churn_date</b> — tanggal pengguna berhenti menggunakan layanan (jika nilainya hilang atau tidak ada, berarti paket layanan sedang digunakan saat data ini dibuat)\n",
    "\n",
    "<b>city</b> — kota tempat tinggal pengguna\n",
    "\n",
    "<b>plan</b> — nama paket telepon"
   ]
  },
  {
   "cell_type": "markdown",
   "metadata": {},
   "source": [
    "### Data Exploring"
   ]
  },
  {
   "cell_type": "markdown",
   "metadata": {},
   "source": [
    "#### Megaline Calls"
   ]
  },
  {
   "cell_type": "code",
   "execution_count": 21,
   "metadata": {},
   "outputs": [
    {
     "name": "stdout",
     "output_type": "stream",
     "text": [
      "id\n",
      "['1000_93' '1000_145' '1000_247' ... '1499_201' '1499_202' '1499_203']\n",
      "\n",
      "user_id\n",
      "[1000 1001 1002 1003 1004 1005 1006 1007 1008 1009 1010 1011 1012 1013\n",
      " 1014 1015 1016 1017 1018 1019 1020 1021 1022 1023 1024 1026 1027 1028\n",
      " 1029 1030 1031 1032 1033 1034 1035 1036 1037 1038 1039 1040 1041 1042\n",
      " 1043 1044 1045 1046 1047 1048 1049 1050 1051 1052 1053 1054 1055 1056\n",
      " 1057 1058 1059 1060 1061 1062 1063 1064 1065 1066 1067 1068 1069 1070\n",
      " 1071 1072 1073 1074 1075 1076 1077 1078 1079 1081 1082 1083 1084 1085\n",
      " 1086 1087 1088 1090 1091 1092 1093 1094 1095 1096 1097 1098 1099 1100\n",
      " 1101 1102 1103 1104 1105 1106 1107 1109 1110 1111 1112 1113 1114 1115\n",
      " 1116 1117 1118 1119 1120 1122 1123 1124 1125 1126 1127 1128 1130 1132\n",
      " 1133 1134 1135 1136 1138 1139 1140 1141 1142 1144 1145 1146 1147 1148\n",
      " 1149 1150 1151 1152 1153 1154 1155 1156 1157 1158 1159 1160 1161 1162\n",
      " 1163 1164 1165 1166 1167 1168 1169 1170 1171 1172 1173 1174 1175 1176\n",
      " 1177 1178 1179 1180 1181 1182 1183 1184 1185 1186 1187 1188 1189 1190\n",
      " 1191 1192 1193 1195 1196 1197 1198 1199 1200 1201 1202 1203 1205 1206\n",
      " 1207 1208 1209 1210 1211 1212 1213 1214 1215 1216 1217 1218 1219 1220\n",
      " 1221 1222 1223 1224 1225 1226 1227 1228 1229 1230 1231 1232 1233 1234\n",
      " 1235 1236 1237 1238 1239 1240 1241 1242 1243 1244 1245 1246 1247 1248\n",
      " 1249 1250 1251 1252 1253 1254 1255 1256 1257 1258 1259 1260 1261 1262\n",
      " 1263 1264 1265 1266 1267 1268 1270 1271 1272 1273 1274 1276 1277 1278\n",
      " 1279 1280 1281 1282 1283 1284 1285 1286 1287 1288 1289 1290 1291 1292\n",
      " 1293 1294 1295 1296 1297 1298 1299 1300 1301 1302 1303 1304 1305 1306\n",
      " 1308 1309 1310 1311 1312 1313 1314 1315 1316 1317 1318 1320 1321 1322\n",
      " 1323 1324 1325 1326 1327 1328 1329 1330 1331 1332 1333 1334 1335 1336\n",
      " 1337 1338 1339 1340 1341 1342 1343 1344 1345 1346 1347 1348 1350 1351\n",
      " 1352 1353 1354 1355 1356 1357 1358 1359 1360 1361 1362 1363 1364 1365\n",
      " 1366 1367 1368 1369 1370 1371 1372 1373 1374 1375 1376 1377 1379 1380\n",
      " 1381 1382 1383 1384 1385 1386 1387 1388 1389 1390 1391 1392 1393 1394\n",
      " 1395 1396 1397 1398 1399 1400 1401 1402 1403 1404 1405 1406 1407 1408\n",
      " 1409 1410 1411 1412 1413 1414 1415 1416 1417 1418 1419 1420 1421 1422\n",
      " 1423 1424 1425 1426 1427 1428 1429 1430 1431 1432 1433 1434 1435 1436\n",
      " 1437 1438 1439 1440 1441 1442 1443 1444 1445 1446 1447 1448 1449 1450\n",
      " 1451 1452 1453 1454 1455 1456 1457 1458 1459 1460 1461 1462 1464 1465\n",
      " 1466 1467 1468 1469 1470 1471 1472 1474 1475 1476 1477 1478 1479 1480\n",
      " 1481 1482 1483 1484 1485 1486 1487 1488 1489 1490 1491 1492 1493 1494\n",
      " 1495 1496 1497 1498 1499]\n",
      "\n",
      "call_date\n",
      "['2018-12-27' '2018-12-28' '2018-12-30' '2018-12-31' '2018-12-26'\n",
      " '2018-12-29' '2018-09-06' '2018-10-12' '2018-10-17' '2018-12-05'\n",
      " '2018-12-13' '2018-12-04' '2018-11-17' '2018-11-19' '2018-11-09'\n",
      " '2018-12-24' '2018-11-15' '2018-09-21' '2018-10-27' '2018-10-28'\n",
      " '2018-09-30' '2018-11-03' '2018-11-25' '2018-12-21' '2018-12-07'\n",
      " '2018-08-28' '2018-12-01' '2018-11-08' '2018-09-14' '2018-11-23'\n",
      " '2018-10-24' '2018-12-11' '2018-12-16' '2018-12-19' '2018-12-20'\n",
      " '2018-12-10' '2018-09-17' '2018-11-24' '2018-10-14' '2018-10-04'\n",
      " '2018-10-31' '2018-10-07' '2018-09-24' '2018-10-16' '2018-10-21'\n",
      " '2018-11-14' '2018-08-17' '2018-09-15' '2018-11-06' '2018-11-30'\n",
      " '2018-08-16' '2018-09-16' '2018-12-02' '2018-09-07' '2018-09-28'\n",
      " '2018-11-11' '2018-09-22' '2018-10-03' '2018-11-04' '2018-10-30'\n",
      " '2018-08-23' '2018-10-23' '2018-11-10' '2018-08-24' '2018-09-05'\n",
      " '2018-08-18' '2018-09-18' '2018-08-14' '2018-08-21' '2018-11-26'\n",
      " '2018-12-08' '2018-09-03' '2018-11-18' '2018-08-27' '2018-11-29'\n",
      " '2018-11-21' '2018-08-25' '2018-10-15' '2018-09-12' '2018-11-07'\n",
      " '2018-09-02' '2018-10-26' '2018-09-23' '2018-10-05' '2018-10-13'\n",
      " '2018-09-10' '2018-09-04' '2018-11-05' '2018-11-28' '2018-12-22'\n",
      " '2018-11-20' '2018-11-16' '2018-08-31' '2018-10-08' '2018-08-20'\n",
      " '2018-11-13' '2018-09-09' '2018-09-13' '2018-09-27' '2018-09-20'\n",
      " '2018-11-12' '2018-08-29' '2018-12-23' '2018-09-11' '2018-10-25'\n",
      " '2018-09-01' '2018-12-09' '2018-10-02' '2018-09-08' '2018-11-01'\n",
      " '2018-10-11' '2018-11-22' '2018-08-19' '2018-10-19' '2018-12-15'\n",
      " '2018-11-02' '2018-12-17' '2018-12-06' '2018-11-27' '2018-10-29'\n",
      " '2018-12-03' '2018-12-12' '2018-12-25' '2018-12-14' '2018-12-18'\n",
      " '2018-07-28' '2018-06-13' '2018-09-25' '2018-07-20' '2018-06-10'\n",
      " '2018-08-04' '2018-05-27' '2018-06-24' '2018-07-19' '2018-10-01'\n",
      " '2018-08-26' '2018-07-01' '2018-07-22' '2018-07-15' '2018-06-16'\n",
      " '2018-06-06' '2018-06-14' '2018-07-10' '2018-07-13' '2018-07-07'\n",
      " '2018-06-20' '2018-10-06' '2018-05-31' '2018-06-28' '2018-07-14'\n",
      " '2018-07-16' '2018-07-21' '2018-07-29' '2018-06-04' '2018-06-03'\n",
      " '2018-08-22' '2018-06-23' '2018-06-29' '2018-05-24' '2018-06-22'\n",
      " '2018-10-22' '2018-05-25' '2018-05-26' '2018-05-28' '2018-07-17'\n",
      " '2018-10-09' '2018-08-13' '2018-08-08' '2018-07-12' '2018-06-05'\n",
      " '2018-06-08' '2018-05-29' '2018-08-30' '2018-08-06' '2018-06-02'\n",
      " '2018-08-09' '2018-08-07' '2018-07-30' '2018-08-11' '2018-10-20'\n",
      " '2018-08-12' '2018-08-10' '2018-07-09' '2018-07-23' '2018-07-08'\n",
      " '2018-07-24' '2018-06-12' '2018-06-11' '2018-10-18' '2018-09-19'\n",
      " '2018-06-19' '2018-07-06' '2018-06-17' '2018-07-18' '2018-06-25'\n",
      " '2018-05-30' '2018-06-27' '2018-07-03' '2018-08-15' '2018-06-21'\n",
      " '2018-07-31' '2018-09-26' '2018-08-05' '2018-06-07' '2018-09-29'\n",
      " '2018-10-10' '2018-05-12' '2018-06-09' '2018-05-16' '2018-07-02'\n",
      " '2018-07-11' '2018-08-03' '2018-05-18' '2018-05-10' '2018-07-26'\n",
      " '2018-08-02' '2018-06-30' '2018-06-18' '2018-07-05' '2018-05-13'\n",
      " '2018-07-27' '2018-05-17' '2018-05-23' '2018-05-15' '2018-08-01'\n",
      " '2018-07-25' '2018-05-11' '2018-05-14' '2018-06-01' '2018-05-20'\n",
      " '2018-06-15' '2018-06-26' '2018-05-22' '2018-07-04' '2018-05-21'\n",
      " '2018-05-19' '2018-03-15' '2018-03-28' '2018-04-06' '2018-04-08'\n",
      " '2018-04-04' '2018-03-10' '2018-04-13' '2018-05-06' '2018-03-13'\n",
      " '2018-04-30' '2018-03-12' '2018-04-02' '2018-05-05' '2018-04-19'\n",
      " '2018-03-27' '2018-03-29' '2018-04-15' '2018-04-29' '2018-04-28'\n",
      " '2018-04-12' '2018-04-23' '2018-03-16' '2018-03-22' '2018-04-11'\n",
      " '2018-04-17' '2018-04-14' '2018-04-16' '2018-03-31' '2018-03-26'\n",
      " '2018-05-03' '2018-03-23' '2018-04-09' '2018-04-10' '2018-04-27'\n",
      " '2018-05-08' '2018-04-18' '2018-03-19' '2018-03-18' '2018-03-24'\n",
      " '2018-03-17' '2018-04-26' '2018-04-21' '2018-05-04' '2018-05-09'\n",
      " '2018-04-22' '2018-04-20' '2018-04-25' '2018-04-07' '2018-03-25'\n",
      " '2018-03-14' '2018-03-11' '2018-03-30' '2018-03-20' '2018-04-03'\n",
      " '2018-04-01' '2018-04-05' '2018-05-07' '2018-05-01' '2018-03-21'\n",
      " '2018-03-04' '2018-04-24' '2018-05-02' '2018-03-09' '2018-03-06'\n",
      " '2018-02-04' '2018-01-22' '2018-01-29' '2018-01-19' '2018-02-17'\n",
      " '2018-02-23' '2018-02-16' '2018-02-25' '2018-02-22' '2018-03-05'\n",
      " '2018-02-01' '2018-03-08' '2018-01-31' '2018-02-14' '2018-02-24'\n",
      " '2018-01-27' '2018-02-09' '2018-01-25' '2018-01-17' '2018-02-03'\n",
      " '2018-01-28' '2018-02-11' '2018-02-08' '2018-02-13' '2018-03-07'\n",
      " '2018-01-23' '2018-02-15' '2018-01-16' '2018-03-02' '2018-02-12'\n",
      " '2018-02-07' '2018-02-05' '2018-02-02' '2018-02-06' '2018-02-27'\n",
      " '2018-01-30' '2018-01-20' '2018-01-18' '2018-03-03' '2018-01-15'\n",
      " '2018-03-01' '2018-02-26' '2018-02-10' '2018-02-19' '2018-02-18'\n",
      " '2018-02-21' '2018-01-24' '2018-02-20' '2018-02-28' '2018-01-26'\n",
      " '2018-01-21']\n",
      "\n",
      "duration\n",
      "[ 8.52 13.66 14.48 ... 27.53 22.57 25.18]\n",
      "\n"
     ]
    }
   ],
   "source": [
    "for i in calls:\n",
    "    print(i)\n",
    "    print(calls[i].unique())\n",
    "    print()"
   ]
  },
  {
   "cell_type": "markdown",
   "metadata": {},
   "source": [
    "#### Megaline Internet"
   ]
  },
  {
   "cell_type": "code",
   "execution_count": 22,
   "metadata": {},
   "outputs": [
    {
     "name": "stdout",
     "output_type": "stream",
     "text": [
      "id\n",
      "['1000_13' '1000_204' '1000_379' ... '1499_217' '1499_218' '1499_219']\n",
      "\n",
      "user_id\n",
      "[1000 1001 1002 1003 1004 1005 1006 1007 1008 1009 1010 1011 1012 1013\n",
      " 1014 1015 1016 1017 1018 1019 1020 1021 1022 1023 1024 1026 1027 1028\n",
      " 1029 1030 1031 1032 1033 1034 1035 1036 1037 1038 1039 1040 1041 1042\n",
      " 1043 1044 1045 1046 1047 1048 1049 1050 1051 1052 1053 1054 1055 1056\n",
      " 1057 1058 1059 1060 1061 1062 1063 1064 1065 1066 1067 1068 1069 1070\n",
      " 1071 1072 1073 1074 1075 1076 1077 1078 1079 1080 1081 1082 1083 1084\n",
      " 1085 1086 1087 1088 1089 1090 1091 1092 1093 1094 1095 1096 1097 1098\n",
      " 1099 1100 1101 1102 1103 1104 1105 1106 1107 1108 1109 1110 1111 1112\n",
      " 1113 1114 1115 1116 1117 1118 1119 1120 1121 1122 1123 1124 1125 1126\n",
      " 1127 1128 1130 1131 1132 1133 1134 1135 1136 1137 1138 1139 1140 1141\n",
      " 1142 1144 1145 1146 1147 1148 1149 1150 1151 1152 1153 1154 1155 1156\n",
      " 1157 1158 1159 1160 1161 1162 1163 1164 1165 1166 1167 1168 1169 1170\n",
      " 1171 1172 1173 1174 1175 1176 1177 1178 1179 1180 1181 1182 1183 1184\n",
      " 1185 1186 1187 1188 1189 1190 1191 1192 1193 1194 1195 1196 1197 1198\n",
      " 1199 1200 1201 1202 1203 1204 1205 1206 1207 1208 1209 1210 1211 1212\n",
      " 1213 1214 1215 1216 1217 1218 1219 1220 1221 1222 1223 1224 1225 1226\n",
      " 1227 1228 1229 1230 1231 1232 1233 1234 1235 1236 1237 1238 1239 1240\n",
      " 1241 1242 1243 1244 1245 1246 1247 1248 1249 1250 1251 1252 1253 1254\n",
      " 1255 1256 1257 1258 1259 1260 1261 1262 1263 1264 1265 1266 1267 1268\n",
      " 1270 1271 1272 1273 1274 1276 1277 1278 1279 1280 1281 1282 1283 1284\n",
      " 1285 1286 1287 1288 1289 1290 1291 1292 1293 1294 1295 1296 1297 1298\n",
      " 1299 1300 1301 1302 1303 1304 1305 1306 1308 1309 1310 1311 1312 1313\n",
      " 1314 1315 1316 1317 1318 1320 1321 1322 1323 1324 1325 1326 1327 1328\n",
      " 1329 1330 1331 1332 1333 1334 1335 1336 1337 1338 1339 1340 1341 1342\n",
      " 1343 1344 1345 1346 1347 1348 1349 1350 1351 1352 1353 1354 1355 1356\n",
      " 1357 1358 1359 1360 1361 1362 1363 1364 1365 1366 1367 1368 1369 1370\n",
      " 1371 1372 1373 1374 1375 1376 1377 1379 1380 1381 1382 1383 1384 1385\n",
      " 1386 1387 1388 1389 1390 1391 1392 1393 1394 1395 1396 1397 1398 1399\n",
      " 1400 1401 1402 1403 1404 1405 1406 1407 1408 1409 1410 1411 1412 1413\n",
      " 1414 1415 1416 1417 1418 1419 1420 1421 1422 1423 1424 1425 1426 1427\n",
      " 1428 1429 1430 1431 1432 1433 1434 1435 1436 1437 1438 1439 1440 1441\n",
      " 1442 1443 1444 1445 1446 1447 1448 1449 1450 1451 1452 1453 1454 1455\n",
      " 1456 1457 1458 1459 1460 1461 1462 1464 1465 1466 1467 1468 1469 1471\n",
      " 1472 1474 1475 1476 1477 1478 1479 1480 1481 1482 1483 1484 1485 1486\n",
      " 1487 1488 1489 1490 1491 1492 1493 1494 1495 1496 1497 1498 1499]\n",
      "\n",
      "session_date\n",
      "['2018-12-29' '2018-12-31' '2018-12-28' '2018-12-26' '2018-12-27'\n",
      " '2018-08-24' '2018-12-09' '2018-11-04' '2018-11-27' '2018-12-13'\n",
      " '2018-10-28' '2018-09-05' '2018-10-14' '2018-09-17' '2018-10-17'\n",
      " '2018-10-09' '2018-09-27' '2018-09-18' '2018-11-25' '2018-12-03'\n",
      " '2018-11-16' '2018-10-23' '2018-12-07' '2018-09-08' '2018-10-18'\n",
      " '2018-11-17' '2018-11-10' '2018-09-02' '2018-11-28' '2018-12-10'\n",
      " '2018-09-06' '2018-10-04' '2018-11-11' '2018-10-31' '2018-12-24'\n",
      " '2018-10-13' '2018-12-16' '2018-09-30' '2018-08-29' '2018-09-22'\n",
      " '2018-08-27' '2018-11-20' '2018-08-18' '2018-08-16' '2018-10-21'\n",
      " '2018-10-10' '2018-10-05' '2018-09-28' '2018-11-01' '2018-12-02'\n",
      " '2018-10-03' '2018-09-24' '2018-08-17' '2018-10-26' '2018-11-24'\n",
      " '2018-10-19' '2018-10-02' '2018-09-01' '2018-09-21' '2018-08-31'\n",
      " '2018-12-04' '2018-09-13' '2018-12-21' '2018-11-21' '2018-11-05'\n",
      " '2018-10-01' '2018-12-15' '2018-10-22' '2018-11-18' '2018-09-07'\n",
      " '2018-08-25' '2018-08-21' '2018-12-14' '2018-09-16' '2018-09-09'\n",
      " '2018-12-18' '2018-11-19' '2018-10-08' '2018-09-19' '2018-12-20'\n",
      " '2018-11-06' '2018-12-25' '2018-11-07' '2018-10-27' '2018-11-30'\n",
      " '2018-12-30' '2018-12-12' '2018-11-09' '2018-10-24' '2018-12-17'\n",
      " '2018-08-22' '2018-09-25' '2018-12-08' '2018-11-12' '2018-08-15'\n",
      " '2018-11-15' '2018-12-23' '2018-11-14' '2018-12-11' '2018-10-12'\n",
      " '2018-10-11' '2018-12-05' '2018-09-23' '2018-08-30' '2018-10-16'\n",
      " '2018-11-03' '2018-09-11' '2018-08-28' '2018-11-22' '2018-11-29'\n",
      " '2018-11-23' '2018-09-20' '2018-09-12' '2018-11-26' '2018-08-19'\n",
      " '2018-11-02' '2018-09-29' '2018-09-04' '2018-10-06' '2018-08-23'\n",
      " '2018-08-20' '2018-12-06' '2018-10-25' '2018-10-29' '2018-12-19'\n",
      " '2018-10-30' '2018-11-08' '2018-11-13' '2018-12-22' '2018-08-14'\n",
      " '2018-07-02' '2018-06-15' '2018-06-29' '2018-06-30' '2018-09-10'\n",
      " '2018-07-18' '2018-06-16' '2018-06-08' '2018-06-22' '2018-05-29'\n",
      " '2018-07-24' '2018-09-15' '2018-07-22' '2018-07-16' '2018-07-21'\n",
      " '2018-07-14' '2018-07-25' '2018-10-20' '2018-12-01' '2018-08-08'\n",
      " '2018-08-26' '2018-05-27' '2018-08-04' '2018-06-02' '2018-08-12'\n",
      " '2018-06-04' '2018-06-19' '2018-06-18' '2018-06-13' '2018-07-07'\n",
      " '2018-07-06' '2018-05-24' '2018-07-13' '2018-08-05' '2018-08-13'\n",
      " '2018-06-27' '2018-06-25' '2018-07-28' '2018-08-01' '2018-06-06'\n",
      " '2018-06-11' '2018-07-19' '2018-08-06' '2018-05-25' '2018-06-26'\n",
      " '2018-07-03' '2018-10-07' '2018-07-20' '2018-08-09' '2018-07-09'\n",
      " '2018-06-17' '2018-06-12' '2018-05-31' '2018-06-01' '2018-07-04'\n",
      " '2018-05-26' '2018-09-14' '2018-06-14' '2018-08-11' '2018-08-07'\n",
      " '2018-07-27' '2018-07-17' '2018-05-30' '2018-08-02' '2018-07-10'\n",
      " '2018-06-20' '2018-06-10' '2018-06-09' '2018-07-26' '2018-07-23'\n",
      " '2018-05-28' '2018-06-21' '2018-10-15' '2018-07-29' '2018-09-03'\n",
      " '2018-07-31' '2018-08-03' '2018-07-11' '2018-07-05' '2018-06-07'\n",
      " '2018-06-05' '2018-07-12' '2018-09-26' '2018-05-10' '2018-07-08'\n",
      " '2018-05-20' '2018-05-23' '2018-06-24' '2018-07-15' '2018-07-01'\n",
      " '2018-05-22' '2018-05-19' '2018-05-18' '2018-05-13' '2018-05-11'\n",
      " '2018-05-15' '2018-05-16' '2018-06-28' '2018-05-12' '2018-05-17'\n",
      " '2018-05-14' '2018-07-30' '2018-05-21' '2018-06-23' '2018-03-28'\n",
      " '2018-03-24' '2018-04-22' '2018-04-24' '2018-05-05' '2018-04-12'\n",
      " '2018-04-21' '2018-05-08' '2018-03-17' '2018-04-27' '2018-03-27'\n",
      " '2018-04-10' '2018-04-29' '2018-05-04' '2018-04-06' '2018-03-21'\n",
      " '2018-03-15' '2018-03-12' '2018-03-26' '2018-03-22' '2018-06-03'\n",
      " '2018-04-01' '2018-04-23' '2018-03-23' '2018-03-30' '2018-04-28'\n",
      " '2018-04-20' '2018-03-19' '2018-05-09' '2018-05-06' '2018-05-01'\n",
      " '2018-04-15' '2018-04-26' '2018-04-04' '2018-05-03' '2018-03-18'\n",
      " '2018-04-02' '2018-04-25' '2018-04-03' '2018-03-13' '2018-04-05'\n",
      " '2018-04-16' '2018-05-07' '2018-04-08' '2018-04-17' '2018-03-25'\n",
      " '2018-04-30' '2018-04-19' '2018-03-14' '2018-04-14' '2018-03-29'\n",
      " '2018-05-02' '2018-03-31' '2018-03-11' '2018-04-09' '2018-08-10'\n",
      " '2018-04-07' '2018-04-11' '2018-04-18' '2018-02-23' '2018-03-01'\n",
      " '2018-03-09' '2018-02-27' '2018-02-28' '2018-02-26' '2018-02-24'\n",
      " '2018-03-03' '2018-03-08' '2018-04-13' '2018-03-06' '2018-03-10'\n",
      " '2018-03-16' '2018-03-04' '2018-02-25' '2018-03-20' '2018-02-22'\n",
      " '2018-02-07' '2018-01-27' '2018-01-17' '2018-03-02' '2018-02-03'\n",
      " '2018-02-18' '2018-01-31' '2018-02-11' '2018-01-21' '2018-02-05'\n",
      " '2018-01-26' '2018-01-22' '2018-02-04' '2018-03-07' '2018-02-12'\n",
      " '2018-02-20' '2018-02-13' '2018-02-16' '2018-01-29' '2018-01-20'\n",
      " '2018-02-02' '2018-01-30' '2018-02-19' '2018-01-19' '2018-02-06'\n",
      " '2018-01-16' '2018-01-24' '2018-03-05' '2018-01-25' '2018-01-15'\n",
      " '2018-02-01' '2018-02-17' '2018-01-23' '2018-02-10' '2018-02-15'\n",
      " '2018-02-14' '2018-02-08' '2018-02-09' '2018-01-28' '2018-02-21'\n",
      " '2018-01-18']\n",
      "\n",
      "mb_used\n",
      "[ 89.86   0.   660.4  ... 753.43 304.72 758.31]\n",
      "\n"
     ]
    }
   ],
   "source": [
    "for i in internet:\n",
    "    print(i)\n",
    "    print(internet[i].unique())\n",
    "    print()"
   ]
  },
  {
   "cell_type": "markdown",
   "metadata": {},
   "source": [
    "#### Megaline Messages"
   ]
  },
  {
   "cell_type": "code",
   "execution_count": 23,
   "metadata": {},
   "outputs": [
    {
     "name": "stdout",
     "output_type": "stream",
     "text": [
      "id\n",
      "['1000_125' '1000_160' '1000_223' ... '1497_547' '1497_558' '1497_613']\n",
      "\n",
      "user_id\n",
      "[1000 1001 1002 1003 1004 1005 1006 1007 1008 1011 1013 1014 1015 1016\n",
      " 1017 1018 1019 1020 1023 1026 1027 1028 1029 1030 1031 1032 1033 1034\n",
      " 1035 1036 1037 1038 1039 1043 1044 1045 1046 1047 1051 1052 1053 1054\n",
      " 1055 1056 1057 1058 1059 1060 1061 1062 1064 1065 1066 1067 1069 1070\n",
      " 1072 1075 1076 1077 1078 1079 1080 1081 1082 1083 1084 1086 1087 1088\n",
      " 1089 1090 1091 1092 1093 1094 1095 1096 1098 1099 1100 1101 1102 1103\n",
      " 1104 1105 1107 1110 1111 1112 1113 1114 1115 1116 1118 1119 1120 1121\n",
      " 1122 1123 1124 1125 1126 1127 1128 1130 1131 1132 1133 1134 1136 1137\n",
      " 1138 1139 1140 1141 1142 1144 1145 1146 1147 1148 1151 1154 1155 1159\n",
      " 1160 1161 1162 1163 1164 1165 1167 1168 1169 1170 1172 1173 1174 1175\n",
      " 1176 1177 1178 1179 1180 1181 1182 1183 1184 1186 1187 1188 1189 1190\n",
      " 1191 1192 1193 1194 1195 1196 1197 1198 1199 1200 1201 1203 1204 1205\n",
      " 1206 1207 1209 1211 1212 1213 1214 1215 1218 1219 1220 1221 1222 1223\n",
      " 1224 1227 1228 1229 1230 1231 1232 1234 1235 1236 1237 1240 1241 1242\n",
      " 1243 1244 1245 1246 1247 1248 1249 1250 1251 1252 1253 1254 1255 1256\n",
      " 1257 1258 1259 1260 1261 1262 1263 1264 1266 1267 1268 1270 1271 1272\n",
      " 1273 1274 1276 1278 1279 1280 1281 1283 1285 1286 1287 1289 1290 1291\n",
      " 1293 1294 1295 1296 1298 1299 1301 1302 1303 1304 1305 1308 1309 1312\n",
      " 1313 1314 1315 1316 1318 1320 1323 1324 1326 1327 1328 1329 1330 1331\n",
      " 1332 1333 1334 1335 1336 1337 1339 1340 1341 1342 1343 1344 1345 1346\n",
      " 1347 1348 1349 1350 1351 1352 1354 1355 1356 1357 1358 1361 1362 1363\n",
      " 1364 1365 1366 1369 1370 1371 1372 1373 1374 1375 1376 1377 1379 1380\n",
      " 1381 1382 1383 1384 1385 1386 1387 1388 1391 1392 1393 1394 1395 1396\n",
      " 1398 1399 1401 1404 1405 1407 1408 1409 1410 1412 1413 1414 1416 1417\n",
      " 1419 1420 1421 1422 1423 1424 1425 1428 1429 1430 1431 1432 1433 1434\n",
      " 1435 1438 1439 1440 1441 1442 1443 1444 1445 1446 1447 1448 1450 1451\n",
      " 1452 1453 1454 1455 1456 1457 1458 1460 1462 1464 1465 1466 1467 1468\n",
      " 1469 1470 1471 1472 1474 1475 1476 1477 1478 1479 1480 1481 1482 1483\n",
      " 1484 1485 1486 1487 1489 1491 1492 1494 1496 1497]\n",
      "\n",
      "message_date\n",
      "['2018-12-27' '2018-12-31' '2018-12-26' '2018-12-29' '2018-12-30'\n",
      " '2018-12-28' '2018-12-25' '2018-11-14' '2018-08-17' '2018-12-05'\n",
      " '2018-11-28' '2018-10-23' '2018-09-01' '2018-11-18' '2018-12-11'\n",
      " '2018-10-01' '2018-09-13' '2018-08-23' '2018-10-10' '2018-12-14'\n",
      " '2018-09-11' '2018-10-09' '2018-09-18' '2018-09-06' '2018-08-19'\n",
      " '2018-12-17' '2018-12-23' '2018-11-08' '2018-10-18' '2018-09-20'\n",
      " '2018-12-06' '2018-08-22' '2018-09-19' '2018-10-21' '2018-12-10'\n",
      " '2018-10-19' '2018-09-10' '2018-09-28' '2018-11-25' '2018-10-30'\n",
      " '2018-10-12' '2018-08-24' '2018-10-31' '2018-08-15' '2018-08-31'\n",
      " '2018-08-29' '2018-09-17' '2018-10-11' '2018-11-03' '2018-11-13'\n",
      " '2018-09-09' '2018-10-06' '2018-09-02' '2018-10-26' '2018-11-15'\n",
      " '2018-10-29' '2018-11-10' '2018-12-21' '2018-09-25' '2018-12-07'\n",
      " '2018-12-20' '2018-09-27' '2018-10-17' '2018-10-16' '2018-08-30'\n",
      " '2018-10-13' '2018-11-19' '2018-10-28' '2018-10-25' '2018-10-20'\n",
      " '2018-10-14' '2018-12-13' '2018-12-02' '2018-11-30' '2018-09-23'\n",
      " '2018-08-16' '2018-08-21' '2018-08-26' '2018-12-19' '2018-12-01'\n",
      " '2018-09-26' '2018-09-22' '2018-08-14' '2018-12-16' '2018-08-20'\n",
      " '2018-09-15' '2018-12-15' '2018-10-15' '2018-09-29' '2018-12-18'\n",
      " '2018-09-21' '2018-11-11' '2018-09-24' '2018-11-27' '2018-11-24'\n",
      " '2018-10-02' '2018-09-04' '2018-11-05' '2018-11-22' '2018-09-03'\n",
      " '2018-10-27' '2018-11-07' '2018-12-04' '2018-12-08' '2018-10-08'\n",
      " '2018-12-03' '2018-11-26' '2018-11-17' '2018-10-22' '2018-11-29'\n",
      " '2018-11-09' '2018-11-02' '2018-11-12' '2018-12-12' '2018-11-23'\n",
      " '2018-12-24' '2018-12-09' '2018-11-21' '2018-11-04' '2018-12-22'\n",
      " '2018-11-16' '2018-10-24' '2018-08-06' '2018-06-24' '2018-11-20'\n",
      " '2018-07-20' '2018-05-31' '2018-06-21' '2018-05-25' '2018-06-06'\n",
      " '2018-08-11' '2018-07-17' '2018-10-07' '2018-07-05' '2018-07-16'\n",
      " '2018-08-18' '2018-07-29' '2018-08-10' '2018-09-07' '2018-06-15'\n",
      " '2018-07-25' '2018-09-08' '2018-11-01' '2018-08-05' '2018-06-28'\n",
      " '2018-11-06' '2018-08-28' '2018-07-31' '2018-06-17' '2018-06-02'\n",
      " '2018-08-08' '2018-06-10' '2018-05-24' '2018-07-24' '2018-07-28'\n",
      " '2018-06-14' '2018-07-10' '2018-06-04' '2018-07-12' '2018-05-27'\n",
      " '2018-10-05' '2018-06-09' '2018-07-26' '2018-07-07' '2018-10-04'\n",
      " '2018-07-19' '2018-10-03' '2018-07-14' '2018-09-30' '2018-06-05'\n",
      " '2018-08-13' '2018-05-28' '2018-07-06' '2018-09-16' '2018-07-30'\n",
      " '2018-09-12' '2018-08-25' '2018-08-27' '2018-09-14' '2018-08-12'\n",
      " '2018-09-05' '2018-08-09' '2018-08-07' '2018-06-25' '2018-08-02'\n",
      " '2018-06-27' '2018-07-15' '2018-07-04' '2018-07-13' '2018-08-01'\n",
      " '2018-07-02' '2018-06-23' '2018-07-21' '2018-07-27' '2018-06-22'\n",
      " '2018-07-03' '2018-07-11' '2018-06-30' '2018-07-01' '2018-08-03'\n",
      " '2018-06-29' '2018-07-22' '2018-07-23' '2018-08-04' '2018-07-09'\n",
      " '2018-05-01' '2018-04-24' '2018-05-14' '2018-04-26' '2018-05-26'\n",
      " '2018-03-15' '2018-03-23' '2018-04-14' '2018-03-24' '2018-02-23'\n",
      " '2018-04-08' '2018-06-07' '2018-05-06' '2018-06-01' '2018-05-07'\n",
      " '2018-07-08' '2018-04-21' '2018-06-20' '2018-03-11' '2018-05-04'\n",
      " '2018-05-12' '2018-05-20' '2018-04-15' '2018-06-11' '2018-03-09'\n",
      " '2018-03-10' '2018-03-29' '2018-03-30' '2018-04-25' '2018-04-13'\n",
      " '2018-05-21' '2018-05-03' '2018-04-07' '2018-05-13' '2018-04-11'\n",
      " '2018-06-19' '2018-04-04' '2018-03-04' '2018-05-29' '2018-05-11'\n",
      " '2018-04-30' '2018-03-14' '2018-06-12' '2018-04-12' '2018-03-20'\n",
      " '2018-06-13' '2018-04-03' '2018-06-18' '2018-05-08' '2018-04-18'\n",
      " '2018-05-02' '2018-03-25' '2018-04-23' '2018-04-28' '2018-03-05'\n",
      " '2018-03-31' '2018-03-21' '2018-05-15' '2018-05-05' '2018-03-03'\n",
      " '2018-03-13' '2018-05-30' '2018-04-01' '2018-07-18' '2018-06-08'\n",
      " '2018-03-02' '2018-04-29' '2018-02-28' '2018-03-07' '2018-04-02'\n",
      " '2018-02-26' '2018-03-08' '2018-04-10' '2018-03-26' '2018-04-09'\n",
      " '2018-02-22' '2018-05-16' '2018-06-03' '2018-03-28' '2018-04-05'\n",
      " '2018-04-27' '2018-03-22' '2018-03-12' '2018-02-27' '2018-03-01'\n",
      " '2018-05-10' '2018-02-25' '2018-03-18' '2018-05-19' '2018-05-22'\n",
      " '2018-05-09' '2018-04-20' '2018-05-18' '2018-03-06' '2018-03-17'\n",
      " '2018-04-16' '2018-04-17' '2018-04-22' '2018-02-24' '2018-04-06'\n",
      " '2018-06-26' '2018-06-16' '2018-05-23' '2018-05-17' '2018-04-19'\n",
      " '2018-03-19' '2018-03-27' '2018-01-27' '2018-01-15' '2018-02-05'\n",
      " '2018-03-16' '2018-01-18' '2018-01-22' '2018-02-15' '2018-02-01'\n",
      " '2018-02-21' '2018-02-17' '2018-01-25' '2018-02-19' '2018-02-11'\n",
      " '2018-02-20' '2018-02-08' '2018-02-13' '2018-01-20' '2018-01-17'\n",
      " '2018-01-16' '2018-01-26' '2018-01-23' '2018-02-03' '2018-02-02'\n",
      " '2018-02-04' '2018-02-09' '2018-01-21' '2018-01-28' '2018-02-10'\n",
      " '2018-02-16' '2018-01-30' '2018-01-31' '2018-02-12' '2018-02-07'\n",
      " '2018-02-06' '2018-02-14' '2018-02-18' '2018-01-19' '2018-01-29'\n",
      " '2018-01-24']\n",
      "\n"
     ]
    }
   ],
   "source": [
    "for i in messages:\n",
    "    print(i)\n",
    "    print(messages[i].unique())\n",
    "    print()"
   ]
  },
  {
   "cell_type": "markdown",
   "metadata": {},
   "source": [
    "#### Megaline Plan"
   ]
  },
  {
   "cell_type": "code",
   "execution_count": 24,
   "metadata": {},
   "outputs": [
    {
     "name": "stdout",
     "output_type": "stream",
     "text": [
      "messages_included\n",
      "[  50 1000]\n",
      "\n",
      "mb_per_month_included\n",
      "[15360 30720]\n",
      "\n",
      "minutes_included\n",
      "[ 500 3000]\n",
      "\n",
      "usd_monthly_pay\n",
      "[20 70]\n",
      "\n",
      "usd_per_gb\n",
      "[10  7]\n",
      "\n",
      "usd_per_message\n",
      "[0.03 0.01]\n",
      "\n",
      "usd_per_minute\n",
      "[0.03 0.01]\n",
      "\n",
      "plan_name\n",
      "['surf' 'ultimate']\n",
      "\n"
     ]
    }
   ],
   "source": [
    "for i in plan:\n",
    "    print(i)\n",
    "    print(plan[i].unique())\n",
    "    print()"
   ]
  },
  {
   "cell_type": "markdown",
   "metadata": {},
   "source": [
    "#### Megaline Users"
   ]
  },
  {
   "cell_type": "code",
   "execution_count": 25,
   "metadata": {
    "scrolled": true
   },
   "outputs": [
    {
     "name": "stdout",
     "output_type": "stream",
     "text": [
      "user_id\n",
      "[1000 1001 1002 1003 1004 1005 1006 1007 1008 1009 1010 1011 1012 1013\n",
      " 1014 1015 1016 1017 1018 1019 1020 1021 1022 1023 1024 1025 1026 1027\n",
      " 1028 1029 1030 1031 1032 1033 1034 1035 1036 1037 1038 1039 1040 1041\n",
      " 1042 1043 1044 1045 1046 1047 1048 1049 1050 1051 1052 1053 1054 1055\n",
      " 1056 1057 1058 1059 1060 1061 1062 1063 1064 1065 1066 1067 1068 1069\n",
      " 1070 1071 1072 1073 1074 1075 1076 1077 1078 1079 1080 1081 1082 1083\n",
      " 1084 1085 1086 1087 1088 1089 1090 1091 1092 1093 1094 1095 1096 1097\n",
      " 1098 1099 1100 1101 1102 1103 1104 1105 1106 1107 1108 1109 1110 1111\n",
      " 1112 1113 1114 1115 1116 1117 1118 1119 1120 1121 1122 1123 1124 1125\n",
      " 1126 1127 1128 1129 1130 1131 1132 1133 1134 1135 1136 1137 1138 1139\n",
      " 1140 1141 1142 1143 1144 1145 1146 1147 1148 1149 1150 1151 1152 1153\n",
      " 1154 1155 1156 1157 1158 1159 1160 1161 1162 1163 1164 1165 1166 1167\n",
      " 1168 1169 1170 1171 1172 1173 1174 1175 1176 1177 1178 1179 1180 1181\n",
      " 1182 1183 1184 1185 1186 1187 1188 1189 1190 1191 1192 1193 1194 1195\n",
      " 1196 1197 1198 1199 1200 1201 1202 1203 1204 1205 1206 1207 1208 1209\n",
      " 1210 1211 1212 1213 1214 1215 1216 1217 1218 1219 1220 1221 1222 1223\n",
      " 1224 1225 1226 1227 1228 1229 1230 1231 1232 1233 1234 1235 1236 1237\n",
      " 1238 1239 1240 1241 1242 1243 1244 1245 1246 1247 1248 1249 1250 1251\n",
      " 1252 1253 1254 1255 1256 1257 1258 1259 1260 1261 1262 1263 1264 1265\n",
      " 1266 1267 1268 1269 1270 1271 1272 1273 1274 1275 1276 1277 1278 1279\n",
      " 1280 1281 1282 1283 1284 1285 1286 1287 1288 1289 1290 1291 1292 1293\n",
      " 1294 1295 1296 1297 1298 1299 1300 1301 1302 1303 1304 1305 1306 1307\n",
      " 1308 1309 1310 1311 1312 1313 1314 1315 1316 1317 1318 1319 1320 1321\n",
      " 1322 1323 1324 1325 1326 1327 1328 1329 1330 1331 1332 1333 1334 1335\n",
      " 1336 1337 1338 1339 1340 1341 1342 1343 1344 1345 1346 1347 1348 1349\n",
      " 1350 1351 1352 1353 1354 1355 1356 1357 1358 1359 1360 1361 1362 1363\n",
      " 1364 1365 1366 1367 1368 1369 1370 1371 1372 1373 1374 1375 1376 1377\n",
      " 1378 1379 1380 1381 1382 1383 1384 1385 1386 1387 1388 1389 1390 1391\n",
      " 1392 1393 1394 1395 1396 1397 1398 1399 1400 1401 1402 1403 1404 1405\n",
      " 1406 1407 1408 1409 1410 1411 1412 1413 1414 1415 1416 1417 1418 1419\n",
      " 1420 1421 1422 1423 1424 1425 1426 1427 1428 1429 1430 1431 1432 1433\n",
      " 1434 1435 1436 1437 1438 1439 1440 1441 1442 1443 1444 1445 1446 1447\n",
      " 1448 1449 1450 1451 1452 1453 1454 1455 1456 1457 1458 1459 1460 1461\n",
      " 1462 1463 1464 1465 1466 1467 1468 1469 1470 1471 1472 1473 1474 1475\n",
      " 1476 1477 1478 1479 1480 1481 1482 1483 1484 1485 1486 1487 1488 1489\n",
      " 1490 1491 1492 1493 1494 1495 1496 1497 1498 1499]\n",
      "\n",
      "first_name\n",
      "['Anamaria' 'Mickey' 'Carlee' 'Reynaldo' 'Leonila' 'Livia' 'Jesusa'\n",
      " 'Eusebio' 'Emely' 'Gerry' 'Wilber' 'Halina' 'Jonelle' 'Nicolas' 'Edmundo'\n",
      " 'Beata' 'Jann' 'Boris' 'Dennis' 'Shizue' 'Rutha' 'Ricarda' 'Bo' 'Jack'\n",
      " 'Yuki' 'Jess' 'Meggan' 'Georgeanna' 'Jefferey' 'Franklyn' 'Chase' 'Lane'\n",
      " 'Delila' 'Latoyia' 'Jc' 'Jeff' 'Myron' 'Reena' 'Olympia' 'Flo' 'Paris'\n",
      " 'Drucilla' 'Clementina' 'Carlos' 'Devora' 'Barney' 'Yuk' 'Linwood'\n",
      " 'Loise' 'Jone' 'Rosario' 'Edmond' 'Piper' 'Denis' 'Patrick' 'Theo'\n",
      " 'Reinaldo' 'Avril' 'Denisse' 'Maryam' 'Kristeen' 'Larhonda' 'Gerardo'\n",
      " 'Sherlyn' 'Ariel' 'Robt' 'Marcel' 'Dino' 'Jacelyn' 'Isa' 'Seymour'\n",
      " 'Grady' 'Particia' 'Salena' 'Ronny' 'Chau' 'Earnest' 'Brian' 'Neal'\n",
      " 'Grayce' 'Dominic' 'Lyndia' 'Wiley' 'Ignacio' 'Adena' 'Lenard' 'Malena'\n",
      " 'Brock' 'Taylor' 'Taren' 'Karima' 'Walter' 'Lilliam' 'Song' 'Deandre'\n",
      " 'Collin' 'Shavon' 'Aaron' 'Sage' 'Marquitta' 'Moises' 'Thurman' 'Micheal'\n",
      " 'Eddy' 'Porfirio' 'Anderson' 'Booker' 'Amal' 'Spencer' 'Esta' 'Yevette'\n",
      " 'Moriah' 'Hank' 'Deane' 'Abraham' 'Kathaleen' 'Lashay' 'Dierdre' 'Jenell'\n",
      " 'Assunta' 'Jermaine' 'Marchelle' 'Lucius' 'Marin' 'Clarence' 'Shane'\n",
      " 'Edward' 'Larry' 'Shannon' 'Scotty' 'Jasper' 'Allegra' 'Arlie' 'Thomas'\n",
      " 'Randolph' 'Kirstie' 'Charlesetta' 'Lorina' 'Kaycee' 'Venice' 'Loma'\n",
      " 'Duncan' 'Dwana' 'Jamaal' 'Earlie' 'Ralph' 'Merrill' 'Humberto' 'Claude'\n",
      " 'Anette' 'Luciano' 'Robin' 'Steven' 'Florance' 'Mark' 'Lanie' 'Kam'\n",
      " 'Nigel' 'Rebbecca' 'Shay' 'Hai' 'Olin' 'Devin' 'Weldon' 'Tristan'\n",
      " 'Larisa' 'Shiloh' 'Terrance' 'Charlsie' 'Darcey' 'Wonda' 'Ron' 'Fredric'\n",
      " 'Loria' 'Josiah' 'Tanner' 'Ethelene' 'Terrence' 'Troy' 'Zack' 'Korey'\n",
      " 'Lacresha' 'Robert' 'Roy' 'Noel' 'Lon' 'Russ' 'Antonetta' 'Delmar'\n",
      " 'Jeanelle' 'Osvaldo' 'Manie' 'Sherly' 'Rafael' 'Angelic' 'Samuel'\n",
      " 'Enrique' 'Garret' 'Shanae' 'Vito' 'Alfredo' 'Carl' 'Emil' 'Adelle'\n",
      " 'Reita' 'Ned' 'Stanford' 'Gavin' 'Mckenzie' 'Cleo' 'Patience' 'Kelly'\n",
      " 'Margarito' 'Denver' 'Vanesa' 'Jude' 'Augustus' 'Andre' 'Gaylord'\n",
      " 'Elidia' 'Janee' 'Matt' 'Felton' 'Odell' 'Leighann' 'Jackeline' 'Quentin'\n",
      " 'Drema' 'Lala' 'Lashunda' 'Isaias' 'Demarcus' 'Quinn' 'Stevie' 'Marion'\n",
      " 'Leigha' 'Milan' 'Tifany' 'Mitsue' 'Sumiko' 'Billy' 'Kennith' 'Johnny'\n",
      " 'Gabriel' 'Kai' 'Etsuko' 'Alia' 'Dusti' 'Michelina' 'Lucio' 'Jessie'\n",
      " 'Alec' 'Dorie' 'Gia' 'Britni' 'Irving' 'Anjelica' 'Darrin' 'Ernest'\n",
      " 'Hermila' 'Dudley' 'Elvie' 'Karmen' 'Andrew' 'Masako' 'Annice' 'Alan'\n",
      " 'Yuri' 'Joesph' 'Casie' 'Heide' 'Jenette' 'Steve' 'Thaddeus' 'Angeles'\n",
      " 'Cassey' 'Lanny' 'Demetrius' 'Hung' 'Weston' 'Nicky' 'Loyce' 'Keitha'\n",
      " 'Rene' 'Tomas' 'Rosamaria' 'Dominque' 'Gwenn' 'Darron' 'Kristopher'\n",
      " 'Samara' 'Winfred' 'Vincent' 'Cherlyn' 'Kory' 'Antoine' 'Brice' 'Mora'\n",
      " 'Lucilla' 'Ruthanne' 'Huey' 'Eliseo' 'Bert' 'Karlyn' 'Tyler' 'Pamelia'\n",
      " 'Romana' 'Cleora' 'Johnathon' 'Natosha' 'Tamesha' 'Doyle' 'Tobi'\n",
      " 'Lashandra' 'Lucas' 'Macy' 'Donovan' 'Gail' 'Vance' 'Janise' 'Mariette'\n",
      " 'Vanna' 'Kaila' 'Eugene' 'Teresia' 'Hugo' 'Pasquale' 'Emmie' 'Trey'\n",
      " 'Florentina' 'Al' 'Kyle' 'Emerson' 'Leonel' 'Digna' 'Hae' 'Ria' 'Vaughn'\n",
      " 'Sherley' 'Arturo' 'Kenyetta' 'Sandee' 'Clarine' 'Milford' 'Rod' 'Minh'\n",
      " 'Enola' 'Bernard' 'Nenita' 'Roderick' 'Patria' 'Lindsey' 'Ching' 'Andy'\n",
      " 'Mika' 'Vallie' 'Mckinley' 'Jarrett' 'Lajuana' 'German' 'Luci'\n",
      " 'Dominique' 'Nohemi' 'Jeni' 'Raymonde' 'Thu' 'Earleen' 'Deloras' 'Errol'\n",
      " 'Gale' 'Wilfredo' 'Alejandro' 'Leonard' 'Ardelia' 'Willow' 'Kenton'\n",
      " 'Charmain' 'Jesus' 'Jae' 'Paulita' 'Shella' 'Noble' 'Alaine' 'Elvis'\n",
      " 'Wendell' 'Man' 'Cortez' 'Georgianne' 'Rosette' 'Deja' 'Jorge' 'Hal'\n",
      " 'Bryon' 'Season' 'Zane' 'Malcom' 'Kasandra' 'Latrisha' 'Lamont' 'Zofia'\n",
      " 'Asuncion' 'Arianna' 'Myung' 'Napoleon' 'Azucena' 'Lyndon' 'Darnell'\n",
      " 'Jennine' 'Louis' 'Harvey' 'Moses' 'France' 'Piedad' 'Terrell' 'Genaro'\n",
      " 'Glinda' 'Elodia' 'Ramon' 'Elayne' 'Boyd' 'Miguel' 'Kymberly' 'Janean'\n",
      " 'Joella' 'Santos' 'Winford' 'Rupert' 'Lesley' 'Dinorah' 'Burt' 'Alphonse'\n",
      " 'Nickolas' 'Johana' 'Rory' 'Gerald' 'Maximo' 'Kirk' 'Randee' 'Arlen'\n",
      " 'Tammara' 'Magaly' 'Elane' 'Keesha' 'Roni' 'Armand' 'Delpha' 'Damion'\n",
      " 'Sang' 'Elton' 'Shirley' 'Londa' 'Terina' 'Cicely' 'Preston' 'Fidel'\n",
      " 'Donte' 'Scot' 'Shena']\n",
      "\n",
      "last_name\n",
      "['Bauer' 'Wilkerson' 'Hoffman' 'Jenkins' 'Thompson' 'Shields' 'Bradford'\n",
      " 'Welch' 'Little' 'Blair' 'Henry' 'Mcbride' 'Snider' 'Simon' 'Carpenter'\n",
      " 'Salinas' 'Gates' 'Grimes' 'Landry' 'Bell' 'Booker' 'Snow' 'Delaney'\n",
      " 'Tyson' 'Wilkinson' 'Hamilton' 'Cardenas' 'Rasmussen' 'Henson' 'Kane'\n",
      " 'Martin' 'Dalton' 'Moran' 'Gentry' 'Cummings' 'Hodge' 'Velazquez' 'Hicks'\n",
      " 'Santos' 'Lynn' 'Mclaughlin' 'Hinton' 'Galloway' 'Ortega' 'Hooper'\n",
      " 'French' 'Terrell' 'Avery' 'Owen' 'Gibbs' 'Hopkins' 'Espinoza' 'Frost'\n",
      " 'Mclean' 'Chandler' 'Sargent' 'Colon' 'Richardson' 'Valencia' 'Head'\n",
      " 'Hartman' 'Ashley' 'Noel' 'Woods' 'Allen' 'Jimenez' 'Fry' 'Contreras'\n",
      " 'Roy' 'Spence' 'Crawford' 'Fuller' 'Bates' 'Browning' 'Webster' 'Gray'\n",
      " 'Mccall' 'Mcgee' 'Sears' 'Witt' 'Acevedo' 'Mckinney' 'Bennett' 'Macias'\n",
      " 'Atkinson' 'Robertson' 'Kelley' 'Skinner' 'Oliver' 'Strickland' 'Hampton'\n",
      " 'Petersen' 'Alvarado' 'Cline' 'Powell' 'Sims' 'Banks' 'Rowe' 'Conley'\n",
      " 'Walton' 'Weeks' 'Stephens' 'Poole' 'Garrison' 'Cash' 'Cotton' 'Hahn'\n",
      " 'Pacheco' 'Powers' 'Estes' 'Yang' 'Yates' 'Taylor' 'Ramirez' 'Palmer'\n",
      " 'Mcconnell' 'Albert' 'Reese' 'Nash' 'Navarro' 'Carver' 'Mcguire' 'Brock'\n",
      " 'Fernandez' 'Bolton' 'Cunningham' 'Morrison' 'Roberts' 'Barr' 'Nichols'\n",
      " 'White' 'Caldwell' 'Higgins' 'Lawson' 'Graves' 'Hodges' 'Dillard'\n",
      " 'Stevens' 'Peterson' 'Brooks' 'Mcneil' 'Malone' 'Moore' 'Camacho' 'Giles'\n",
      " 'Monroe' 'Hogan' 'Pruitt' 'Chambers' 'Sheppard' 'Thornton' 'Baker'\n",
      " 'Morgan' 'Estrada' 'Farley' 'Washington' 'Huber' 'Bryant' 'Nicholson'\n",
      " 'Weaver' 'Bean' 'Adkins' 'Robinson' 'Cain' 'Ellis' 'Stafford' 'Shaffer'\n",
      " 'Anderson' 'Reid' 'Baird' 'Hays' 'Kaufman' 'Burt' 'Gallegos' 'Middleton'\n",
      " 'Freeman' 'Douglas' 'Goodman' 'Smith' 'Hutchinson' 'Waters' 'Goodwin'\n",
      " 'Olsen' 'Velez' 'Dawson' 'Parker' 'Horne' 'Finley' 'Cross' 'Mayer' 'Levy'\n",
      " 'Wade' 'Singleton' 'Porter' 'Paul' 'Carrillo' 'Cameron' 'Newman' 'Robles'\n",
      " 'Knapp' 'Atkins' 'Thomas' 'Pena' 'Keller' 'Strong' 'Wilson' 'Cole'\n",
      " 'Barker' 'Harrell' 'Willis' 'Hale' 'Russell' 'Perkins' 'Nguyen' 'Juarez'\n",
      " 'Wheeler' 'Byrd' 'Hancock' 'Lopez' 'Walls' 'Johns' 'Compton' 'David'\n",
      " 'Sellers' 'York' 'Dudley' 'Webb' 'Rowland' 'Wise' \"O'donnell\" 'Perry'\n",
      " 'Aguilar' 'Forbes' 'Duffy' 'Hill' 'Bowers' 'Chan' 'Rose' 'Mercado' 'Ryan'\n",
      " 'Massey' 'Carney' 'Faulkner' 'Montgomery' 'Duke' 'Berry' 'Hardy'\n",
      " 'Calhoun' 'Burgess' 'Odom' 'Barry' 'Castaneda' 'Gill' 'Rush' 'Mejia'\n",
      " 'Nolan' 'Russo' 'Flowers' 'Tucker' 'Cooley' 'Harrison' 'Horton' 'Morris'\n",
      " 'Reeves' 'Gross' 'Craig' 'Lang' 'Zimmerman' 'Saunders' 'Emerson'\n",
      " 'Schroeder' 'Heath' 'Walsh' 'Carson' 'Wells' 'Sweeney' 'Lyons' 'Branch'\n",
      " 'Peck' 'Nunez' 'Kinney' 'Ramos' 'Coleman' 'Bradshaw' 'Arnold' 'Bowman'\n",
      " 'Stanton' 'Andrews' 'Patton' 'Ewing' 'Daugherty' 'Gonzalez' 'Lynch'\n",
      " 'Rutledge' 'Diaz' 'Whitfield' 'Dyer' 'Beach' 'Maldonado' 'Norris'\n",
      " 'Mullins' 'Mcknight' 'Lott' 'Bonner' 'Huff' 'Fischer' 'Ray' 'Mckee'\n",
      " 'Vasquez' 'Slater' 'Kim' 'Dickerson' 'Watts' 'Holden' 'Williams' 'Conway'\n",
      " 'Clayton' 'Spencer' 'Burris' 'Kidd' 'Mccoy' 'Good' 'Erickson' 'Gilbert'\n",
      " 'Lowe' 'Glass' 'Cooke' 'Mcfadden' 'Rosa' 'Wooten' 'Benton' 'Steele'\n",
      " 'Hickman' 'Gardner' 'Hunter' 'Jefferson' 'Vargas' 'Lloyd' 'Fleming'\n",
      " 'Hensley' 'Herring' 'Mendez' 'Moss' 'Madden' 'Barnes' 'Gordon' 'Hobbs'\n",
      " 'Neal' 'Keith' 'Larsen' 'Conner' 'Conrad' 'Pugh' 'Cabrera' 'Barrett'\n",
      " 'Myers' 'Quinn' 'Donovan' 'Ball' 'Hester' 'Foley' 'Marquez' 'Harding'\n",
      " 'Sparks' 'Tyler' 'Cohen' 'Munoz' 'Underwood' 'Santana' 'Workman'\n",
      " 'Simmons' 'Burke' 'Harmon' 'Deleon' 'Nixon' 'Mitchell' 'Mendoza' 'Sutton'\n",
      " 'Dorsey' 'Rivas' 'Burnett' 'Buchanan' 'Frye' 'Glenn' 'Farrell' 'Baldwin'\n",
      " 'Woodard' 'Solis' 'Simpson' 'Jones' 'Cortez' 'Jensen' 'Wynn' 'Downs'\n",
      " 'Sharpe' 'Shepherd' 'Barrera' 'Williamson' 'Dickson']\n",
      "\n",
      "age\n",
      "[45 28 36 52 40 31 73 42 53 19 59 50 61 26 30 70 34 56 37 74 64 49 38 57\n",
      " 22 67 20 32 72 58 25 23 55 47 27 33 18 41 60 46 66 29 69 35 51 48 44 65\n",
      " 21 54 75 39 68 71 63 24 43 62]\n",
      "\n",
      "city\n",
      "['Atlanta-Sandy Springs-Roswell, GA MSA' 'Seattle-Tacoma-Bellevue, WA MSA'\n",
      " 'Las Vegas-Henderson-Paradise, NV MSA' 'Tulsa, OK MSA'\n",
      " 'Dallas-Fort Worth-Arlington, TX MSA'\n",
      " 'San Francisco-Oakland-Berkeley, CA MSA' 'Grand Rapids-Kentwood, MI MSA'\n",
      " 'Orlando-Kissimmee-Sanford, FL MSA'\n",
      " 'San Jose-Sunnyvale-Santa Clara, CA MSA' 'Cleveland-Elyria, OH MSA'\n",
      " 'Chicago-Naperville-Elgin, IL-IN-WI MSA' 'Knoxville, TN MSA'\n",
      " 'New York-Newark-Jersey City, NY-NJ-PA MSA' 'Pittsburgh, PA MSA'\n",
      " 'Fresno, CA MSA' 'Washington-Arlington-Alexandria, DC-VA-MD-WV MSA'\n",
      " 'Indianapolis-Carmel-Anderson, IN MSA' 'Jacksonville, FL MSA'\n",
      " 'Los Angeles-Long Beach-Anaheim, CA MSA'\n",
      " 'Omaha-Council Bluffs, NE-IA MSA'\n",
      " 'Houston-The Woodlands-Sugar Land, TX MSA'\n",
      " 'Philadelphia-Camden-Wilmington, PA-NJ-DE-MD MSA'\n",
      " 'Tampa-St. Petersburg-Clearwater, FL MSA' 'Birmingham-Hoover, AL MSA'\n",
      " 'Oklahoma City, OK MSA' 'Charlotte-Concord-Gastonia, NC-SC MSA'\n",
      " 'Denver-Aurora-Lakewood, CO MSA'\n",
      " 'Nashville-Davidson–Murfreesboro–Franklin, TN MSA' 'Columbus, OH MSA'\n",
      " 'Albuquerque, NM MSA' 'Boston-Cambridge-Newton, MA-NH MSA'\n",
      " 'Miami-Fort Lauderdale-West Palm Beach, FL MSA'\n",
      " 'San Diego-Chula Vista-Carlsbad, CA MSA' 'Phoenix-Mesa-Chandler, AZ MSA'\n",
      " 'Portland-Vancouver-Hillsboro, OR-WA MSA' 'Cincinnati, OH-KY-IN MSA'\n",
      " 'Columbia, SC MSA' 'San Antonio-New Braunfels, TX MSA'\n",
      " 'Buffalo-Cheektowaga, NY MSA' 'Memphis, TN-MS-AR MSA'\n",
      " 'Riverside-San Bernardino-Ontario, CA MSA'\n",
      " 'Louisville/Jefferson County, KY-IN MSA'\n",
      " 'Albany-Schenectady-Troy, NY MSA' 'Providence-Warwick, RI-MA MSA'\n",
      " 'Salt Lake City, UT MSA' 'Urban Honolulu, HI MSA' 'El Paso, TX MSA'\n",
      " 'New Haven-Milford, CT MSA' 'North Port-Sarasota-Bradenton, FL MSA'\n",
      " 'Baton Rouge, LA MSA' 'New Orleans-Metairie, LA MSA'\n",
      " 'Bridgeport-Stamford-Norwalk, CT MSA'\n",
      " 'Virginia Beach-Norfolk-Newport News, VA-NC MSA'\n",
      " 'Baltimore-Columbia-Towson, MD MSA' 'Milwaukee-Waukesha, WI MSA'\n",
      " 'Oxnard-Thousand Oaks-Ventura, CA MSA'\n",
      " 'Sacramento–Roseville–Folsom, CA MSA'\n",
      " 'Austin-Round Rock-Georgetown, TX MSA' 'Richmond, VA MSA'\n",
      " 'St. Louis, MO-IL MSA' 'Minneapolis-St. Paul-Bloomington, MN-WI MSA'\n",
      " 'Dayton-Kettering, OH MSA' 'Bakersfield, CA MSA'\n",
      " 'Detroit-Warren-Dearborn, MI MSA' 'Kansas City, MO-KS MSA'\n",
      " 'Charleston-North Charleston, SC MSA' 'Rochester, NY MSA'\n",
      " 'Raleigh-Cary, NC MSA' 'Colorado Springs, CO MSA'\n",
      " 'Greensboro-High Point, NC MSA' 'Tucson, AZ MSA' 'Stockton, CA MSA'\n",
      " 'Cape Coral-Fort Myers, FL MSA']\n",
      "\n",
      "reg_date\n",
      "['2018-12-24' '2018-08-13' '2018-10-21' '2018-01-28' '2018-05-23'\n",
      " '2018-11-29' '2018-11-27' '2018-07-11' '2018-08-03' '2018-04-22'\n",
      " '2018-03-09' '2018-01-18' '2018-06-28' '2018-12-01' '2018-11-25'\n",
      " '2018-12-05' '2018-10-25' '2018-08-26' '2018-10-17' '2018-01-16'\n",
      " '2018-11-08' '2018-12-21' '2018-04-20' '2018-07-06' '2018-08-21'\n",
      " '2018-10-28' '2018-07-20' '2018-06-26' '2018-02-21' '2018-01-05'\n",
      " '2018-02-14' '2018-07-15' '2018-06-07' '2018-05-30' '2018-12-08'\n",
      " '2018-05-09' '2018-08-11' '2018-06-25' '2018-12-23' '2018-03-17'\n",
      " '2018-01-15' '2018-06-20' '2018-08-30' '2018-10-15' '2018-02-19'\n",
      " '2018-06-16' '2018-08-24' '2018-03-20' '2018-12-11' '2018-03-05'\n",
      " '2018-07-30' '2018-04-21' '2018-01-13' '2018-03-01' '2018-08-07'\n",
      " '2018-11-06' '2018-04-07' '2018-03-08' '2018-02-06' '2018-11-05'\n",
      " '2018-06-03' '2018-09-24' '2018-01-29' '2018-09-17' '2018-05-12'\n",
      " '2018-07-12' '2018-04-06' '2018-11-26' '2018-08-06' '2018-07-29'\n",
      " '2018-01-14' '2018-02-11' '2018-01-26' '2018-04-27' '2018-04-15'\n",
      " '2018-10-26' '2018-06-04' '2018-07-19' '2018-11-18' '2018-05-27'\n",
      " '2018-09-03' '2018-05-04' '2018-12-10' '2018-12-17' '2018-10-30'\n",
      " '2018-12-22' '2018-02-26' '2018-08-14' '2018-02-13' '2018-02-08'\n",
      " '2018-02-20' '2018-07-01' '2018-01-08' '2018-05-10' '2018-11-15'\n",
      " '2018-12-30' '2018-02-16' '2018-10-08' '2018-07-21' '2018-11-19'\n",
      " '2018-08-08' '2018-01-24' '2018-10-05' '2018-04-03' '2018-03-13'\n",
      " '2018-03-04' '2018-04-19' '2018-08-16' '2018-06-02' '2018-06-23'\n",
      " '2018-01-25' '2018-11-10' '2018-05-17' '2018-01-07' '2018-04-14'\n",
      " '2018-10-14' '2018-10-02' '2018-03-26' '2018-08-23' '2018-04-12'\n",
      " '2018-10-13' '2018-04-30' '2018-11-04' '2018-03-03' '2018-09-19'\n",
      " '2018-11-01' '2018-06-19' '2018-07-18' '2018-03-25' '2018-07-02'\n",
      " '2018-11-30' '2018-02-05' '2018-01-12' '2018-02-17' '2018-10-27'\n",
      " '2018-05-07' '2018-12-13' '2018-12-06' '2018-09-25' '2018-01-27'\n",
      " '2018-03-30' '2018-09-28' '2018-09-30' '2018-10-03' '2018-11-09'\n",
      " '2018-04-13' '2018-05-29' '2018-03-07' '2018-01-10' '2018-08-01'\n",
      " '2018-01-21' '2018-07-07' '2018-05-31' '2018-06-09' '2018-05-01'\n",
      " '2018-08-20' '2018-04-05' '2018-07-09' '2018-07-17' '2018-08-28'\n",
      " '2018-06-01' '2018-06-30' '2018-07-27' '2018-01-01' '2018-05-14'\n",
      " '2018-06-27' '2018-07-05' '2018-03-15' '2018-01-17' '2018-12-09'\n",
      " '2018-02-27' '2018-01-19' '2018-09-11' '2018-09-12' '2018-04-04'\n",
      " '2018-03-18' '2018-08-27' '2018-05-11' '2018-01-09' '2018-06-10'\n",
      " '2018-08-18' '2018-03-16' '2018-12-02' '2018-02-22' '2018-02-09'\n",
      " '2018-03-06' '2018-05-03' '2018-11-23' '2018-03-12' '2018-09-13'\n",
      " '2018-09-18' '2018-06-24' '2018-08-04' '2018-02-02' '2018-11-03'\n",
      " '2018-07-23' '2018-09-07' '2018-12-07' '2018-11-12' '2018-09-14'\n",
      " '2018-10-20' '2018-08-25' '2018-09-21' '2018-01-04' '2018-05-08'\n",
      " '2018-12-31' '2018-11-22' '2018-07-04' '2018-05-24' '2018-04-26'\n",
      " '2018-05-21' '2018-11-11' '2018-09-29' '2018-06-17' '2018-02-23'\n",
      " '2018-06-18' '2018-02-10' '2018-11-24' '2018-03-11' '2018-08-09'\n",
      " '2018-12-25' '2018-10-01' '2018-09-05' '2018-09-08' '2018-03-27'\n",
      " '2018-10-07' '2018-05-16' '2018-09-20' '2018-05-20' '2018-10-06'\n",
      " '2018-04-16' '2018-10-18' '2018-09-04' '2018-06-22' '2018-10-10'\n",
      " '2018-04-11' '2018-05-25' '2018-03-28' '2018-05-06' '2018-10-29'\n",
      " '2018-10-22' '2018-06-06' '2018-06-11' '2018-01-11' '2018-10-04'\n",
      " '2018-08-10' '2018-04-08' '2018-03-29' '2018-05-18' '2018-10-16'\n",
      " '2018-07-24' '2018-10-23' '2018-08-29' '2018-06-15' '2018-09-10'\n",
      " '2018-02-15' '2018-12-29' '2018-05-28' '2018-11-07' '2018-01-31'\n",
      " '2018-04-10' '2018-12-27' '2018-04-25' '2018-05-15' '2018-01-20'\n",
      " '2018-02-04']\n",
      "\n",
      "plan\n",
      "['ultimate' 'surf']\n",
      "\n",
      "churn_date\n",
      "[nan '2018-12-18' '2018-11-16' '2018-09-07' '2018-12-30' '2018-10-07'\n",
      " '2018-12-31' '2018-11-24' '2018-11-11' '2018-12-12' '2018-11-14'\n",
      " '2018-12-27' '2018-11-29' '2018-12-22' '2018-11-30' '2018-10-13'\n",
      " '2018-07-31' '2018-12-15' '2018-12-19' '2018-10-03' '2018-10-22'\n",
      " '2018-08-16' '2018-12-26' '2018-09-01' '2018-11-21' '2018-08-19'\n",
      " '2018-12-10' '2018-09-17' '2018-11-18' '2018-09-18']\n",
      "\n"
     ]
    }
   ],
   "source": [
    "for i in users:\n",
    "    print(i)\n",
    "    print(users[i].unique())\n",
    "    print()"
   ]
  },
  {
   "cell_type": "code",
   "execution_count": 26,
   "metadata": {},
   "outputs": [
    {
     "name": "stdout",
     "output_type": "stream",
     "text": [
      "<class 'pandas.core.frame.DataFrame'>\n",
      "RangeIndex: 500 entries, 0 to 499\n",
      "Data columns (total 8 columns):\n",
      " #   Column      Non-Null Count  Dtype \n",
      "---  ------      --------------  ----- \n",
      " 0   user_id     500 non-null    int64 \n",
      " 1   first_name  500 non-null    object\n",
      " 2   last_name   500 non-null    object\n",
      " 3   age         500 non-null    int64 \n",
      " 4   city        500 non-null    object\n",
      " 5   reg_date    500 non-null    object\n",
      " 6   plan        500 non-null    object\n",
      " 7   churn_date  34 non-null     object\n",
      "dtypes: int64(2), object(6)\n",
      "memory usage: 31.4+ KB\n"
     ]
    }
   ],
   "source": [
    "users.info()"
   ]
  },
  {
   "cell_type": "markdown",
   "metadata": {},
   "source": [
    "<b>Mini Conclution</b>\n",
    "\n",
    "Terdapat nilai yang hilang pada kolom \"churn_date\" pada data Megaline user yang perlu diatasi"
   ]
  },
  {
   "cell_type": "markdown",
   "metadata": {},
   "source": [
    "<div class=\"alert alert-danger\">\n",
    "<b>Chamdani comment v.1</b> <a class=\"tocSkip\"></a>\n",
    "\n",
    "Cukup baik untuk memeriksa nilai unik dari setiap fitur (kolom) yang ada hingga kamu bisa mengetahui ada nilai yang hilang dalam kolom `churn_date`. Namun kode diatas terlihat tidak optimal karena dia perlu melakukan pengecekan setiap nilai unik dari setiap kolom satu persatu. Bayangkan jika kolom yang kamu miliki ada jutaan atau lebih data unik. Hal tersebut pasti akan sangat merepotkan. \n",
    "    \n",
    "Lihat kembali bagian sebelum sesi ini. Kamu telah berhasil memperlihatkan jumlah nilai kosong dari masing2 kolom dalam setiap data yang kamu miliki. Gunakan `.info()` untuk hasil yang lebih optimal\n",
    "\n",
    "</div>\n",
    "\n",
    "<div class=\"alert alert-block alert-info\">\n",
    "<b>Student answer.</b> <a class=\"tocSkip\"></a>\n",
    "    \n",
    "Baik kak, Terima kasih Tipsnya\n",
    "</div>"
   ]
  },
  {
   "cell_type": "markdown",
   "metadata": {},
   "source": [
    "<div class=\"alert alert-success\">\n",
    "<b>Chamdani comment v.2</b> <a class=\"tocSkip\"></a>\n",
    "\n",
    "Bagus sekali.\n",
    "\n",
    "</div>"
   ]
  },
  {
   "cell_type": "markdown",
   "metadata": {},
   "source": [
    "### Data Cleansing"
   ]
  },
  {
   "cell_type": "code",
   "execution_count": 27,
   "metadata": {},
   "outputs": [],
   "source": [
    "def month_year(data, column_target):\n",
    "    month = pd.to_datetime(data[column_target])\n",
    "    month = month.dt.to_period(\"M\")\n",
    "    return month"
   ]
  },
  {
   "cell_type": "markdown",
   "metadata": {},
   "source": [
    "<div class=\"alert alert-danger\">\n",
    "<b>Chamdani comment v.1</b> <a class=\"tocSkip\"></a>\n",
    "\n",
    "Ide bagus dan algoritma yang bagus. Namun dalam library pandas kita telah diberikan suatu fungsi untuk mengelola data tanggal dengan lebih mudah dan optimal. \n",
    "    \n",
    "Silahkan baca kembali materi tentang tata cara mengubah data kedalam tipe tanggal. Baca juga dokumentasi pandas tentang `DatetimeIndex` [disini](https://pandas.pydata.org/pandas-docs/stable/reference/api/pandas.DatetimeIndex.html)\n",
    "\n",
    "</div>\n",
    "<div class=\"alert alert-block alert-info\">\n",
    "<b>Student answer.</b> <a class=\"tocSkip\"></a>\n",
    "    \n",
    "Baik kak, Terima kasih Tipsnya\n",
    "</div>"
   ]
  },
  {
   "cell_type": "markdown",
   "metadata": {},
   "source": [
    "<div class=\"alert alert-success\">\n",
    "<b>Chamdani comment v.2</b> <a class=\"tocSkip\"></a>\n",
    "\n",
    "Bagus sekali.\n",
    "\n",
    "</div>"
   ]
  },
  {
   "cell_type": "markdown",
   "metadata": {},
   "source": [
    "#### Megaline Calls"
   ]
  },
  {
   "cell_type": "code",
   "execution_count": 28,
   "metadata": {},
   "outputs": [],
   "source": [
    "# Mendapatkan nilai bulan dan tahun\n",
    "calls['year_month'] = month_year(calls, 'call_date')"
   ]
  },
  {
   "cell_type": "markdown",
   "metadata": {},
   "source": [
    "<div class=\"alert alert-danger\">\n",
    "<b>Chamdani comment v.1</b> <a class=\"tocSkip\"></a>\n",
    "  \n",
    "Silahkan baca kembali materi tentang tata cara mengubah data kedalam tipe tanggal. Baca juga dokumentasi pandas tentang `DatetimeIndex` [disini](https://pandas.pydata.org/pandas-docs/stable/reference/api/pandas.DatetimeIndex.html)\n",
    "\n",
    "</div>\n",
    "\n",
    "<div class=\"alert alert-block alert-info\">\n",
    "<b>Student answer.</b> <a class=\"tocSkip\"></a>\n",
    "    \n",
    "Baik kak, Terima kasih Tipsnya\n",
    "</div>"
   ]
  },
  {
   "cell_type": "markdown",
   "metadata": {},
   "source": [
    "<div class=\"alert alert-success\">\n",
    "<b>Chamdani comment v.2</b> <a class=\"tocSkip\"></a>\n",
    "\n",
    "Bagus sekali.\n",
    "\n",
    "</div>"
   ]
  },
  {
   "cell_type": "code",
   "execution_count": 29,
   "metadata": {},
   "outputs": [],
   "source": [
    "# Mengubah type data pada kolom call_date menjadi datetime\n",
    "calls['call_date'] = pd.to_datetime(calls['call_date'])"
   ]
  },
  {
   "cell_type": "markdown",
   "metadata": {},
   "source": [
    "<div class=\"alert alert-warning\">\n",
    "<b>Chamdani comment v.1</b> <a class=\"tocSkip\"></a>\n",
    "    \n",
    "Ini bagus, kamu dapat mengelola data tanggal dengan lebih mudah dan optimal bila kamu mengubah tipe datanya dalam bentuk `date`. Silahkan baca kembali materi tentang tata cara mengubah data kedalam tipe tanggal menggunakan `to_datetime` [disini](https://pandas.pydata.org/docs/reference/api/pandas.to_datetime.html)\n",
    "\n",
    "</div>"
   ]
  },
  {
   "cell_type": "markdown",
   "metadata": {},
   "source": [
    "<div class=\"alert alert-success\">\n",
    "<b>Chamdani comment v.2</b> <a class=\"tocSkip\"></a>\n",
    "\n",
    "Bagus sekali.\n",
    "\n",
    "</div>"
   ]
  },
  {
   "cell_type": "code",
   "execution_count": 30,
   "metadata": {},
   "outputs": [],
   "source": [
    "# Melakukan pembulatan nilai keatas agar dapat mengetahui value melebihi batas call yaitu 3 sen setiap 1 menit \n",
    "calls['duration'] = np.ceil(calls['duration'])\n",
    "\n",
    "# Melakukan perubahan type data menjadi interger\n",
    "calls['duration'] = calls['duration'].astype(int)"
   ]
  },
  {
   "cell_type": "markdown",
   "metadata": {},
   "source": [
    "<div class=\"alert alert-success\">\n",
    "<b>Chamdani comment v.1</b> <a class=\"tocSkip\"></a>\n",
    "    \n",
    "Kerja bagus mas Sultan!\n",
    "\n",
    "</div>"
   ]
  },
  {
   "cell_type": "code",
   "execution_count": 31,
   "metadata": {},
   "outputs": [
    {
     "data": {
      "text/html": [
       "<div>\n",
       "<style scoped>\n",
       "    .dataframe tbody tr th:only-of-type {\n",
       "        vertical-align: middle;\n",
       "    }\n",
       "\n",
       "    .dataframe tbody tr th {\n",
       "        vertical-align: top;\n",
       "    }\n",
       "\n",
       "    .dataframe thead th {\n",
       "        text-align: right;\n",
       "    }\n",
       "</style>\n",
       "<table border=\"1\" class=\"dataframe\">\n",
       "  <thead>\n",
       "    <tr style=\"text-align: right;\">\n",
       "      <th></th>\n",
       "      <th>id</th>\n",
       "      <th>user_id</th>\n",
       "      <th>call_date</th>\n",
       "      <th>duration</th>\n",
       "      <th>year_month</th>\n",
       "    </tr>\n",
       "  </thead>\n",
       "  <tbody>\n",
       "    <tr>\n",
       "      <th>0</th>\n",
       "      <td>1000_93</td>\n",
       "      <td>1000</td>\n",
       "      <td>2018-12-27</td>\n",
       "      <td>9</td>\n",
       "      <td>2018-12</td>\n",
       "    </tr>\n",
       "    <tr>\n",
       "      <th>1</th>\n",
       "      <td>1000_145</td>\n",
       "      <td>1000</td>\n",
       "      <td>2018-12-27</td>\n",
       "      <td>14</td>\n",
       "      <td>2018-12</td>\n",
       "    </tr>\n",
       "    <tr>\n",
       "      <th>2</th>\n",
       "      <td>1000_247</td>\n",
       "      <td>1000</td>\n",
       "      <td>2018-12-27</td>\n",
       "      <td>15</td>\n",
       "      <td>2018-12</td>\n",
       "    </tr>\n",
       "    <tr>\n",
       "      <th>3</th>\n",
       "      <td>1000_309</td>\n",
       "      <td>1000</td>\n",
       "      <td>2018-12-28</td>\n",
       "      <td>6</td>\n",
       "      <td>2018-12</td>\n",
       "    </tr>\n",
       "    <tr>\n",
       "      <th>4</th>\n",
       "      <td>1000_380</td>\n",
       "      <td>1000</td>\n",
       "      <td>2018-12-30</td>\n",
       "      <td>5</td>\n",
       "      <td>2018-12</td>\n",
       "    </tr>\n",
       "  </tbody>\n",
       "</table>\n",
       "</div>"
      ],
      "text/plain": [
       "         id  user_id  call_date  duration year_month\n",
       "0   1000_93     1000 2018-12-27         9    2018-12\n",
       "1  1000_145     1000 2018-12-27        14    2018-12\n",
       "2  1000_247     1000 2018-12-27        15    2018-12\n",
       "3  1000_309     1000 2018-12-28         6    2018-12\n",
       "4  1000_380     1000 2018-12-30         5    2018-12"
      ]
     },
     "execution_count": 31,
     "metadata": {},
     "output_type": "execute_result"
    }
   ],
   "source": [
    "# Memeriksa sample data\n",
    "calls.head()"
   ]
  },
  {
   "cell_type": "code",
   "execution_count": 32,
   "metadata": {},
   "outputs": [
    {
     "name": "stdout",
     "output_type": "stream",
     "text": [
      "<class 'pandas.core.frame.DataFrame'>\n",
      "RangeIndex: 137735 entries, 0 to 137734\n",
      "Data columns (total 5 columns):\n",
      " #   Column      Non-Null Count   Dtype         \n",
      "---  ------      --------------   -----         \n",
      " 0   id          137735 non-null  object        \n",
      " 1   user_id     137735 non-null  int64         \n",
      " 2   call_date   137735 non-null  datetime64[ns]\n",
      " 3   duration    137735 non-null  int64         \n",
      " 4   year_month  137735 non-null  period[M]     \n",
      "dtypes: datetime64[ns](1), int64(2), object(1), period[M](1)\n",
      "memory usage: 5.3+ MB\n"
     ]
    }
   ],
   "source": [
    "# Memeriksa hasil akhir cleansing data\n",
    "calls.info()"
   ]
  },
  {
   "cell_type": "markdown",
   "metadata": {},
   "source": [
    "<div class=\"alert alert-success\">\n",
    "<b>Chamdani comment v.1</b> <a class=\"tocSkip\"></a>\n",
    "    \n",
    "Kerja bagus mas Sultan!\n",
    "    \n",
    "Ide bagus untuk memastikan apa yang kita kerjakan dapat berjalan dengan baik sebelum kita lanjut ke tahap yang lebih dalam.\n",
    "\n",
    "</div>"
   ]
  },
  {
   "cell_type": "markdown",
   "metadata": {},
   "source": [
    "#### Megaline Internet"
   ]
  },
  {
   "cell_type": "code",
   "execution_count": 33,
   "metadata": {},
   "outputs": [],
   "source": [
    "# Mendapatkan nilai bulan dan tahun\n",
    "internet['year_month'] = month_year(internet, 'session_date')"
   ]
  },
  {
   "cell_type": "code",
   "execution_count": 34,
   "metadata": {},
   "outputs": [],
   "source": [
    "# Mengubah type data pada kolom session_date menjadi datetime\n",
    "internet['session_date'] = pd.to_datetime(internet['session_date'])"
   ]
  },
  {
   "cell_type": "markdown",
   "metadata": {},
   "source": [
    "<div class=\"alert alert-warning\">\n",
    "<b>Chamdani comment v.1</b> <a class=\"tocSkip\"></a>\n",
    "    \n",
    "Silahkan dicek kembali feedback diatas ya mas Sultan. **Semangat!**\n",
    "\n",
    "</div>"
   ]
  },
  {
   "cell_type": "markdown",
   "metadata": {},
   "source": [
    "<div class=\"alert alert-success\">\n",
    "<b>Chamdani comment v.2</b> <a class=\"tocSkip\"></a>\n",
    "\n",
    "Bagus sekali.\n",
    "\n",
    "</div>"
   ]
  },
  {
   "cell_type": "code",
   "execution_count": 35,
   "metadata": {},
   "outputs": [],
   "source": [
    "# Mendapatkan nilai penggunaan internet dalam Gigabyte (1 GB = 1024 MB)\n",
    "internet['gb_used'] = internet['mb_used'] / 1024\n",
    "\n",
    "# Melakukan pembulatan keatas untuk setiap user yang melebihi 1024 MB akan tetap dikenakan 1 GB\n",
    "internet['gb_used'] = np.ceil(internet['gb_used'])\n",
    "\n",
    "# Melakukan perubahan type data gb_used menjadi interger\n",
    "internet['gb_used'] = internet['gb_used'].astype(int)"
   ]
  },
  {
   "cell_type": "markdown",
   "metadata": {},
   "source": [
    "<div class=\"alert alert-success\">\n",
    "<b>Chamdani comment v.1</b> <a class=\"tocSkip\"></a>\n",
    "    \n",
    "Keren, kerja bagus mas Sultan!\n",
    "\n",
    "<br>\n",
    "Perlu diingat bahwa komputer menggunakan biner, jadi dalam konversi satuan bilangan bulat biner terdekat adalah 1024 bukan 1000 sebagai pembagi.\n",
    "\n",
    "Saat ini benar. Standarnya adalah 1 Gigabyte (GB) = 1000 Megabyte (MB). Tapi tidak selalu seperti itu. Merujuk pada International Electrotechnical Commission yang diusulkan pada tahun 1998 nomenklatur 1 Kibibyte (KiB) = 1024 byte, 1 Mebibyte (MiB) = 1024 KiB, 1 Gibibyte = 1024 MiB, dan seterusnya.\n",
    "\n",
    "Jadi, hari ini semua standar signifikan menganggap 1 Kibibyte (KiB) = 1024 byte dan 1 Kilobyte (KB) = 1000 byte. Inilah yang digunakan oleh produsen penyimpanan saat ini.\n",
    "\n",
    "Untuk referensi silakan cek blog ini <a href=\"https://ozanerhansha.medium.com/kilobytes-vs-kibibytes-d77eb2ff6c2a\"> Kilobyte vs. Kibibyte </a>\n",
    "\n",
    "</div>"
   ]
  },
  {
   "cell_type": "code",
   "execution_count": 36,
   "metadata": {},
   "outputs": [
    {
     "data": {
      "text/html": [
       "<div>\n",
       "<style scoped>\n",
       "    .dataframe tbody tr th:only-of-type {\n",
       "        vertical-align: middle;\n",
       "    }\n",
       "\n",
       "    .dataframe tbody tr th {\n",
       "        vertical-align: top;\n",
       "    }\n",
       "\n",
       "    .dataframe thead th {\n",
       "        text-align: right;\n",
       "    }\n",
       "</style>\n",
       "<table border=\"1\" class=\"dataframe\">\n",
       "  <thead>\n",
       "    <tr style=\"text-align: right;\">\n",
       "      <th></th>\n",
       "      <th>id</th>\n",
       "      <th>user_id</th>\n",
       "      <th>session_date</th>\n",
       "      <th>mb_used</th>\n",
       "      <th>year_month</th>\n",
       "      <th>gb_used</th>\n",
       "    </tr>\n",
       "  </thead>\n",
       "  <tbody>\n",
       "    <tr>\n",
       "      <th>7705</th>\n",
       "      <td>1041_545</td>\n",
       "      <td>1041</td>\n",
       "      <td>2018-08-29</td>\n",
       "      <td>268.95</td>\n",
       "      <td>2018-08</td>\n",
       "      <td>1</td>\n",
       "    </tr>\n",
       "    <tr>\n",
       "      <th>28712</th>\n",
       "      <td>1132_90</td>\n",
       "      <td>1132</td>\n",
       "      <td>2018-09-10</td>\n",
       "      <td>199.76</td>\n",
       "      <td>2018-09</td>\n",
       "      <td>1</td>\n",
       "    </tr>\n",
       "    <tr>\n",
       "      <th>87668</th>\n",
       "      <td>1405_549</td>\n",
       "      <td>1405</td>\n",
       "      <td>2018-11-23</td>\n",
       "      <td>410.20</td>\n",
       "      <td>2018-11</td>\n",
       "      <td>1</td>\n",
       "    </tr>\n",
       "    <tr>\n",
       "      <th>87036</th>\n",
       "      <td>1403_384</td>\n",
       "      <td>1403</td>\n",
       "      <td>2018-04-11</td>\n",
       "      <td>353.89</td>\n",
       "      <td>2018-04</td>\n",
       "      <td>1</td>\n",
       "    </tr>\n",
       "    <tr>\n",
       "      <th>88394</th>\n",
       "      <td>1408_113</td>\n",
       "      <td>1408</td>\n",
       "      <td>2018-09-09</td>\n",
       "      <td>0.00</td>\n",
       "      <td>2018-09</td>\n",
       "      <td>0</td>\n",
       "    </tr>\n",
       "    <tr>\n",
       "      <th>100159</th>\n",
       "      <td>1474_482</td>\n",
       "      <td>1474</td>\n",
       "      <td>2018-12-16</td>\n",
       "      <td>0.00</td>\n",
       "      <td>2018-12</td>\n",
       "      <td>0</td>\n",
       "    </tr>\n",
       "    <tr>\n",
       "      <th>70261</th>\n",
       "      <td>1328_220</td>\n",
       "      <td>1328</td>\n",
       "      <td>2018-09-13</td>\n",
       "      <td>569.09</td>\n",
       "      <td>2018-09</td>\n",
       "      <td>1</td>\n",
       "    </tr>\n",
       "    <tr>\n",
       "      <th>102204</th>\n",
       "      <td>1490_19</td>\n",
       "      <td>1490</td>\n",
       "      <td>2018-11-14</td>\n",
       "      <td>566.93</td>\n",
       "      <td>2018-11</td>\n",
       "      <td>1</td>\n",
       "    </tr>\n",
       "    <tr>\n",
       "      <th>95635</th>\n",
       "      <td>1446_85</td>\n",
       "      <td>1446</td>\n",
       "      <td>2018-12-02</td>\n",
       "      <td>264.58</td>\n",
       "      <td>2018-12</td>\n",
       "      <td>1</td>\n",
       "    </tr>\n",
       "    <tr>\n",
       "      <th>17056</th>\n",
       "      <td>1077_176</td>\n",
       "      <td>1077</td>\n",
       "      <td>2018-08-11</td>\n",
       "      <td>216.99</td>\n",
       "      <td>2018-08</td>\n",
       "      <td>1</td>\n",
       "    </tr>\n",
       "  </tbody>\n",
       "</table>\n",
       "</div>"
      ],
      "text/plain": [
       "              id  user_id session_date  mb_used year_month  gb_used\n",
       "7705    1041_545     1041   2018-08-29   268.95    2018-08        1\n",
       "28712    1132_90     1132   2018-09-10   199.76    2018-09        1\n",
       "87668   1405_549     1405   2018-11-23   410.20    2018-11        1\n",
       "87036   1403_384     1403   2018-04-11   353.89    2018-04        1\n",
       "88394   1408_113     1408   2018-09-09     0.00    2018-09        0\n",
       "100159  1474_482     1474   2018-12-16     0.00    2018-12        0\n",
       "70261   1328_220     1328   2018-09-13   569.09    2018-09        1\n",
       "102204   1490_19     1490   2018-11-14   566.93    2018-11        1\n",
       "95635    1446_85     1446   2018-12-02   264.58    2018-12        1\n",
       "17056   1077_176     1077   2018-08-11   216.99    2018-08        1"
      ]
     },
     "execution_count": 36,
     "metadata": {},
     "output_type": "execute_result"
    }
   ],
   "source": [
    "# Memeriksa sample data\n",
    "internet.sample(10)"
   ]
  },
  {
   "cell_type": "code",
   "execution_count": 37,
   "metadata": {
    "scrolled": true
   },
   "outputs": [
    {
     "name": "stdout",
     "output_type": "stream",
     "text": [
      "<class 'pandas.core.frame.DataFrame'>\n",
      "RangeIndex: 104825 entries, 0 to 104824\n",
      "Data columns (total 6 columns):\n",
      " #   Column        Non-Null Count   Dtype         \n",
      "---  ------        --------------   -----         \n",
      " 0   id            104825 non-null  object        \n",
      " 1   user_id       104825 non-null  int64         \n",
      " 2   session_date  104825 non-null  datetime64[ns]\n",
      " 3   mb_used       104825 non-null  float64       \n",
      " 4   year_month    104825 non-null  period[M]     \n",
      " 5   gb_used       104825 non-null  int64         \n",
      "dtypes: datetime64[ns](1), float64(1), int64(2), object(1), period[M](1)\n",
      "memory usage: 4.8+ MB\n"
     ]
    }
   ],
   "source": [
    "# Memastikan perubahan sudah dilakukan\n",
    "internet.info()"
   ]
  },
  {
   "cell_type": "markdown",
   "metadata": {},
   "source": [
    "#### Megaline plan"
   ]
  },
  {
   "cell_type": "code",
   "execution_count": 38,
   "metadata": {},
   "outputs": [],
   "source": [
    "# Melakukan perubahan satuan mb menjadi gb pada kolom mb_per_month_included dengan membagi 1024 (1GB = 1024 MB)\n",
    "plan['mb_per_month_included'] = plan['mb_per_month_included'] / 1024"
   ]
  },
  {
   "cell_type": "code",
   "execution_count": 39,
   "metadata": {},
   "outputs": [],
   "source": [
    "# Melakukan perubahan type data menjadi interger\n",
    "plan['mb_per_month_included'] = plan['mb_per_month_included'].astype(int)"
   ]
  },
  {
   "cell_type": "code",
   "execution_count": 40,
   "metadata": {},
   "outputs": [],
   "source": [
    "# Melakukan penyesuaian / perubahan nama column\n",
    "plan.rename(columns={'mb_per_month_included':'gb_per_month_included'}, inplace=True)"
   ]
  },
  {
   "cell_type": "code",
   "execution_count": 41,
   "metadata": {},
   "outputs": [
    {
     "data": {
      "text/html": [
       "<div>\n",
       "<style scoped>\n",
       "    .dataframe tbody tr th:only-of-type {\n",
       "        vertical-align: middle;\n",
       "    }\n",
       "\n",
       "    .dataframe tbody tr th {\n",
       "        vertical-align: top;\n",
       "    }\n",
       "\n",
       "    .dataframe thead th {\n",
       "        text-align: right;\n",
       "    }\n",
       "</style>\n",
       "<table border=\"1\" class=\"dataframe\">\n",
       "  <thead>\n",
       "    <tr style=\"text-align: right;\">\n",
       "      <th></th>\n",
       "      <th>messages_included</th>\n",
       "      <th>gb_per_month_included</th>\n",
       "      <th>minutes_included</th>\n",
       "      <th>usd_monthly_pay</th>\n",
       "      <th>usd_per_gb</th>\n",
       "      <th>usd_per_message</th>\n",
       "      <th>usd_per_minute</th>\n",
       "      <th>plan_name</th>\n",
       "    </tr>\n",
       "  </thead>\n",
       "  <tbody>\n",
       "    <tr>\n",
       "      <th>0</th>\n",
       "      <td>50</td>\n",
       "      <td>15</td>\n",
       "      <td>500</td>\n",
       "      <td>20</td>\n",
       "      <td>10</td>\n",
       "      <td>0.03</td>\n",
       "      <td>0.03</td>\n",
       "      <td>surf</td>\n",
       "    </tr>\n",
       "    <tr>\n",
       "      <th>1</th>\n",
       "      <td>1000</td>\n",
       "      <td>30</td>\n",
       "      <td>3000</td>\n",
       "      <td>70</td>\n",
       "      <td>7</td>\n",
       "      <td>0.01</td>\n",
       "      <td>0.01</td>\n",
       "      <td>ultimate</td>\n",
       "    </tr>\n",
       "  </tbody>\n",
       "</table>\n",
       "</div>"
      ],
      "text/plain": [
       "   messages_included  gb_per_month_included  minutes_included  \\\n",
       "0                 50                     15               500   \n",
       "1               1000                     30              3000   \n",
       "\n",
       "   usd_monthly_pay  usd_per_gb  usd_per_message  usd_per_minute plan_name  \n",
       "0               20          10             0.03            0.03      surf  \n",
       "1               70           7             0.01            0.01  ultimate  "
      ]
     },
     "execution_count": 41,
     "metadata": {},
     "output_type": "execute_result"
    }
   ],
   "source": [
    "# Memeriksa data\n",
    "plan"
   ]
  },
  {
   "cell_type": "code",
   "execution_count": 42,
   "metadata": {},
   "outputs": [
    {
     "name": "stdout",
     "output_type": "stream",
     "text": [
      "<class 'pandas.core.frame.DataFrame'>\n",
      "RangeIndex: 2 entries, 0 to 1\n",
      "Data columns (total 8 columns):\n",
      " #   Column                 Non-Null Count  Dtype  \n",
      "---  ------                 --------------  -----  \n",
      " 0   messages_included      2 non-null      int64  \n",
      " 1   gb_per_month_included  2 non-null      int64  \n",
      " 2   minutes_included       2 non-null      int64  \n",
      " 3   usd_monthly_pay        2 non-null      int64  \n",
      " 4   usd_per_gb             2 non-null      int64  \n",
      " 5   usd_per_message        2 non-null      float64\n",
      " 6   usd_per_minute         2 non-null      float64\n",
      " 7   plan_name              2 non-null      object \n",
      "dtypes: float64(2), int64(5), object(1)\n",
      "memory usage: 256.0+ bytes\n"
     ]
    }
   ],
   "source": [
    "# Memastikan perubahan sudah dilakukan\n",
    "plan.info()"
   ]
  },
  {
   "cell_type": "markdown",
   "metadata": {},
   "source": [
    "#### Megaline Messages"
   ]
  },
  {
   "cell_type": "code",
   "execution_count": 43,
   "metadata": {},
   "outputs": [],
   "source": [
    "# Mendapatkan nilai bulan dan tahun\n",
    "messages['year_month'] = month_year(messages, 'message_date')"
   ]
  },
  {
   "cell_type": "code",
   "execution_count": 44,
   "metadata": {},
   "outputs": [],
   "source": [
    "# Mengubah type data pada kolom message_date menjadi datetime\n",
    "messages['message_date'] = pd.to_datetime(messages['message_date'])"
   ]
  },
  {
   "cell_type": "code",
   "execution_count": 45,
   "metadata": {},
   "outputs": [
    {
     "data": {
      "text/html": [
       "<div>\n",
       "<style scoped>\n",
       "    .dataframe tbody tr th:only-of-type {\n",
       "        vertical-align: middle;\n",
       "    }\n",
       "\n",
       "    .dataframe tbody tr th {\n",
       "        vertical-align: top;\n",
       "    }\n",
       "\n",
       "    .dataframe thead th {\n",
       "        text-align: right;\n",
       "    }\n",
       "</style>\n",
       "<table border=\"1\" class=\"dataframe\">\n",
       "  <thead>\n",
       "    <tr style=\"text-align: right;\">\n",
       "      <th></th>\n",
       "      <th>id</th>\n",
       "      <th>user_id</th>\n",
       "      <th>message_date</th>\n",
       "      <th>year_month</th>\n",
       "    </tr>\n",
       "  </thead>\n",
       "  <tbody>\n",
       "    <tr>\n",
       "      <th>68751</th>\n",
       "      <td>1444_234</td>\n",
       "      <td>1444</td>\n",
       "      <td>2018-11-18</td>\n",
       "      <td>2018-11</td>\n",
       "    </tr>\n",
       "    <tr>\n",
       "      <th>8345</th>\n",
       "      <td>1061_351</td>\n",
       "      <td>1061</td>\n",
       "      <td>2018-11-27</td>\n",
       "      <td>2018-11</td>\n",
       "    </tr>\n",
       "    <tr>\n",
       "      <th>44949</th>\n",
       "      <td>1302_54</td>\n",
       "      <td>1302</td>\n",
       "      <td>2018-12-03</td>\n",
       "      <td>2018-12</td>\n",
       "    </tr>\n",
       "    <tr>\n",
       "      <th>56328</th>\n",
       "      <td>1355_520</td>\n",
       "      <td>1355</td>\n",
       "      <td>2018-11-23</td>\n",
       "      <td>2018-11</td>\n",
       "    </tr>\n",
       "    <tr>\n",
       "      <th>49573</th>\n",
       "      <td>1328_531</td>\n",
       "      <td>1328</td>\n",
       "      <td>2018-12-30</td>\n",
       "      <td>2018-12</td>\n",
       "    </tr>\n",
       "    <tr>\n",
       "      <th>12689</th>\n",
       "      <td>1082_266</td>\n",
       "      <td>1082</td>\n",
       "      <td>2018-10-18</td>\n",
       "      <td>2018-10</td>\n",
       "    </tr>\n",
       "    <tr>\n",
       "      <th>52518</th>\n",
       "      <td>1336_517</td>\n",
       "      <td>1336</td>\n",
       "      <td>2018-08-29</td>\n",
       "      <td>2018-08</td>\n",
       "    </tr>\n",
       "    <tr>\n",
       "      <th>34252</th>\n",
       "      <td>1215_166</td>\n",
       "      <td>1215</td>\n",
       "      <td>2018-10-23</td>\n",
       "      <td>2018-10</td>\n",
       "    </tr>\n",
       "    <tr>\n",
       "      <th>25149</th>\n",
       "      <td>1148_215</td>\n",
       "      <td>1148</td>\n",
       "      <td>2018-12-26</td>\n",
       "      <td>2018-12</td>\n",
       "    </tr>\n",
       "    <tr>\n",
       "      <th>37282</th>\n",
       "      <td>1247_446</td>\n",
       "      <td>1247</td>\n",
       "      <td>2018-11-10</td>\n",
       "      <td>2018-11</td>\n",
       "    </tr>\n",
       "  </tbody>\n",
       "</table>\n",
       "</div>"
      ],
      "text/plain": [
       "             id  user_id message_date year_month\n",
       "68751  1444_234     1444   2018-11-18    2018-11\n",
       "8345   1061_351     1061   2018-11-27    2018-11\n",
       "44949   1302_54     1302   2018-12-03    2018-12\n",
       "56328  1355_520     1355   2018-11-23    2018-11\n",
       "49573  1328_531     1328   2018-12-30    2018-12\n",
       "12689  1082_266     1082   2018-10-18    2018-10\n",
       "52518  1336_517     1336   2018-08-29    2018-08\n",
       "34252  1215_166     1215   2018-10-23    2018-10\n",
       "25149  1148_215     1148   2018-12-26    2018-12\n",
       "37282  1247_446     1247   2018-11-10    2018-11"
      ]
     },
     "execution_count": 45,
     "metadata": {},
     "output_type": "execute_result"
    }
   ],
   "source": [
    "# Memeriksa sample data\n",
    "messages.sample(10)"
   ]
  },
  {
   "cell_type": "code",
   "execution_count": 46,
   "metadata": {},
   "outputs": [
    {
     "name": "stdout",
     "output_type": "stream",
     "text": [
      "<class 'pandas.core.frame.DataFrame'>\n",
      "RangeIndex: 76051 entries, 0 to 76050\n",
      "Data columns (total 4 columns):\n",
      " #   Column        Non-Null Count  Dtype         \n",
      "---  ------        --------------  -----         \n",
      " 0   id            76051 non-null  object        \n",
      " 1   user_id       76051 non-null  int64         \n",
      " 2   message_date  76051 non-null  datetime64[ns]\n",
      " 3   year_month    76051 non-null  period[M]     \n",
      "dtypes: datetime64[ns](1), int64(1), object(1), period[M](1)\n",
      "memory usage: 2.3+ MB\n"
     ]
    }
   ],
   "source": [
    "# Memastikan perubahan sudah dilakukan\n",
    "messages.info()"
   ]
  },
  {
   "cell_type": "markdown",
   "metadata": {},
   "source": [
    "<div class=\"alert alert-warning\">\n",
    "<b>Chamdani comment v.1</b> <a class=\"tocSkip\"></a>\n",
    "    \n",
    "Saya rasa kamu perlu melihat kembali kolom `year_month` dan `month` yang baru saja kamu buat. Saya melihat bahwa kedua kolom tersebut memiliki nilai yang identik. Coba untuk memperbaikinya. **Semangat!**\n",
    "\n",
    "</div>"
   ]
  },
  {
   "cell_type": "markdown",
   "metadata": {},
   "source": [
    "<div class=\"alert alert-danger\">\n",
    "<b>Chamdani comment v.2</b> <a class=\"tocSkip\"></a>\n",
    "\n",
    "Perhatikan kembali kolom `year_month` dan `month` keduanya memiliki nilai yang sama. Seharusnya tidak boleh begitu.\n",
    "\n",
    "</div>\n",
    "\n",
    "<div class=\"alert alert-block alert-info\">\n",
    "<b>Student answer v.2</b> <a class=\"tocSkip\"></a>\n",
    "    \n",
    "Baik kak.\n",
    "</div>"
   ]
  },
  {
   "cell_type": "markdown",
   "metadata": {},
   "source": [
    "<div class=\"alert alert-success\">\n",
    "<b>Chamdani comment v.3</b> <a class=\"tocSkip\"></a>\n",
    "    \n",
    "Great!\n",
    "\n",
    "</div>"
   ]
  },
  {
   "cell_type": "markdown",
   "metadata": {},
   "source": [
    "#### Megaline Users"
   ]
  },
  {
   "cell_type": "code",
   "execution_count": 47,
   "metadata": {},
   "outputs": [],
   "source": [
    "# Mengubah type data pada kolom reg_date menjadi datetime\n",
    "users['reg_date'] = pd.to_datetime(users['reg_date'])"
   ]
  },
  {
   "cell_type": "code",
   "execution_count": 48,
   "metadata": {},
   "outputs": [],
   "source": [
    "# Mendapatkan value kota\n",
    "users['fixed_city']= users['city'].str.split(' ').str[-2]"
   ]
  },
  {
   "cell_type": "markdown",
   "metadata": {},
   "source": [
    "<div class=\"alert alert-warning\">\n",
    "<b>Chamdani comment v.1</b> <a class=\"tocSkip\"></a>\n",
    "    \n",
    "Saya rasa kode ini bisa lebih singkat lagi dengan menggunakan split parameter spasi hingga akhirnya kamu tidak perlu melakukan replace MSA dengan hal lain.\n",
    "\n",
    "</div>\n",
    "\n",
    "<div class=\"alert alert-block alert-info\">\n",
    "<b>Student answer.</b> <a class=\"tocSkip\"></a>\n",
    "    \n",
    "Baik kak, Terima kasih Tipsnya\n",
    "</div>"
   ]
  },
  {
   "cell_type": "markdown",
   "metadata": {},
   "source": [
    "<div class=\"alert alert-success\">\n",
    "<b>Chamdani comment v.2</b> <a class=\"tocSkip\"></a>\n",
    "\n",
    "Bagus sekali.\n",
    "\n",
    "</div>"
   ]
  },
  {
   "cell_type": "code",
   "execution_count": 49,
   "metadata": {},
   "outputs": [],
   "source": [
    "users.loc[users['churn_date'].isna(), 'churn_date'] = 'NaN'"
   ]
  },
  {
   "cell_type": "markdown",
   "metadata": {},
   "source": [
    "<div class=\"alert alert-success\">\n",
    "<b>Chamdani comment v.1</b> <a class=\"tocSkip\"></a>\n",
    "    \n",
    "Bagus mas Sultan! kamu berhasil menggunakan fungsi `.loc` dengan baik. Dan saya rasa dengan sedikit deskripsi kode akan lebih baik. Semangat mas Sultan!\n",
    "</div>"
   ]
  },
  {
   "cell_type": "code",
   "execution_count": 50,
   "metadata": {},
   "outputs": [],
   "source": [
    "# Membuat kolom bool pelanggan yang masih berlangganan yang mungkin akan berguna pada analisis berikutnya\n",
    "users['is_subscribe'] = users['churn_date'] == 'NaN'\n"
   ]
  },
  {
   "cell_type": "markdown",
   "metadata": {},
   "source": [
    "<div class=\"alert alert-warning\">\n",
    "<b>Chamdani comment v.1</b> <a class=\"tocSkip\"></a>\n",
    "    \n",
    "Akan lebih mantab dengan penjelasan tujuan dari kode ini :)\n",
    "\n",
    "</div>"
   ]
  },
  {
   "cell_type": "markdown",
   "metadata": {},
   "source": [
    "<div class=\"alert alert-success\">\n",
    "<b>Chamdani comment v.2</b> <a class=\"tocSkip\"></a>\n",
    "\n",
    "Bagus sekali.\n",
    "\n",
    "</div>"
   ]
  },
  {
   "cell_type": "code",
   "execution_count": 51,
   "metadata": {},
   "outputs": [
    {
     "data": {
      "text/html": [
       "<div>\n",
       "<style scoped>\n",
       "    .dataframe tbody tr th:only-of-type {\n",
       "        vertical-align: middle;\n",
       "    }\n",
       "\n",
       "    .dataframe tbody tr th {\n",
       "        vertical-align: top;\n",
       "    }\n",
       "\n",
       "    .dataframe thead th {\n",
       "        text-align: right;\n",
       "    }\n",
       "</style>\n",
       "<table border=\"1\" class=\"dataframe\">\n",
       "  <thead>\n",
       "    <tr style=\"text-align: right;\">\n",
       "      <th></th>\n",
       "      <th>user_id</th>\n",
       "      <th>first_name</th>\n",
       "      <th>last_name</th>\n",
       "      <th>age</th>\n",
       "      <th>city</th>\n",
       "      <th>reg_date</th>\n",
       "      <th>plan</th>\n",
       "      <th>churn_date</th>\n",
       "      <th>fixed_city</th>\n",
       "      <th>is_subscribe</th>\n",
       "    </tr>\n",
       "  </thead>\n",
       "  <tbody>\n",
       "    <tr>\n",
       "      <th>46</th>\n",
       "      <td>1046</td>\n",
       "      <td>Beata</td>\n",
       "      <td>Hooper</td>\n",
       "      <td>67</td>\n",
       "      <td>Boston-Cambridge-Newton, MA-NH MSA</td>\n",
       "      <td>2018-02-19</td>\n",
       "      <td>surf</td>\n",
       "      <td>NaN</td>\n",
       "      <td>MA-NH</td>\n",
       "      <td>True</td>\n",
       "    </tr>\n",
       "    <tr>\n",
       "      <th>87</th>\n",
       "      <td>1087</td>\n",
       "      <td>Lenard</td>\n",
       "      <td>Atkinson</td>\n",
       "      <td>45</td>\n",
       "      <td>Washington-Arlington-Alexandria, DC-VA-MD-WV MSA</td>\n",
       "      <td>2018-11-18</td>\n",
       "      <td>surf</td>\n",
       "      <td>NaN</td>\n",
       "      <td>DC-VA-MD-WV</td>\n",
       "      <td>True</td>\n",
       "    </tr>\n",
       "    <tr>\n",
       "      <th>457</th>\n",
       "      <td>1457</td>\n",
       "      <td>Janean</td>\n",
       "      <td>Lynch</td>\n",
       "      <td>47</td>\n",
       "      <td>New York-Newark-Jersey City, NY-NJ-PA MSA</td>\n",
       "      <td>2018-02-17</td>\n",
       "      <td>surf</td>\n",
       "      <td>NaN</td>\n",
       "      <td>NY-NJ-PA</td>\n",
       "      <td>True</td>\n",
       "    </tr>\n",
       "    <tr>\n",
       "      <th>12</th>\n",
       "      <td>1012</td>\n",
       "      <td>Jonelle</td>\n",
       "      <td>Mcbride</td>\n",
       "      <td>59</td>\n",
       "      <td>Chicago-Naperville-Elgin, IL-IN-WI MSA</td>\n",
       "      <td>2018-06-28</td>\n",
       "      <td>surf</td>\n",
       "      <td>2018-11-16</td>\n",
       "      <td>IL-IN-WI</td>\n",
       "      <td>False</td>\n",
       "    </tr>\n",
       "    <tr>\n",
       "      <th>262</th>\n",
       "      <td>1262</td>\n",
       "      <td>Michelina</td>\n",
       "      <td>Hamilton</td>\n",
       "      <td>34</td>\n",
       "      <td>Dallas-Fort Worth-Arlington, TX MSA</td>\n",
       "      <td>2018-02-09</td>\n",
       "      <td>surf</td>\n",
       "      <td>NaN</td>\n",
       "      <td>TX</td>\n",
       "      <td>True</td>\n",
       "    </tr>\n",
       "    <tr>\n",
       "      <th>226</th>\n",
       "      <td>1226</td>\n",
       "      <td>Denver</td>\n",
       "      <td>Harrell</td>\n",
       "      <td>64</td>\n",
       "      <td>Riverside-San Bernardino-Ontario, CA MSA</td>\n",
       "      <td>2018-03-15</td>\n",
       "      <td>ultimate</td>\n",
       "      <td>NaN</td>\n",
       "      <td>CA</td>\n",
       "      <td>True</td>\n",
       "    </tr>\n",
       "    <tr>\n",
       "      <th>422</th>\n",
       "      <td>1422</td>\n",
       "      <td>Georgianne</td>\n",
       "      <td>Huff</td>\n",
       "      <td>41</td>\n",
       "      <td>Los Angeles-Long Beach-Anaheim, CA MSA</td>\n",
       "      <td>2018-04-03</td>\n",
       "      <td>ultimate</td>\n",
       "      <td>NaN</td>\n",
       "      <td>CA</td>\n",
       "      <td>True</td>\n",
       "    </tr>\n",
       "    <tr>\n",
       "      <th>70</th>\n",
       "      <td>1070</td>\n",
       "      <td>Jacelyn</td>\n",
       "      <td>Contreras</td>\n",
       "      <td>66</td>\n",
       "      <td>Chicago-Naperville-Elgin, IL-IN-WI MSA</td>\n",
       "      <td>2018-05-12</td>\n",
       "      <td>surf</td>\n",
       "      <td>NaN</td>\n",
       "      <td>IL-IN-WI</td>\n",
       "      <td>True</td>\n",
       "    </tr>\n",
       "    <tr>\n",
       "      <th>488</th>\n",
       "      <td>1488</td>\n",
       "      <td>Shirley</td>\n",
       "      <td>Jones</td>\n",
       "      <td>29</td>\n",
       "      <td>Baton Rouge, LA MSA</td>\n",
       "      <td>2018-05-15</td>\n",
       "      <td>surf</td>\n",
       "      <td>NaN</td>\n",
       "      <td>LA</td>\n",
       "      <td>True</td>\n",
       "    </tr>\n",
       "    <tr>\n",
       "      <th>398</th>\n",
       "      <td>1398</td>\n",
       "      <td>German</td>\n",
       "      <td>Thompson</td>\n",
       "      <td>30</td>\n",
       "      <td>Denver-Aurora-Lakewood, CO MSA</td>\n",
       "      <td>2018-10-22</td>\n",
       "      <td>surf</td>\n",
       "      <td>NaN</td>\n",
       "      <td>CO</td>\n",
       "      <td>True</td>\n",
       "    </tr>\n",
       "  </tbody>\n",
       "</table>\n",
       "</div>"
      ],
      "text/plain": [
       "     user_id  first_name  last_name  age  \\\n",
       "46      1046       Beata     Hooper   67   \n",
       "87      1087      Lenard   Atkinson   45   \n",
       "457     1457      Janean      Lynch   47   \n",
       "12      1012     Jonelle    Mcbride   59   \n",
       "262     1262   Michelina   Hamilton   34   \n",
       "226     1226      Denver    Harrell   64   \n",
       "422     1422  Georgianne       Huff   41   \n",
       "70      1070     Jacelyn  Contreras   66   \n",
       "488     1488     Shirley      Jones   29   \n",
       "398     1398      German   Thompson   30   \n",
       "\n",
       "                                                 city   reg_date      plan  \\\n",
       "46                 Boston-Cambridge-Newton, MA-NH MSA 2018-02-19      surf   \n",
       "87   Washington-Arlington-Alexandria, DC-VA-MD-WV MSA 2018-11-18      surf   \n",
       "457         New York-Newark-Jersey City, NY-NJ-PA MSA 2018-02-17      surf   \n",
       "12             Chicago-Naperville-Elgin, IL-IN-WI MSA 2018-06-28      surf   \n",
       "262               Dallas-Fort Worth-Arlington, TX MSA 2018-02-09      surf   \n",
       "226          Riverside-San Bernardino-Ontario, CA MSA 2018-03-15  ultimate   \n",
       "422            Los Angeles-Long Beach-Anaheim, CA MSA 2018-04-03  ultimate   \n",
       "70             Chicago-Naperville-Elgin, IL-IN-WI MSA 2018-05-12      surf   \n",
       "488                               Baton Rouge, LA MSA 2018-05-15      surf   \n",
       "398                    Denver-Aurora-Lakewood, CO MSA 2018-10-22      surf   \n",
       "\n",
       "     churn_date   fixed_city  is_subscribe  \n",
       "46          NaN        MA-NH          True  \n",
       "87          NaN  DC-VA-MD-WV          True  \n",
       "457         NaN     NY-NJ-PA          True  \n",
       "12   2018-11-16     IL-IN-WI         False  \n",
       "262         NaN           TX          True  \n",
       "226         NaN           CA          True  \n",
       "422         NaN           CA          True  \n",
       "70          NaN     IL-IN-WI          True  \n",
       "488         NaN           LA          True  \n",
       "398         NaN           CO          True  "
      ]
     },
     "execution_count": 51,
     "metadata": {},
     "output_type": "execute_result"
    }
   ],
   "source": [
    "# Memeriksa sample data\n",
    "users.sample(10)"
   ]
  },
  {
   "cell_type": "code",
   "execution_count": 52,
   "metadata": {
    "scrolled": true
   },
   "outputs": [
    {
     "name": "stdout",
     "output_type": "stream",
     "text": [
      "<class 'pandas.core.frame.DataFrame'>\n",
      "RangeIndex: 500 entries, 0 to 499\n",
      "Data columns (total 10 columns):\n",
      " #   Column        Non-Null Count  Dtype         \n",
      "---  ------        --------------  -----         \n",
      " 0   user_id       500 non-null    int64         \n",
      " 1   first_name    500 non-null    object        \n",
      " 2   last_name     500 non-null    object        \n",
      " 3   age           500 non-null    int64         \n",
      " 4   city          500 non-null    object        \n",
      " 5   reg_date      500 non-null    datetime64[ns]\n",
      " 6   plan          500 non-null    object        \n",
      " 7   churn_date    500 non-null    object        \n",
      " 8   fixed_city    500 non-null    object        \n",
      " 9   is_subscribe  500 non-null    bool          \n",
      "dtypes: bool(1), datetime64[ns](1), int64(2), object(6)\n",
      "memory usage: 35.8+ KB\n"
     ]
    }
   ],
   "source": [
    "# Memastikan perubahan sudah dilakukan\n",
    "users.info()"
   ]
  },
  {
   "cell_type": "markdown",
   "metadata": {},
   "source": [
    "### Data Pra-Processing"
   ]
  },
  {
   "cell_type": "markdown",
   "metadata": {},
   "source": [
    "#### Aggregate Megaline Calls"
   ]
  },
  {
   "cell_type": "code",
   "execution_count": 53,
   "metadata": {},
   "outputs": [],
   "source": [
    "# Melakukan penjumlahan durasi call berdasarkan user_id dan bulan\n",
    "agg_calls = calls.pivot_table(index=['user_id', 'year_month'], values='duration', aggfunc=['sum', 'count'])\n",
    "agg_calls = agg_calls.reset_index()"
   ]
  },
  {
   "cell_type": "code",
   "execution_count": 54,
   "metadata": {},
   "outputs": [],
   "source": [
    "# Merubah nama kolom yang sesuai\n",
    "agg_calls.columns = ['user_id', 'year_month', 'duration', 'call_total']"
   ]
  },
  {
   "cell_type": "code",
   "execution_count": 55,
   "metadata": {
    "scrolled": true
   },
   "outputs": [],
   "source": [
    "# Mendapatkan informasi year dan tahun pada kolom yang berbeda\n",
    "agg_calls['year'] = agg_calls['year_month'].astype(str).str.split('-').str[0]\n",
    "agg_calls['month'] = agg_calls['year_month'].astype(str).str.split('-').str[1]"
   ]
  },
  {
   "cell_type": "code",
   "execution_count": 56,
   "metadata": {},
   "outputs": [],
   "source": [
    "# Menghapus kolom yang tidak diperlukan\n",
    "agg_calls = agg_calls.drop(columns='year_month')"
   ]
  },
  {
   "cell_type": "code",
   "execution_count": 57,
   "metadata": {},
   "outputs": [
    {
     "data": {
      "text/html": [
       "<div>\n",
       "<style scoped>\n",
       "    .dataframe tbody tr th:only-of-type {\n",
       "        vertical-align: middle;\n",
       "    }\n",
       "\n",
       "    .dataframe tbody tr th {\n",
       "        vertical-align: top;\n",
       "    }\n",
       "\n",
       "    .dataframe thead th {\n",
       "        text-align: right;\n",
       "    }\n",
       "</style>\n",
       "<table border=\"1\" class=\"dataframe\">\n",
       "  <thead>\n",
       "    <tr style=\"text-align: right;\">\n",
       "      <th></th>\n",
       "      <th>user_id</th>\n",
       "      <th>duration</th>\n",
       "      <th>call_total</th>\n",
       "      <th>year</th>\n",
       "      <th>month</th>\n",
       "    </tr>\n",
       "  </thead>\n",
       "  <tbody>\n",
       "    <tr>\n",
       "      <th>0</th>\n",
       "      <td>1000</td>\n",
       "      <td>124</td>\n",
       "      <td>16</td>\n",
       "      <td>2018</td>\n",
       "      <td>12</td>\n",
       "    </tr>\n",
       "    <tr>\n",
       "      <th>1</th>\n",
       "      <td>1001</td>\n",
       "      <td>182</td>\n",
       "      <td>27</td>\n",
       "      <td>2018</td>\n",
       "      <td>08</td>\n",
       "    </tr>\n",
       "    <tr>\n",
       "      <th>2</th>\n",
       "      <td>1001</td>\n",
       "      <td>315</td>\n",
       "      <td>49</td>\n",
       "      <td>2018</td>\n",
       "      <td>09</td>\n",
       "    </tr>\n",
       "    <tr>\n",
       "      <th>3</th>\n",
       "      <td>1001</td>\n",
       "      <td>393</td>\n",
       "      <td>65</td>\n",
       "      <td>2018</td>\n",
       "      <td>10</td>\n",
       "    </tr>\n",
       "    <tr>\n",
       "      <th>4</th>\n",
       "      <td>1001</td>\n",
       "      <td>426</td>\n",
       "      <td>64</td>\n",
       "      <td>2018</td>\n",
       "      <td>11</td>\n",
       "    </tr>\n",
       "    <tr>\n",
       "      <th>...</th>\n",
       "      <td>...</td>\n",
       "      <td>...</td>\n",
       "      <td>...</td>\n",
       "      <td>...</td>\n",
       "      <td>...</td>\n",
       "    </tr>\n",
       "    <tr>\n",
       "      <th>2253</th>\n",
       "      <td>1498</td>\n",
       "      <td>339</td>\n",
       "      <td>39</td>\n",
       "      <td>2018</td>\n",
       "      <td>12</td>\n",
       "    </tr>\n",
       "    <tr>\n",
       "      <th>2254</th>\n",
       "      <td>1499</td>\n",
       "      <td>346</td>\n",
       "      <td>41</td>\n",
       "      <td>2018</td>\n",
       "      <td>09</td>\n",
       "    </tr>\n",
       "    <tr>\n",
       "      <th>2255</th>\n",
       "      <td>1499</td>\n",
       "      <td>385</td>\n",
       "      <td>53</td>\n",
       "      <td>2018</td>\n",
       "      <td>10</td>\n",
       "    </tr>\n",
       "    <tr>\n",
       "      <th>2256</th>\n",
       "      <td>1499</td>\n",
       "      <td>308</td>\n",
       "      <td>45</td>\n",
       "      <td>2018</td>\n",
       "      <td>11</td>\n",
       "    </tr>\n",
       "    <tr>\n",
       "      <th>2257</th>\n",
       "      <td>1499</td>\n",
       "      <td>496</td>\n",
       "      <td>65</td>\n",
       "      <td>2018</td>\n",
       "      <td>12</td>\n",
       "    </tr>\n",
       "  </tbody>\n",
       "</table>\n",
       "<p>2258 rows × 5 columns</p>\n",
       "</div>"
      ],
      "text/plain": [
       "      user_id  duration  call_total  year month\n",
       "0        1000       124          16  2018    12\n",
       "1        1001       182          27  2018    08\n",
       "2        1001       315          49  2018    09\n",
       "3        1001       393          65  2018    10\n",
       "4        1001       426          64  2018    11\n",
       "...       ...       ...         ...   ...   ...\n",
       "2253     1498       339          39  2018    12\n",
       "2254     1499       346          41  2018    09\n",
       "2255     1499       385          53  2018    10\n",
       "2256     1499       308          45  2018    11\n",
       "2257     1499       496          65  2018    12\n",
       "\n",
       "[2258 rows x 5 columns]"
      ]
     },
     "execution_count": 57,
     "metadata": {},
     "output_type": "execute_result"
    }
   ],
   "source": [
    "# Memeriksa nilai\n",
    "agg_calls"
   ]
  },
  {
   "cell_type": "markdown",
   "metadata": {},
   "source": [
    "<div class=\"alert alert-success\">\n",
    "<b>Chamdani comment v.1</b> <a class=\"tocSkip\"></a>\n",
    "    \n",
    "Mantab mas Sultan!\n",
    "\n",
    "Kerja bagus, kamu sudah berhasil menggunakan pivot table dengan baik.\n",
    "\n",
    "</div>"
   ]
  },
  {
   "cell_type": "markdown",
   "metadata": {},
   "source": [
    "<div class=\"alert alert-danger\">\n",
    "<b>Chamdani comment v.1</b> <a class=\"tocSkip\"></a>\n",
    "    \n",
    "Saya cukup senang kamu berhasil menggunakan pivot table dengan baik. Namun sepertinya kamu melewatkan sesuatu. Dalam perintah kamu diminta untuk menghitung jumlah panggilan dan total menit yang digunakan oleh masing-masing pelanggan. Saya yakin kamu bisa membenahi kode ini dengan cepat. Jadi saya beri kamu kesempatan untuk memperbaikinya sebelum submission ini saya terima. **Semangat mas Sultan!**\n",
    "    \n",
    "<br>    \n",
    "\n",
    "**Catatan lain:** Kamu perlu melihat bahwa dalam kolom `year_month` memuat dua nilai yang seharunya bisa dipisahkan. Selain itu kamu juga bisa memeriksa pada tahun berapakah data ini di rekam meski dalam deskripsi telah di jelaskan bahwa data ini diambil pada tahun 2018. Tidak ada salahnya jika kita melakukan pengecekan untuk ini\n",
    "\n",
    "</div>\n",
    "\n",
    "<div class=\"alert alert-block alert-info\">\n",
    "<b>Student answer.</b> <a class=\"tocSkip\"></a>\n",
    "    \n",
    "Baik Ka,\n",
    "</div>"
   ]
  },
  {
   "cell_type": "markdown",
   "metadata": {},
   "source": [
    "<div class=\"alert alert-danger\">\n",
    "<b>Chamdani comment v.2</b> <a class=\"tocSkip\"></a>\n",
    "\n",
    "Mohon perhatikan kolom `year_month` mohon pisahkan antara tahun dan bulan kedalam kolom yang berbeda!\n",
    "\n",
    "</div>\n",
    "\n",
    "<div class=\"alert alert-block alert-info\">\n",
    "<b>Student answer v.2</b> <a class=\"tocSkip\"></a>\n",
    "    \n",
    "Baik kak.\n",
    "</div>"
   ]
  },
  {
   "cell_type": "markdown",
   "metadata": {},
   "source": [
    "<div class=\"alert alert-success\">\n",
    "<b>Chamdani comment v.3</b> <a class=\"tocSkip\"></a>\n",
    "    \n",
    "Great!\n",
    "\n",
    "</div>"
   ]
  },
  {
   "cell_type": "markdown",
   "metadata": {},
   "source": [
    "#### Aggregate Megaline Internet"
   ]
  },
  {
   "cell_type": "code",
   "execution_count": 58,
   "metadata": {},
   "outputs": [],
   "source": [
    "# Melakukan penjumlahan penggunaan Quota internet berdasarkan user_id dan bulan\n",
    "agg_internet = internet.pivot_table(index=['user_id', 'year_month'], values='gb_used', aggfunc='sum')\n",
    "agg_internet = agg_internet.reset_index()"
   ]
  },
  {
   "cell_type": "code",
   "execution_count": 59,
   "metadata": {},
   "outputs": [],
   "source": [
    "# Mendapatkan informasi year dan tahun pada kolom yang berbeda\n",
    "agg_internet['year'] = agg_internet['year_month'].astype(str).str.split('-').str[0]\n",
    "agg_internet['month'] = agg_internet['year_month'].astype(str).str.split('-').str[1]"
   ]
  },
  {
   "cell_type": "code",
   "execution_count": 60,
   "metadata": {},
   "outputs": [],
   "source": [
    "# Menghapus kolom yang tidak diperlukan\n",
    "agg_internet = agg_internet.drop(columns='year_month')"
   ]
  },
  {
   "cell_type": "code",
   "execution_count": 61,
   "metadata": {},
   "outputs": [
    {
     "data": {
      "text/html": [
       "<div>\n",
       "<style scoped>\n",
       "    .dataframe tbody tr th:only-of-type {\n",
       "        vertical-align: middle;\n",
       "    }\n",
       "\n",
       "    .dataframe tbody tr th {\n",
       "        vertical-align: top;\n",
       "    }\n",
       "\n",
       "    .dataframe thead th {\n",
       "        text-align: right;\n",
       "    }\n",
       "</style>\n",
       "<table border=\"1\" class=\"dataframe\">\n",
       "  <thead>\n",
       "    <tr style=\"text-align: right;\">\n",
       "      <th></th>\n",
       "      <th>user_id</th>\n",
       "      <th>gb_used</th>\n",
       "      <th>year</th>\n",
       "      <th>month</th>\n",
       "    </tr>\n",
       "  </thead>\n",
       "  <tbody>\n",
       "    <tr>\n",
       "      <th>426</th>\n",
       "      <td>1090</td>\n",
       "      <td>27</td>\n",
       "      <td>2018</td>\n",
       "      <td>05</td>\n",
       "    </tr>\n",
       "    <tr>\n",
       "      <th>1200</th>\n",
       "      <td>1255</td>\n",
       "      <td>27</td>\n",
       "      <td>2018</td>\n",
       "      <td>08</td>\n",
       "    </tr>\n",
       "    <tr>\n",
       "      <th>1512</th>\n",
       "      <td>1329</td>\n",
       "      <td>54</td>\n",
       "      <td>2018</td>\n",
       "      <td>09</td>\n",
       "    </tr>\n",
       "    <tr>\n",
       "      <th>1502</th>\n",
       "      <td>1328</td>\n",
       "      <td>4</td>\n",
       "      <td>2018</td>\n",
       "      <td>04</td>\n",
       "    </tr>\n",
       "    <tr>\n",
       "      <th>172</th>\n",
       "      <td>1043</td>\n",
       "      <td>56</td>\n",
       "      <td>2018</td>\n",
       "      <td>10</td>\n",
       "    </tr>\n",
       "    <tr>\n",
       "      <th>1954</th>\n",
       "      <td>1417</td>\n",
       "      <td>45</td>\n",
       "      <td>2018</td>\n",
       "      <td>12</td>\n",
       "    </tr>\n",
       "    <tr>\n",
       "      <th>1650</th>\n",
       "      <td>1358</td>\n",
       "      <td>38</td>\n",
       "      <td>2018</td>\n",
       "      <td>11</td>\n",
       "    </tr>\n",
       "    <tr>\n",
       "      <th>1156</th>\n",
       "      <td>1246</td>\n",
       "      <td>17</td>\n",
       "      <td>2018</td>\n",
       "      <td>09</td>\n",
       "    </tr>\n",
       "    <tr>\n",
       "      <th>963</th>\n",
       "      <td>1201</td>\n",
       "      <td>44</td>\n",
       "      <td>2018</td>\n",
       "      <td>06</td>\n",
       "    </tr>\n",
       "    <tr>\n",
       "      <th>2197</th>\n",
       "      <td>1482</td>\n",
       "      <td>53</td>\n",
       "      <td>2018</td>\n",
       "      <td>11</td>\n",
       "    </tr>\n",
       "  </tbody>\n",
       "</table>\n",
       "</div>"
      ],
      "text/plain": [
       "      user_id  gb_used  year month\n",
       "426      1090       27  2018    05\n",
       "1200     1255       27  2018    08\n",
       "1512     1329       54  2018    09\n",
       "1502     1328        4  2018    04\n",
       "172      1043       56  2018    10\n",
       "1954     1417       45  2018    12\n",
       "1650     1358       38  2018    11\n",
       "1156     1246       17  2018    09\n",
       "963      1201       44  2018    06\n",
       "2197     1482       53  2018    11"
      ]
     },
     "execution_count": 61,
     "metadata": {},
     "output_type": "execute_result"
    }
   ],
   "source": [
    "agg_internet.sample(10)"
   ]
  },
  {
   "cell_type": "code",
   "execution_count": 62,
   "metadata": {},
   "outputs": [
    {
     "name": "stdout",
     "output_type": "stream",
     "text": [
      "<class 'pandas.core.frame.DataFrame'>\n",
      "RangeIndex: 2277 entries, 0 to 2276\n",
      "Data columns (total 4 columns):\n",
      " #   Column   Non-Null Count  Dtype \n",
      "---  ------   --------------  ----- \n",
      " 0   user_id  2277 non-null   int64 \n",
      " 1   gb_used  2277 non-null   int64 \n",
      " 2   year     2277 non-null   object\n",
      " 3   month    2277 non-null   object\n",
      "dtypes: int64(2), object(2)\n",
      "memory usage: 71.3+ KB\n"
     ]
    }
   ],
   "source": [
    "agg_internet.info()"
   ]
  },
  {
   "cell_type": "markdown",
   "metadata": {},
   "source": [
    "#### Aggregate Megaline Messages"
   ]
  },
  {
   "cell_type": "code",
   "execution_count": 69,
   "metadata": {},
   "outputs": [],
   "source": [
    "# Melakukan penjumlahan penggunaan sms berdasarkan user_id dan bulan\n",
    "agg_messages = messages.pivot_table(index=['user_id', 'year_month' ], values='message_date', aggfunc='count')\n",
    "agg_messages = agg_messages.reset_index()"
   ]
  },
  {
   "cell_type": "code",
   "execution_count": 70,
   "metadata": {},
   "outputs": [],
   "source": [
    "# Mendapatkan informasi year dan tahun pada kolom yang berbeda\n",
    "agg_messages['year'] = agg_messages['year_month'].astype(str).str.split('-').str[0]\n",
    "agg_messages['month'] = agg_messages['year_month'].astype(str).str.split('-').str[1]"
   ]
  },
  {
   "cell_type": "code",
   "execution_count": 71,
   "metadata": {},
   "outputs": [],
   "source": [
    "# Mengubah nama column agar lebih jelas\n",
    "agg_messages.columns = ['user_id', 'year_month','messages_count', 'year', 'month']"
   ]
  },
  {
   "cell_type": "code",
   "execution_count": 72,
   "metadata": {},
   "outputs": [],
   "source": [
    "# Menghapus kolom yang tidak diperlukan\n",
    "agg_messages = agg_messages.drop(columns='year_month')"
   ]
  },
  {
   "cell_type": "code",
   "execution_count": 73,
   "metadata": {
    "scrolled": true
   },
   "outputs": [
    {
     "data": {
      "text/html": [
       "<div>\n",
       "<style scoped>\n",
       "    .dataframe tbody tr th:only-of-type {\n",
       "        vertical-align: middle;\n",
       "    }\n",
       "\n",
       "    .dataframe tbody tr th {\n",
       "        vertical-align: top;\n",
       "    }\n",
       "\n",
       "    .dataframe thead th {\n",
       "        text-align: right;\n",
       "    }\n",
       "</style>\n",
       "<table border=\"1\" class=\"dataframe\">\n",
       "  <thead>\n",
       "    <tr style=\"text-align: right;\">\n",
       "      <th></th>\n",
       "      <th>user_id</th>\n",
       "      <th>messages_count</th>\n",
       "      <th>year</th>\n",
       "      <th>month</th>\n",
       "    </tr>\n",
       "  </thead>\n",
       "  <tbody>\n",
       "    <tr>\n",
       "      <th>0</th>\n",
       "      <td>1000</td>\n",
       "      <td>11</td>\n",
       "      <td>2018</td>\n",
       "      <td>12</td>\n",
       "    </tr>\n",
       "    <tr>\n",
       "      <th>1</th>\n",
       "      <td>1001</td>\n",
       "      <td>30</td>\n",
       "      <td>2018</td>\n",
       "      <td>08</td>\n",
       "    </tr>\n",
       "    <tr>\n",
       "      <th>2</th>\n",
       "      <td>1001</td>\n",
       "      <td>44</td>\n",
       "      <td>2018</td>\n",
       "      <td>09</td>\n",
       "    </tr>\n",
       "    <tr>\n",
       "      <th>3</th>\n",
       "      <td>1001</td>\n",
       "      <td>53</td>\n",
       "      <td>2018</td>\n",
       "      <td>10</td>\n",
       "    </tr>\n",
       "    <tr>\n",
       "      <th>4</th>\n",
       "      <td>1001</td>\n",
       "      <td>36</td>\n",
       "      <td>2018</td>\n",
       "      <td>11</td>\n",
       "    </tr>\n",
       "  </tbody>\n",
       "</table>\n",
       "</div>"
      ],
      "text/plain": [
       "   user_id  messages_count  year month\n",
       "0     1000              11  2018    12\n",
       "1     1001              30  2018    08\n",
       "2     1001              44  2018    09\n",
       "3     1001              53  2018    10\n",
       "4     1001              36  2018    11"
      ]
     },
     "execution_count": 73,
     "metadata": {},
     "output_type": "execute_result"
    }
   ],
   "source": [
    "# Memeriksa data\n",
    "agg_messages.head()"
   ]
  },
  {
   "cell_type": "markdown",
   "metadata": {},
   "source": [
    "### Data Merger"
   ]
  },
  {
   "cell_type": "code",
   "execution_count": 74,
   "metadata": {},
   "outputs": [],
   "source": [
    "# Menggabungkan data penggunaan durasi call (agg_calls) dan data penggunaan quota internet (agg_internet)\n",
    "dataset = agg_calls.merge(agg_internet, how='outer', on=['user_id', 'month', 'year'])"
   ]
  },
  {
   "cell_type": "code",
   "execution_count": 75,
   "metadata": {},
   "outputs": [],
   "source": [
    "# Menggabungkan dataset dengan penggunaan pesan (agg_messages)\n",
    "dataset = dataset.merge(agg_messages, how='outer', on=['user_id', 'month', 'year'])"
   ]
  },
  {
   "cell_type": "code",
   "execution_count": 76,
   "metadata": {},
   "outputs": [],
   "source": [
    "# Menggabungkan dataset dengan data user\n",
    "dataset = dataset.merge(users, how='outer', on=['user_id'])"
   ]
  },
  {
   "cell_type": "code",
   "execution_count": 77,
   "metadata": {},
   "outputs": [],
   "source": [
    "# Menggabungkan dataset dengan data plan\n",
    "dataset = dataset.merge(plan, how='outer', left_on='plan', right_on='plan_name')"
   ]
  },
  {
   "cell_type": "markdown",
   "metadata": {},
   "source": [
    "<div class=\"alert alert-danger\">\n",
    "<b>Chamdani comment v.1</b> <a class=\"tocSkip\"></a>\n",
    "    \n",
    "Proses yang bagus. Namun, kamu harus memperhatikan penggabungan tabel yang kamu lakukan. Saat kamu menggunakan penggabungan ini, terlihat kamu bisa kehilangan beberapa informasi tentang pengguna yang memberikan SMS tanpa panggilan dalam waktu satu bulan. Ide bagus untuk memastikan bahwa hasil kamu dapat diterima setelah penggabungan. Sebagai rekomendasi saya, untuk menghindari kesalahan setelah menggabungkan data, penggabungan dapat mempertimbangkan untuk menerapkan fungsi pandas `merge` sebagai laporan tanpa meneruskan hasilnya ke dalam objek dataframe terlebih dahulu. Setelah kamu yakin tidak ada kesalahan dengan hasil kamu, kamu dapat menetapkannya ke objek `df`.\n",
    "\n",
    "Pertimbangkan untuk melihat contoh ini: (contoh ini dapat membantu Anda memahami proses query dataframe tanpa meneruskan hasilnya kedalam objek `df`)\n",
    "    \n",
    "![image.png](https://i.postimg.cc/NFcZJwqw/image.png)\n",
    "\n",
    "</div>"
   ]
  },
  {
   "cell_type": "markdown",
   "metadata": {},
   "source": [
    "<div class=\"alert alert-danger\">\n",
    "<b>Chamdani comment v.2</b> <a class=\"tocSkip\"></a>\n",
    "\n",
    "`left join` membuat beberapa data hilang seperti penjelasan saya sebelumnya. Mohon perbaiki jenis join yang kamu gunakan dan perhatikan komentar saya sebelumnya. Semangat!\n",
    "\n",
    "</div>\n",
    "\n",
    "<div class=\"alert alert-block alert-info\">\n",
    "<b>Student answer v.2</b> <a class=\"tocSkip\"></a>\n",
    "    \n",
    "Baik kak.\n",
    "</div>"
   ]
  },
  {
   "cell_type": "markdown",
   "metadata": {},
   "source": [
    "<div class=\"alert alert-success\">\n",
    "<b>Chamdani comment v.3</b> <a class=\"tocSkip\"></a>\n",
    "    \n",
    "Great!\n",
    "\n",
    "</div>"
   ]
  },
  {
   "cell_type": "code",
   "execution_count": 78,
   "metadata": {},
   "outputs": [
    {
     "data": {
      "text/plain": [
       "0"
      ]
     },
     "execution_count": 78,
     "metadata": {},
     "output_type": "execute_result"
    }
   ],
   "source": [
    "# Memeriksa data duplikat\n",
    "dataset.duplicated().sum()"
   ]
  },
  {
   "cell_type": "code",
   "execution_count": 79,
   "metadata": {},
   "outputs": [
    {
     "name": "stdout",
     "output_type": "stream",
     "text": [
      "<class 'pandas.core.frame.DataFrame'>\n",
      "Int64Index: 2303 entries, 0 to 2302\n",
      "Data columns (total 24 columns):\n",
      " #   Column                 Non-Null Count  Dtype         \n",
      "---  ------                 --------------  -----         \n",
      " 0   user_id                2303 non-null   int64         \n",
      " 1   duration               2258 non-null   float64       \n",
      " 2   call_total             2258 non-null   float64       \n",
      " 3   year                   2293 non-null   object        \n",
      " 4   month                  2293 non-null   object        \n",
      " 5   gb_used                2277 non-null   float64       \n",
      " 6   messages_count         1806 non-null   float64       \n",
      " 7   first_name             2303 non-null   object        \n",
      " 8   last_name              2303 non-null   object        \n",
      " 9   age                    2303 non-null   int64         \n",
      " 10  city                   2303 non-null   object        \n",
      " 11  reg_date               2303 non-null   datetime64[ns]\n",
      " 12  plan                   2303 non-null   object        \n",
      " 13  churn_date             2303 non-null   object        \n",
      " 14  fixed_city             2303 non-null   object        \n",
      " 15  is_subscribe           2303 non-null   bool          \n",
      " 16  messages_included      2303 non-null   int64         \n",
      " 17  gb_per_month_included  2303 non-null   int64         \n",
      " 18  minutes_included       2303 non-null   int64         \n",
      " 19  usd_monthly_pay        2303 non-null   int64         \n",
      " 20  usd_per_gb             2303 non-null   int64         \n",
      " 21  usd_per_message        2303 non-null   float64       \n",
      " 22  usd_per_minute         2303 non-null   float64       \n",
      " 23  plan_name              2303 non-null   object        \n",
      "dtypes: bool(1), datetime64[ns](1), float64(6), int64(7), object(9)\n",
      "memory usage: 434.1+ KB\n"
     ]
    }
   ],
   "source": [
    "# Memeriksa informasi dataset\n",
    "dataset.info()"
   ]
  },
  {
   "cell_type": "markdown",
   "metadata": {},
   "source": [
    "<div class=\"alert alert-warning\">\n",
    "<b>Chamdani comment v.1</b> <a class=\"tocSkip\"></a>\n",
    "    \n",
    "Bagus mas Sultan. Namun kamu bisa mempertimbangkan untuk melakukan pengecekan data menggunakan fungsi `.info` agar lebih detail hasilnya.\n",
    "\n",
    "</div>"
   ]
  },
  {
   "cell_type": "markdown",
   "metadata": {},
   "source": [
    "<div class=\"alert alert-danger\">\n",
    "<b>Chamdani comment v.2</b> <a class=\"tocSkip\"></a>\n",
    "\n",
    "Mohon perhatikan komentar saya sebelumnya.\n",
    "\n",
    "</div>\n",
    "<div class=\"alert alert-block alert-info\">\n",
    "<b>Student answer v.2</b> <a class=\"tocSkip\"></a>\n",
    "    \n",
    "Baik kak.\n",
    "</div>"
   ]
  },
  {
   "cell_type": "markdown",
   "metadata": {},
   "source": [
    "<div class=\"alert alert-success\">\n",
    "<b>Chamdani comment v.3</b> <a class=\"tocSkip\"></a>\n",
    "    \n",
    "Great!\n",
    "\n",
    "</div>"
   ]
  },
  {
   "cell_type": "code",
   "execution_count": 80,
   "metadata": {
    "scrolled": false
   },
   "outputs": [
    {
     "data": {
      "text/plain": [
       "user_id                    0\n",
       "duration                  45\n",
       "call_total                45\n",
       "year                      10\n",
       "month                     10\n",
       "gb_used                   26\n",
       "messages_count           497\n",
       "first_name                 0\n",
       "last_name                  0\n",
       "age                        0\n",
       "city                       0\n",
       "reg_date                   0\n",
       "plan                       0\n",
       "churn_date                 0\n",
       "fixed_city                 0\n",
       "is_subscribe               0\n",
       "messages_included          0\n",
       "gb_per_month_included      0\n",
       "minutes_included           0\n",
       "usd_monthly_pay            0\n",
       "usd_per_gb                 0\n",
       "usd_per_message            0\n",
       "usd_per_minute             0\n",
       "plan_name                  0\n",
       "dtype: int64"
      ]
     },
     "execution_count": 80,
     "metadata": {},
     "output_type": "execute_result"
    }
   ],
   "source": [
    "# Memeriksa data yang hilang\n",
    "dataset.isna().sum()"
   ]
  },
  {
   "cell_type": "code",
   "execution_count": 81,
   "metadata": {},
   "outputs": [
    {
     "data": {
      "text/html": [
       "<div>\n",
       "<style scoped>\n",
       "    .dataframe tbody tr th:only-of-type {\n",
       "        vertical-align: middle;\n",
       "    }\n",
       "\n",
       "    .dataframe tbody tr th {\n",
       "        vertical-align: top;\n",
       "    }\n",
       "\n",
       "    .dataframe thead th {\n",
       "        text-align: right;\n",
       "    }\n",
       "</style>\n",
       "<table border=\"1\" class=\"dataframe\">\n",
       "  <thead>\n",
       "    <tr style=\"text-align: right;\">\n",
       "      <th></th>\n",
       "      <th>user_id</th>\n",
       "      <th>duration</th>\n",
       "      <th>call_total</th>\n",
       "      <th>year</th>\n",
       "      <th>month</th>\n",
       "      <th>gb_used</th>\n",
       "      <th>messages_count</th>\n",
       "      <th>first_name</th>\n",
       "      <th>last_name</th>\n",
       "      <th>age</th>\n",
       "      <th>...</th>\n",
       "      <th>fixed_city</th>\n",
       "      <th>is_subscribe</th>\n",
       "      <th>messages_included</th>\n",
       "      <th>gb_per_month_included</th>\n",
       "      <th>minutes_included</th>\n",
       "      <th>usd_monthly_pay</th>\n",
       "      <th>usd_per_gb</th>\n",
       "      <th>usd_per_message</th>\n",
       "      <th>usd_per_minute</th>\n",
       "      <th>plan_name</th>\n",
       "    </tr>\n",
       "  </thead>\n",
       "  <tbody>\n",
       "    <tr>\n",
       "      <th>720</th>\n",
       "      <td>1025</td>\n",
       "      <td>NaN</td>\n",
       "      <td>NaN</td>\n",
       "      <td>NaN</td>\n",
       "      <td>NaN</td>\n",
       "      <td>NaN</td>\n",
       "      <td>NaN</td>\n",
       "      <td>Jess</td>\n",
       "      <td>Wilkinson</td>\n",
       "      <td>64</td>\n",
       "      <td>...</td>\n",
       "      <td>GA</td>\n",
       "      <td>True</td>\n",
       "      <td>1000</td>\n",
       "      <td>30</td>\n",
       "      <td>3000</td>\n",
       "      <td>70</td>\n",
       "      <td>7</td>\n",
       "      <td>0.01</td>\n",
       "      <td>0.01</td>\n",
       "      <td>ultimate</td>\n",
       "    </tr>\n",
       "    <tr>\n",
       "      <th>721</th>\n",
       "      <td>1269</td>\n",
       "      <td>NaN</td>\n",
       "      <td>NaN</td>\n",
       "      <td>NaN</td>\n",
       "      <td>NaN</td>\n",
       "      <td>NaN</td>\n",
       "      <td>NaN</td>\n",
       "      <td>Irving</td>\n",
       "      <td>Thompson</td>\n",
       "      <td>39</td>\n",
       "      <td>...</td>\n",
       "      <td>TX</td>\n",
       "      <td>False</td>\n",
       "      <td>1000</td>\n",
       "      <td>30</td>\n",
       "      <td>3000</td>\n",
       "      <td>70</td>\n",
       "      <td>7</td>\n",
       "      <td>0.01</td>\n",
       "      <td>0.01</td>\n",
       "      <td>ultimate</td>\n",
       "    </tr>\n",
       "    <tr>\n",
       "      <th>722</th>\n",
       "      <td>1275</td>\n",
       "      <td>NaN</td>\n",
       "      <td>NaN</td>\n",
       "      <td>NaN</td>\n",
       "      <td>NaN</td>\n",
       "      <td>NaN</td>\n",
       "      <td>NaN</td>\n",
       "      <td>Elvie</td>\n",
       "      <td>Velazquez</td>\n",
       "      <td>33</td>\n",
       "      <td>...</td>\n",
       "      <td>NY-NJ-PA</td>\n",
       "      <td>True</td>\n",
       "      <td>1000</td>\n",
       "      <td>30</td>\n",
       "      <td>3000</td>\n",
       "      <td>70</td>\n",
       "      <td>7</td>\n",
       "      <td>0.01</td>\n",
       "      <td>0.01</td>\n",
       "      <td>ultimate</td>\n",
       "    </tr>\n",
       "    <tr>\n",
       "      <th>723</th>\n",
       "      <td>1463</td>\n",
       "      <td>NaN</td>\n",
       "      <td>NaN</td>\n",
       "      <td>NaN</td>\n",
       "      <td>NaN</td>\n",
       "      <td>NaN</td>\n",
       "      <td>NaN</td>\n",
       "      <td>Dinorah</td>\n",
       "      <td>Simmons</td>\n",
       "      <td>30</td>\n",
       "      <td>...</td>\n",
       "      <td>GA</td>\n",
       "      <td>True</td>\n",
       "      <td>1000</td>\n",
       "      <td>30</td>\n",
       "      <td>3000</td>\n",
       "      <td>70</td>\n",
       "      <td>7</td>\n",
       "      <td>0.01</td>\n",
       "      <td>0.01</td>\n",
       "      <td>ultimate</td>\n",
       "    </tr>\n",
       "    <tr>\n",
       "      <th>2297</th>\n",
       "      <td>1129</td>\n",
       "      <td>NaN</td>\n",
       "      <td>NaN</td>\n",
       "      <td>NaN</td>\n",
       "      <td>NaN</td>\n",
       "      <td>NaN</td>\n",
       "      <td>NaN</td>\n",
       "      <td>Marin</td>\n",
       "      <td>Bolton</td>\n",
       "      <td>70</td>\n",
       "      <td>...</td>\n",
       "      <td>LA</td>\n",
       "      <td>False</td>\n",
       "      <td>50</td>\n",
       "      <td>15</td>\n",
       "      <td>500</td>\n",
       "      <td>20</td>\n",
       "      <td>10</td>\n",
       "      <td>0.03</td>\n",
       "      <td>0.03</td>\n",
       "      <td>surf</td>\n",
       "    </tr>\n",
       "    <tr>\n",
       "      <th>2298</th>\n",
       "      <td>1143</td>\n",
       "      <td>NaN</td>\n",
       "      <td>NaN</td>\n",
       "      <td>NaN</td>\n",
       "      <td>NaN</td>\n",
       "      <td>NaN</td>\n",
       "      <td>NaN</td>\n",
       "      <td>Lorina</td>\n",
       "      <td>Stevens</td>\n",
       "      <td>69</td>\n",
       "      <td>...</td>\n",
       "      <td>OH-KY-IN</td>\n",
       "      <td>True</td>\n",
       "      <td>50</td>\n",
       "      <td>15</td>\n",
       "      <td>500</td>\n",
       "      <td>20</td>\n",
       "      <td>10</td>\n",
       "      <td>0.03</td>\n",
       "      <td>0.03</td>\n",
       "      <td>surf</td>\n",
       "    </tr>\n",
       "    <tr>\n",
       "      <th>2299</th>\n",
       "      <td>1307</td>\n",
       "      <td>NaN</td>\n",
       "      <td>NaN</td>\n",
       "      <td>NaN</td>\n",
       "      <td>NaN</td>\n",
       "      <td>NaN</td>\n",
       "      <td>NaN</td>\n",
       "      <td>Kristopher</td>\n",
       "      <td>Lang</td>\n",
       "      <td>28</td>\n",
       "      <td>...</td>\n",
       "      <td>MA-NH</td>\n",
       "      <td>True</td>\n",
       "      <td>50</td>\n",
       "      <td>15</td>\n",
       "      <td>500</td>\n",
       "      <td>20</td>\n",
       "      <td>10</td>\n",
       "      <td>0.03</td>\n",
       "      <td>0.03</td>\n",
       "      <td>surf</td>\n",
       "    </tr>\n",
       "    <tr>\n",
       "      <th>2300</th>\n",
       "      <td>1319</td>\n",
       "      <td>NaN</td>\n",
       "      <td>NaN</td>\n",
       "      <td>NaN</td>\n",
       "      <td>NaN</td>\n",
       "      <td>NaN</td>\n",
       "      <td>NaN</td>\n",
       "      <td>Eliseo</td>\n",
       "      <td>Carson</td>\n",
       "      <td>21</td>\n",
       "      <td>...</td>\n",
       "      <td>CO</td>\n",
       "      <td>True</td>\n",
       "      <td>50</td>\n",
       "      <td>15</td>\n",
       "      <td>500</td>\n",
       "      <td>20</td>\n",
       "      <td>10</td>\n",
       "      <td>0.03</td>\n",
       "      <td>0.03</td>\n",
       "      <td>surf</td>\n",
       "    </tr>\n",
       "    <tr>\n",
       "      <th>2301</th>\n",
       "      <td>1378</td>\n",
       "      <td>NaN</td>\n",
       "      <td>NaN</td>\n",
       "      <td>NaN</td>\n",
       "      <td>NaN</td>\n",
       "      <td>NaN</td>\n",
       "      <td>NaN</td>\n",
       "      <td>Mckinley</td>\n",
       "      <td>Clayton</td>\n",
       "      <td>22</td>\n",
       "      <td>...</td>\n",
       "      <td>CO</td>\n",
       "      <td>True</td>\n",
       "      <td>50</td>\n",
       "      <td>15</td>\n",
       "      <td>500</td>\n",
       "      <td>20</td>\n",
       "      <td>10</td>\n",
       "      <td>0.03</td>\n",
       "      <td>0.03</td>\n",
       "      <td>surf</td>\n",
       "    </tr>\n",
       "    <tr>\n",
       "      <th>2302</th>\n",
       "      <td>1473</td>\n",
       "      <td>NaN</td>\n",
       "      <td>NaN</td>\n",
       "      <td>NaN</td>\n",
       "      <td>NaN</td>\n",
       "      <td>NaN</td>\n",
       "      <td>NaN</td>\n",
       "      <td>Kirk</td>\n",
       "      <td>Velez</td>\n",
       "      <td>61</td>\n",
       "      <td>...</td>\n",
       "      <td>KY-IN</td>\n",
       "      <td>True</td>\n",
       "      <td>50</td>\n",
       "      <td>15</td>\n",
       "      <td>500</td>\n",
       "      <td>20</td>\n",
       "      <td>10</td>\n",
       "      <td>0.03</td>\n",
       "      <td>0.03</td>\n",
       "      <td>surf</td>\n",
       "    </tr>\n",
       "  </tbody>\n",
       "</table>\n",
       "<p>10 rows × 24 columns</p>\n",
       "</div>"
      ],
      "text/plain": [
       "      user_id  duration  call_total year month  gb_used  messages_count  \\\n",
       "720      1025       NaN         NaN  NaN   NaN      NaN             NaN   \n",
       "721      1269       NaN         NaN  NaN   NaN      NaN             NaN   \n",
       "722      1275       NaN         NaN  NaN   NaN      NaN             NaN   \n",
       "723      1463       NaN         NaN  NaN   NaN      NaN             NaN   \n",
       "2297     1129       NaN         NaN  NaN   NaN      NaN             NaN   \n",
       "2298     1143       NaN         NaN  NaN   NaN      NaN             NaN   \n",
       "2299     1307       NaN         NaN  NaN   NaN      NaN             NaN   \n",
       "2300     1319       NaN         NaN  NaN   NaN      NaN             NaN   \n",
       "2301     1378       NaN         NaN  NaN   NaN      NaN             NaN   \n",
       "2302     1473       NaN         NaN  NaN   NaN      NaN             NaN   \n",
       "\n",
       "      first_name  last_name  age  ... fixed_city is_subscribe  \\\n",
       "720         Jess  Wilkinson   64  ...         GA         True   \n",
       "721       Irving   Thompson   39  ...         TX        False   \n",
       "722        Elvie  Velazquez   33  ...   NY-NJ-PA         True   \n",
       "723      Dinorah    Simmons   30  ...         GA         True   \n",
       "2297       Marin     Bolton   70  ...         LA        False   \n",
       "2298      Lorina    Stevens   69  ...   OH-KY-IN         True   \n",
       "2299  Kristopher       Lang   28  ...      MA-NH         True   \n",
       "2300      Eliseo     Carson   21  ...         CO         True   \n",
       "2301    Mckinley    Clayton   22  ...         CO         True   \n",
       "2302        Kirk      Velez   61  ...      KY-IN         True   \n",
       "\n",
       "     messages_included gb_per_month_included minutes_included  \\\n",
       "720               1000                    30             3000   \n",
       "721               1000                    30             3000   \n",
       "722               1000                    30             3000   \n",
       "723               1000                    30             3000   \n",
       "2297                50                    15              500   \n",
       "2298                50                    15              500   \n",
       "2299                50                    15              500   \n",
       "2300                50                    15              500   \n",
       "2301                50                    15              500   \n",
       "2302                50                    15              500   \n",
       "\n",
       "      usd_monthly_pay  usd_per_gb  usd_per_message  usd_per_minute  plan_name  \n",
       "720                70           7             0.01            0.01   ultimate  \n",
       "721                70           7             0.01            0.01   ultimate  \n",
       "722                70           7             0.01            0.01   ultimate  \n",
       "723                70           7             0.01            0.01   ultimate  \n",
       "2297               20          10             0.03            0.03       surf  \n",
       "2298               20          10             0.03            0.03       surf  \n",
       "2299               20          10             0.03            0.03       surf  \n",
       "2300               20          10             0.03            0.03       surf  \n",
       "2301               20          10             0.03            0.03       surf  \n",
       "2302               20          10             0.03            0.03       surf  \n",
       "\n",
       "[10 rows x 24 columns]"
      ]
     },
     "execution_count": 81,
     "metadata": {},
     "output_type": "execute_result"
    }
   ],
   "source": [
    "# Memeriksa nilai year_month data yang hilang\n",
    "dataset.loc[dataset['month'].isna()]"
   ]
  },
  {
   "cell_type": "markdown",
   "metadata": {},
   "source": [
    "</div>\n",
    "<div class=\"alert alert-block alert-info\">\n",
    "<b>Noted</b> <a class=\"tocSkip\"></a>\n",
    "    \n",
    "Terdapat 10 Pelanggan yang tidak menggunakan layanan sama sekali.\n",
    "</div>"
   ]
  },
  {
   "cell_type": "markdown",
   "metadata": {},
   "source": [
    "<div class=\"alert alert-danger\">\n",
    "<b>Chamdani comment v.1</b> <a class=\"tocSkip\"></a>\n",
    "    \n",
    "Lihat ada banyak data yang hilang disini. Mohon teliti kembali ya mas Sultan. **Semangat!**\n",
    "\n",
    "</div>"
   ]
  },
  {
   "cell_type": "markdown",
   "metadata": {},
   "source": [
    "<div class=\"alert alert-success\">\n",
    "<b>Chamdani comment v.2</b> <a class=\"tocSkip\"></a>\n",
    "\n",
    "Bagus sekali\n",
    "\n",
    "</div>"
   ]
  },
  {
   "cell_type": "code",
   "execution_count": 82,
   "metadata": {},
   "outputs": [],
   "source": [
    "# Mengubah data yang hilang menjadi 0 dengan artian pengguna tidak menggunakan  call, Quota dan message\n",
    "dataset = dataset.fillna(0)"
   ]
  },
  {
   "cell_type": "code",
   "execution_count": 83,
   "metadata": {},
   "outputs": [
    {
     "data": {
      "text/html": [
       "<div>\n",
       "<style scoped>\n",
       "    .dataframe tbody tr th:only-of-type {\n",
       "        vertical-align: middle;\n",
       "    }\n",
       "\n",
       "    .dataframe tbody tr th {\n",
       "        vertical-align: top;\n",
       "    }\n",
       "\n",
       "    .dataframe thead th {\n",
       "        text-align: right;\n",
       "    }\n",
       "</style>\n",
       "<table border=\"1\" class=\"dataframe\">\n",
       "  <thead>\n",
       "    <tr style=\"text-align: right;\">\n",
       "      <th></th>\n",
       "      <th>user_id</th>\n",
       "      <th>duration</th>\n",
       "      <th>call_total</th>\n",
       "      <th>year</th>\n",
       "      <th>month</th>\n",
       "      <th>gb_used</th>\n",
       "      <th>messages_count</th>\n",
       "      <th>first_name</th>\n",
       "      <th>last_name</th>\n",
       "      <th>age</th>\n",
       "      <th>...</th>\n",
       "      <th>fixed_city</th>\n",
       "      <th>is_subscribe</th>\n",
       "      <th>messages_included</th>\n",
       "      <th>gb_per_month_included</th>\n",
       "      <th>minutes_included</th>\n",
       "      <th>usd_monthly_pay</th>\n",
       "      <th>usd_per_gb</th>\n",
       "      <th>usd_per_message</th>\n",
       "      <th>usd_per_minute</th>\n",
       "      <th>plan_name</th>\n",
       "    </tr>\n",
       "  </thead>\n",
       "  <tbody>\n",
       "    <tr>\n",
       "      <th>2066</th>\n",
       "      <td>1414</td>\n",
       "      <td>288.0</td>\n",
       "      <td>57.0</td>\n",
       "      <td>2018</td>\n",
       "      <td>11</td>\n",
       "      <td>74.0</td>\n",
       "      <td>38.0</td>\n",
       "      <td>Georgianne</td>\n",
       "      <td>Herring</td>\n",
       "      <td>30</td>\n",
       "      <td>...</td>\n",
       "      <td>HI</td>\n",
       "      <td>False</td>\n",
       "      <td>50</td>\n",
       "      <td>15</td>\n",
       "      <td>500</td>\n",
       "      <td>20</td>\n",
       "      <td>10</td>\n",
       "      <td>0.03</td>\n",
       "      <td>0.03</td>\n",
       "      <td>surf</td>\n",
       "    </tr>\n",
       "    <tr>\n",
       "      <th>1262</th>\n",
       "      <td>1170</td>\n",
       "      <td>876.0</td>\n",
       "      <td>118.0</td>\n",
       "      <td>2018</td>\n",
       "      <td>12</td>\n",
       "      <td>48.0</td>\n",
       "      <td>11.0</td>\n",
       "      <td>Olin</td>\n",
       "      <td>Adkins</td>\n",
       "      <td>18</td>\n",
       "      <td>...</td>\n",
       "      <td>PA</td>\n",
       "      <td>True</td>\n",
       "      <td>50</td>\n",
       "      <td>15</td>\n",
       "      <td>500</td>\n",
       "      <td>20</td>\n",
       "      <td>10</td>\n",
       "      <td>0.03</td>\n",
       "      <td>0.03</td>\n",
       "      <td>surf</td>\n",
       "    </tr>\n",
       "    <tr>\n",
       "      <th>223</th>\n",
       "      <td>1155</td>\n",
       "      <td>229.0</td>\n",
       "      <td>30.0</td>\n",
       "      <td>2018</td>\n",
       "      <td>05</td>\n",
       "      <td>34.0</td>\n",
       "      <td>36.0</td>\n",
       "      <td>Claude</td>\n",
       "      <td>Hahn</td>\n",
       "      <td>19</td>\n",
       "      <td>...</td>\n",
       "      <td>FL</td>\n",
       "      <td>True</td>\n",
       "      <td>1000</td>\n",
       "      <td>30</td>\n",
       "      <td>3000</td>\n",
       "      <td>70</td>\n",
       "      <td>7</td>\n",
       "      <td>0.01</td>\n",
       "      <td>0.01</td>\n",
       "      <td>ultimate</td>\n",
       "    </tr>\n",
       "    <tr>\n",
       "      <th>370</th>\n",
       "      <td>1247</td>\n",
       "      <td>496.0</td>\n",
       "      <td>75.0</td>\n",
       "      <td>2018</td>\n",
       "      <td>12</td>\n",
       "      <td>51.0</td>\n",
       "      <td>112.0</td>\n",
       "      <td>Marion</td>\n",
       "      <td>Singleton</td>\n",
       "      <td>75</td>\n",
       "      <td>...</td>\n",
       "      <td>CA</td>\n",
       "      <td>True</td>\n",
       "      <td>1000</td>\n",
       "      <td>30</td>\n",
       "      <td>3000</td>\n",
       "      <td>70</td>\n",
       "      <td>7</td>\n",
       "      <td>0.01</td>\n",
       "      <td>0.01</td>\n",
       "      <td>ultimate</td>\n",
       "    </tr>\n",
       "    <tr>\n",
       "      <th>2072</th>\n",
       "      <td>1415</td>\n",
       "      <td>533.0</td>\n",
       "      <td>76.0</td>\n",
       "      <td>2018</td>\n",
       "      <td>11</td>\n",
       "      <td>59.0</td>\n",
       "      <td>0.0</td>\n",
       "      <td>Rosette</td>\n",
       "      <td>Mendez</td>\n",
       "      <td>56</td>\n",
       "      <td>...</td>\n",
       "      <td>MA-NH</td>\n",
       "      <td>True</td>\n",
       "      <td>50</td>\n",
       "      <td>15</td>\n",
       "      <td>500</td>\n",
       "      <td>20</td>\n",
       "      <td>10</td>\n",
       "      <td>0.03</td>\n",
       "      <td>0.03</td>\n",
       "      <td>surf</td>\n",
       "    </tr>\n",
       "    <tr>\n",
       "      <th>2254</th>\n",
       "      <td>1496</td>\n",
       "      <td>294.0</td>\n",
       "      <td>40.0</td>\n",
       "      <td>2018</td>\n",
       "      <td>12</td>\n",
       "      <td>41.0</td>\n",
       "      <td>11.0</td>\n",
       "      <td>Ariel</td>\n",
       "      <td>Shepherd</td>\n",
       "      <td>49</td>\n",
       "      <td>...</td>\n",
       "      <td>LA</td>\n",
       "      <td>True</td>\n",
       "      <td>50</td>\n",
       "      <td>15</td>\n",
       "      <td>500</td>\n",
       "      <td>20</td>\n",
       "      <td>10</td>\n",
       "      <td>0.03</td>\n",
       "      <td>0.03</td>\n",
       "      <td>surf</td>\n",
       "    </tr>\n",
       "    <tr>\n",
       "      <th>1252</th>\n",
       "      <td>1167</td>\n",
       "      <td>581.0</td>\n",
       "      <td>75.0</td>\n",
       "      <td>2018</td>\n",
       "      <td>08</td>\n",
       "      <td>23.0</td>\n",
       "      <td>31.0</td>\n",
       "      <td>Rebbecca</td>\n",
       "      <td>Nicholson</td>\n",
       "      <td>47</td>\n",
       "      <td>...</td>\n",
       "      <td>CO</td>\n",
       "      <td>True</td>\n",
       "      <td>50</td>\n",
       "      <td>15</td>\n",
       "      <td>500</td>\n",
       "      <td>20</td>\n",
       "      <td>10</td>\n",
       "      <td>0.03</td>\n",
       "      <td>0.03</td>\n",
       "      <td>surf</td>\n",
       "    </tr>\n",
       "    <tr>\n",
       "      <th>649</th>\n",
       "      <td>1458</td>\n",
       "      <td>244.0</td>\n",
       "      <td>30.0</td>\n",
       "      <td>2018</td>\n",
       "      <td>11</td>\n",
       "      <td>49.0</td>\n",
       "      <td>30.0</td>\n",
       "      <td>Joella</td>\n",
       "      <td>Munoz</td>\n",
       "      <td>32</td>\n",
       "      <td>...</td>\n",
       "      <td>MI</td>\n",
       "      <td>True</td>\n",
       "      <td>1000</td>\n",
       "      <td>30</td>\n",
       "      <td>3000</td>\n",
       "      <td>70</td>\n",
       "      <td>7</td>\n",
       "      <td>0.01</td>\n",
       "      <td>0.01</td>\n",
       "      <td>ultimate</td>\n",
       "    </tr>\n",
       "    <tr>\n",
       "      <th>688</th>\n",
       "      <td>1476</td>\n",
       "      <td>293.0</td>\n",
       "      <td>53.0</td>\n",
       "      <td>2018</td>\n",
       "      <td>08</td>\n",
       "      <td>24.0</td>\n",
       "      <td>41.0</td>\n",
       "      <td>Tammara</td>\n",
       "      <td>Dorsey</td>\n",
       "      <td>24</td>\n",
       "      <td>...</td>\n",
       "      <td>CA</td>\n",
       "      <td>True</td>\n",
       "      <td>1000</td>\n",
       "      <td>30</td>\n",
       "      <td>3000</td>\n",
       "      <td>70</td>\n",
       "      <td>7</td>\n",
       "      <td>0.01</td>\n",
       "      <td>0.01</td>\n",
       "      <td>ultimate</td>\n",
       "    </tr>\n",
       "    <tr>\n",
       "      <th>359</th>\n",
       "      <td>1246</td>\n",
       "      <td>699.0</td>\n",
       "      <td>104.0</td>\n",
       "      <td>2018</td>\n",
       "      <td>04</td>\n",
       "      <td>65.0</td>\n",
       "      <td>19.0</td>\n",
       "      <td>Stevie</td>\n",
       "      <td>Moran</td>\n",
       "      <td>69</td>\n",
       "      <td>...</td>\n",
       "      <td>FL</td>\n",
       "      <td>False</td>\n",
       "      <td>1000</td>\n",
       "      <td>30</td>\n",
       "      <td>3000</td>\n",
       "      <td>70</td>\n",
       "      <td>7</td>\n",
       "      <td>0.01</td>\n",
       "      <td>0.01</td>\n",
       "      <td>ultimate</td>\n",
       "    </tr>\n",
       "  </tbody>\n",
       "</table>\n",
       "<p>10 rows × 24 columns</p>\n",
       "</div>"
      ],
      "text/plain": [
       "      user_id  duration  call_total  year month  gb_used  messages_count  \\\n",
       "2066     1414     288.0        57.0  2018    11     74.0            38.0   \n",
       "1262     1170     876.0       118.0  2018    12     48.0            11.0   \n",
       "223      1155     229.0        30.0  2018    05     34.0            36.0   \n",
       "370      1247     496.0        75.0  2018    12     51.0           112.0   \n",
       "2072     1415     533.0        76.0  2018    11     59.0             0.0   \n",
       "2254     1496     294.0        40.0  2018    12     41.0            11.0   \n",
       "1252     1167     581.0        75.0  2018    08     23.0            31.0   \n",
       "649      1458     244.0        30.0  2018    11     49.0            30.0   \n",
       "688      1476     293.0        53.0  2018    08     24.0            41.0   \n",
       "359      1246     699.0       104.0  2018    04     65.0            19.0   \n",
       "\n",
       "      first_name  last_name  age  ... fixed_city is_subscribe  \\\n",
       "2066  Georgianne    Herring   30  ...         HI        False   \n",
       "1262        Olin     Adkins   18  ...         PA         True   \n",
       "223       Claude       Hahn   19  ...         FL         True   \n",
       "370       Marion  Singleton   75  ...         CA         True   \n",
       "2072     Rosette     Mendez   56  ...      MA-NH         True   \n",
       "2254       Ariel   Shepherd   49  ...         LA         True   \n",
       "1252    Rebbecca  Nicholson   47  ...         CO         True   \n",
       "649       Joella      Munoz   32  ...         MI         True   \n",
       "688      Tammara     Dorsey   24  ...         CA         True   \n",
       "359       Stevie      Moran   69  ...         FL        False   \n",
       "\n",
       "     messages_included gb_per_month_included minutes_included  \\\n",
       "2066                50                    15              500   \n",
       "1262                50                    15              500   \n",
       "223               1000                    30             3000   \n",
       "370               1000                    30             3000   \n",
       "2072                50                    15              500   \n",
       "2254                50                    15              500   \n",
       "1252                50                    15              500   \n",
       "649               1000                    30             3000   \n",
       "688               1000                    30             3000   \n",
       "359               1000                    30             3000   \n",
       "\n",
       "      usd_monthly_pay  usd_per_gb  usd_per_message  usd_per_minute  plan_name  \n",
       "2066               20          10             0.03            0.03       surf  \n",
       "1262               20          10             0.03            0.03       surf  \n",
       "223                70           7             0.01            0.01   ultimate  \n",
       "370                70           7             0.01            0.01   ultimate  \n",
       "2072               20          10             0.03            0.03       surf  \n",
       "2254               20          10             0.03            0.03       surf  \n",
       "1252               20          10             0.03            0.03       surf  \n",
       "649                70           7             0.01            0.01   ultimate  \n",
       "688                70           7             0.01            0.01   ultimate  \n",
       "359                70           7             0.01            0.01   ultimate  \n",
       "\n",
       "[10 rows x 24 columns]"
      ]
     },
     "execution_count": 83,
     "metadata": {},
     "output_type": "execute_result"
    }
   ],
   "source": [
    "# Memeriksa dataset\n",
    "dataset.sample(10)"
   ]
  },
  {
   "cell_type": "code",
   "execution_count": 84,
   "metadata": {},
   "outputs": [
    {
     "name": "stdout",
     "output_type": "stream",
     "text": [
      "<class 'pandas.core.frame.DataFrame'>\n",
      "Int64Index: 2303 entries, 0 to 2302\n",
      "Data columns (total 24 columns):\n",
      " #   Column                 Non-Null Count  Dtype         \n",
      "---  ------                 --------------  -----         \n",
      " 0   user_id                2303 non-null   int64         \n",
      " 1   duration               2303 non-null   float64       \n",
      " 2   call_total             2303 non-null   float64       \n",
      " 3   year                   2303 non-null   object        \n",
      " 4   month                  2303 non-null   object        \n",
      " 5   gb_used                2303 non-null   float64       \n",
      " 6   messages_count         2303 non-null   float64       \n",
      " 7   first_name             2303 non-null   object        \n",
      " 8   last_name              2303 non-null   object        \n",
      " 9   age                    2303 non-null   int64         \n",
      " 10  city                   2303 non-null   object        \n",
      " 11  reg_date               2303 non-null   datetime64[ns]\n",
      " 12  plan                   2303 non-null   object        \n",
      " 13  churn_date             2303 non-null   object        \n",
      " 14  fixed_city             2303 non-null   object        \n",
      " 15  is_subscribe           2303 non-null   bool          \n",
      " 16  messages_included      2303 non-null   int64         \n",
      " 17  gb_per_month_included  2303 non-null   int64         \n",
      " 18  minutes_included       2303 non-null   int64         \n",
      " 19  usd_monthly_pay        2303 non-null   int64         \n",
      " 20  usd_per_gb             2303 non-null   int64         \n",
      " 21  usd_per_message        2303 non-null   float64       \n",
      " 22  usd_per_minute         2303 non-null   float64       \n",
      " 23  plan_name              2303 non-null   object        \n",
      "dtypes: bool(1), datetime64[ns](1), float64(6), int64(7), object(9)\n",
      "memory usage: 434.1+ KB\n"
     ]
    }
   ],
   "source": [
    "# Mendapatkan informasi data\n",
    "dataset.info()"
   ]
  },
  {
   "cell_type": "code",
   "execution_count": 85,
   "metadata": {},
   "outputs": [
    {
     "data": {
      "text/plain": [
       "Index(['user_id', 'duration', 'call_total', 'year', 'month', 'gb_used',\n",
       "       'messages_count', 'first_name', 'last_name', 'age', 'city', 'reg_date',\n",
       "       'plan', 'churn_date', 'fixed_city', 'is_subscribe', 'messages_included',\n",
       "       'gb_per_month_included', 'minutes_included', 'usd_monthly_pay',\n",
       "       'usd_per_gb', 'usd_per_message', 'usd_per_minute', 'plan_name'],\n",
       "      dtype='object')"
      ]
     },
     "execution_count": 85,
     "metadata": {},
     "output_type": "execute_result"
    }
   ],
   "source": [
    "# Melihat data colomn yang ada\n",
    "dataset.columns"
   ]
  },
  {
   "cell_type": "code",
   "execution_count": 86,
   "metadata": {
    "scrolled": true
   },
   "outputs": [],
   "source": [
    "# Menghapus kolom yang tidak diperlukan\n",
    "dataset = dataset.drop(columns=['first_name', 'last_name', 'city'])"
   ]
  },
  {
   "cell_type": "markdown",
   "metadata": {},
   "source": [
    "<div class=\"alert alert-danger\">\n",
    "<b>Chamdani comment v.1</b> <a class=\"tocSkip\"></a>\n",
    "    \n",
    "Saya rasa saya belum melihat penjabaran *insight* dari setiap proses yang kamu lakukan. Seorang data scientist yang baik dan profesional akan dapat menjabarkan setiap *insight* dari setiap proses yang dia lakukan selain menggunakan komentar yang hanya menjelaskan fungsi dari baris kode.\n",
    "    \n",
    "</div>\n",
    "</div>\n",
    "<div class=\"alert alert-block alert-info\">\n",
    "<b>Student answer v.2</b> <a class=\"tocSkip\"></a>\n",
    "    \n",
    "Baik kak.\n",
    "</div>"
   ]
  },
  {
   "cell_type": "markdown",
   "metadata": {},
   "source": [
    "<div class=\"alert alert-success\">\n",
    "<b>Chamdani comment v.3</b> <a class=\"tocSkip\"></a>\n",
    "    \n",
    "Great!\n",
    "\n",
    "</div>"
   ]
  },
  {
   "cell_type": "markdown",
   "metadata": {},
   "source": [
    "### Analisis Data Exploratif"
   ]
  },
  {
   "cell_type": "code",
   "execution_count": 87,
   "metadata": {},
   "outputs": [],
   "source": [
    "# Mengiris data berdasarkan plan yang digunakan\n",
    "surf_user = dataset.loc[dataset['plan'] == 'surf']\n",
    "ultimate_user = dataset.loc[dataset['plan'] == 'ultimate']"
   ]
  },
  {
   "cell_type": "markdown",
   "metadata": {},
   "source": [
    "<div class=\"alert alert-success\">\n",
    "<b>Chamdani comment v.1</b> <a class=\"tocSkip\"></a>\n",
    "    \n",
    "Bagus mas Sultan! ide bagus untuk memisahkan data pelanggan berdasarkan jenis layanan yang digunakan.\n",
    "    \n",
    "</div>"
   ]
  },
  {
   "cell_type": "markdown",
   "metadata": {},
   "source": [
    "####  Bagaimana distribusi durasi call dari masing-masing plan?"
   ]
  },
  {
   "cell_type": "code",
   "execution_count": 88,
   "metadata": {
    "scrolled": true
   },
   "outputs": [
    {
     "data": {
      "image/png": "[encoded data removed]",
      "text/plain": [
       "<Figure size 432x288 with 1 Axes>"
      ]
     },
     "metadata": {
      "needs_background": "light"
     },
     "output_type": "display_data"
    }
   ],
   "source": [
    "## Melihat distribusi penggunaan call berdasarkan plan\n",
    "sns.violinplot(data=dataset, x='duration', y='plan')\n",
    "plt.title('Distribusi penggunaan call di kedua plan')\n",
    "plt.show()"
   ]
  },
  {
   "cell_type": "markdown",
   "metadata": {},
   "source": [
    "<div class=\"alert alert-block alert-info\">\n",
    "<b>Note.</b> <a class=\"tocSkip\"></a>\n",
    "\n",
    "Kedua plan memiliki distribusi yang terlihat tidak jauh beda atau terlihat sama.\n",
    "</div>"
   ]
  },
  {
   "cell_type": "code",
   "execution_count": 89,
   "metadata": {},
   "outputs": [],
   "source": [
    "# menentukan Quartile 1, Quartile 3 dan IQR\n",
    "q1_call = dataset['duration'].quantile(0.25)\n",
    "q3_call = dataset['duration'].quantile(0.75)\n",
    "iqr_call = q3_call - q1_call"
   ]
  },
  {
   "cell_type": "code",
   "execution_count": 90,
   "metadata": {},
   "outputs": [
    {
     "name": "stdout",
     "output_type": "stream",
     "text": [
      "Batas atas: 1035.0\n",
      "Batas bawah: -201.0\n"
     ]
    }
   ],
   "source": [
    "# Menentukan batas atas dan batas bawah\n",
    "lower_call = q1_call - (1.5*iqr_call)\n",
    "upper_call = q3_call + (1.5*iqr_call)\n",
    "print('Batas atas:', upper_call)\n",
    "print('Batas bawah:', lower_call)"
   ]
  },
  {
   "cell_type": "code",
   "execution_count": 91,
   "metadata": {},
   "outputs": [],
   "source": [
    "# Memotong nilai outlier pada data call 'duration'\n",
    "without_outlier_call = dataset.query(\"@lower_call < duration < @upper_call\")"
   ]
  },
  {
   "cell_type": "code",
   "execution_count": 92,
   "metadata": {},
   "outputs": [
    {
     "data": {
      "image/png": "[encoded data removed]",
      "text/plain": [
       "<Figure size 432x288 with 1 Axes>"
      ]
     },
     "metadata": {
      "needs_background": "light"
     },
     "output_type": "display_data"
    }
   ],
   "source": [
    "# Melihat distribusi penggunaan call berdasarkan plan yang sudah diiris outlier\n",
    "sns.violinplot(data=without_outlier_call, x='duration', y='plan')\n",
    "plt.title('Distribusi penggunaan call di kedua plan tanpa outlier')\n",
    "plt.show()"
   ]
  },
  {
   "cell_type": "markdown",
   "metadata": {},
   "source": [
    "<div class=\"alert alert-danger\">\n",
    "<b>Chamdani comment v.1</b> <a class=\"tocSkip\"></a>\n",
    "    \n",
    "Grafik yang indah. Namun akan lebih terlihat profesional jika kamu dapat menjelaskan maksud dan informasi dari grafik yang telah kamu buat kedalam kalimat atau paragraf yang mudah dipahami. \n",
    "    \n",
    "Untuk mempelajari tentang distribusi data kamu bisa referensi berikut:\n",
    "    \n",
    "* [DISTRIBUSI FREKUENSI](https://www.smartstat.info/materi/statistika/statistik-deskriptif/distribusi-frekuensi.html)\n",
    "* [A Gentle Introduction to Statistical Data Distributions](https://machinelearningmastery.com/statistical-data-distributions/)\n",
    "* [Distribution Analyses](https://www.math.wpi.edu/saspdf/insight/chap38.pdf)\n",
    "    \n",
    "</div>"
   ]
  },
  {
   "cell_type": "markdown",
   "metadata": {},
   "source": [
    "<div class=\"alert alert-danger\">\n",
    "<b>Chamdani comment v.2</b> <a class=\"tocSkip\"></a>\n",
    "\n",
    "Mohon perhatikan komentar saya sebelumnya.\n",
    "\n",
    "</div>\n",
    "<div class=\"alert alert-block alert-info\">\n",
    "<b>Student answer v.2</b> <a class=\"tocSkip\"></a>\n",
    "    \n",
    "Baik kak.\n",
    "</div>"
   ]
  },
  {
   "cell_type": "markdown",
   "metadata": {},
   "source": [
    "<div class=\"alert alert-success\">\n",
    "<b>Chamdani comment v.3</b> <a class=\"tocSkip\"></a>\n",
    "    \n",
    "Great!\n",
    "\n",
    "</div>"
   ]
  },
  {
   "cell_type": "code",
   "execution_count": 93,
   "metadata": {
    "scrolled": false
   },
   "outputs": [
    {
     "data": {
      "text/html": [
       "<div>\n",
       "<style scoped>\n",
       "    .dataframe tbody tr th:only-of-type {\n",
       "        vertical-align: middle;\n",
       "    }\n",
       "\n",
       "    .dataframe tbody tr th {\n",
       "        vertical-align: top;\n",
       "    }\n",
       "\n",
       "    .dataframe thead tr th {\n",
       "        text-align: left;\n",
       "    }\n",
       "\n",
       "    .dataframe thead tr:last-of-type th {\n",
       "        text-align: right;\n",
       "    }\n",
       "</style>\n",
       "<table border=\"1\" class=\"dataframe\">\n",
       "  <thead>\n",
       "    <tr>\n",
       "      <th></th>\n",
       "      <th>mean</th>\n",
       "      <th>var</th>\n",
       "      <th>std</th>\n",
       "    </tr>\n",
       "    <tr>\n",
       "      <th></th>\n",
       "      <th>duration</th>\n",
       "      <th>duration</th>\n",
       "      <th>duration</th>\n",
       "    </tr>\n",
       "    <tr>\n",
       "      <th>plan</th>\n",
       "      <th></th>\n",
       "      <th></th>\n",
       "      <th></th>\n",
       "    </tr>\n",
       "  </thead>\n",
       "  <tbody>\n",
       "    <tr>\n",
       "      <th>surf</th>\n",
       "      <td>414.672680</td>\n",
       "      <td>47159.272548</td>\n",
       "      <td>217.161858</td>\n",
       "    </tr>\n",
       "    <tr>\n",
       "      <th>ultimate</th>\n",
       "      <td>412.045134</td>\n",
       "      <td>47206.461237</td>\n",
       "      <td>217.270479</td>\n",
       "    </tr>\n",
       "  </tbody>\n",
       "</table>\n",
       "</div>"
      ],
      "text/plain": [
       "                mean           var         std\n",
       "            duration      duration    duration\n",
       "plan                                          \n",
       "surf      414.672680  47159.272548  217.161858\n",
       "ultimate  412.045134  47206.461237  217.270479"
      ]
     },
     "execution_count": 93,
     "metadata": {},
     "output_type": "execute_result"
    }
   ],
   "source": [
    "# Mendapatkan distribusi penggunaan call berdasarkan plan tanpa outlier\n",
    "without_outlier_call.pivot_table(index='plan', values='duration', aggfunc=[np.mean, np.var, np.std])"
   ]
  },
  {
   "cell_type": "markdown",
   "metadata": {},
   "source": [
    "<div class=\"alert alert-block alert-info\">\n",
    "<b>Note.</b> <a class=\"tocSkip\"></a>\n",
    "\n",
    "Kedua plan memiliki rata-rata, varian dan standar deviasi yang tidak jauh beda. Lalu bagaimana mengenai distribusi pengguna yang melebihi batas paket?"
   ]
  },
  {
   "cell_type": "markdown",
   "metadata": {},
   "source": [
    "<div class=\"alert alert-success\">\n",
    "<b>Chamdani comment v.1</b> <a class=\"tocSkip\"></a>\n",
    "    \n",
    "Well done!. Keren mas Sultan \n",
    "    \n",
    "</div>"
   ]
  },
  {
   "cell_type": "code",
   "execution_count": 94,
   "metadata": {},
   "outputs": [
    {
     "data": {
      "image/png": "[encoded data removed]",
      "text/plain": [
       "<Figure size 432x432 with 1 Axes>"
      ]
     },
     "metadata": {
      "needs_background": "light"
     },
     "output_type": "display_data"
    }
   ],
   "source": [
    "# Melihat distribusi penggunaan call berdasarkan bulan dan plan\n",
    "plt.figure(figsize=(6,6))\n",
    "sns.boxplot(data=without_outlier_call , x='duration', y='month', hue='plan', order=['01', '02', '03', '04', '05', '06', '07', '08', '09', '10', '11', '12'])\n",
    "plt.show()"
   ]
  },
  {
   "cell_type": "code",
   "execution_count": 96,
   "metadata": {},
   "outputs": [
    {
     "data": {
      "text/html": [
       "<div>\n",
       "<style scoped>\n",
       "    .dataframe tbody tr th:only-of-type {\n",
       "        vertical-align: middle;\n",
       "    }\n",
       "\n",
       "    .dataframe tbody tr th {\n",
       "        vertical-align: top;\n",
       "    }\n",
       "\n",
       "    .dataframe thead tr th {\n",
       "        text-align: left;\n",
       "    }\n",
       "\n",
       "    .dataframe thead tr:last-of-type th {\n",
       "        text-align: right;\n",
       "    }\n",
       "</style>\n",
       "<table border=\"1\" class=\"dataframe\">\n",
       "  <thead>\n",
       "    <tr>\n",
       "      <th></th>\n",
       "      <th></th>\n",
       "      <th>mean</th>\n",
       "      <th>var</th>\n",
       "      <th>std</th>\n",
       "    </tr>\n",
       "    <tr>\n",
       "      <th></th>\n",
       "      <th></th>\n",
       "      <th>duration</th>\n",
       "      <th>duration</th>\n",
       "      <th>duration</th>\n",
       "    </tr>\n",
       "    <tr>\n",
       "      <th>plan</th>\n",
       "      <th>month</th>\n",
       "      <th></th>\n",
       "      <th></th>\n",
       "      <th></th>\n",
       "    </tr>\n",
       "  </thead>\n",
       "  <tbody>\n",
       "    <tr>\n",
       "      <th rowspan=\"13\" valign=\"top\">surf</th>\n",
       "      <th>0</th>\n",
       "      <td>0.000000</td>\n",
       "      <td>0.000000</td>\n",
       "      <td>0.000000</td>\n",
       "    </tr>\n",
       "    <tr>\n",
       "      <th>01</th>\n",
       "      <td>203.000000</td>\n",
       "      <td>15842.000000</td>\n",
       "      <td>125.865007</td>\n",
       "    </tr>\n",
       "    <tr>\n",
       "      <th>02</th>\n",
       "      <td>297.000000</td>\n",
       "      <td>52226.500000</td>\n",
       "      <td>228.531179</td>\n",
       "    </tr>\n",
       "    <tr>\n",
       "      <th>03</th>\n",
       "      <td>330.000000</td>\n",
       "      <td>35809.363636</td>\n",
       "      <td>189.233622</td>\n",
       "    </tr>\n",
       "    <tr>\n",
       "      <th>04</th>\n",
       "      <td>337.428571</td>\n",
       "      <td>41762.416667</td>\n",
       "      <td>204.358549</td>\n",
       "    </tr>\n",
       "    <tr>\n",
       "      <th>05</th>\n",
       "      <td>390.960526</td>\n",
       "      <td>54747.985088</td>\n",
       "      <td>233.982873</td>\n",
       "    </tr>\n",
       "    <tr>\n",
       "      <th>06</th>\n",
       "      <td>431.298969</td>\n",
       "      <td>45592.628436</td>\n",
       "      <td>213.524304</td>\n",
       "    </tr>\n",
       "    <tr>\n",
       "      <th>07</th>\n",
       "      <td>438.571429</td>\n",
       "      <td>54055.670702</td>\n",
       "      <td>232.498754</td>\n",
       "    </tr>\n",
       "    <tr>\n",
       "      <th>08</th>\n",
       "      <td>401.506250</td>\n",
       "      <td>48992.817571</td>\n",
       "      <td>221.343212</td>\n",
       "    </tr>\n",
       "    <tr>\n",
       "      <th>09</th>\n",
       "      <td>406.338542</td>\n",
       "      <td>40999.303638</td>\n",
       "      <td>202.482848</td>\n",
       "    </tr>\n",
       "    <tr>\n",
       "      <th>10</th>\n",
       "      <td>417.587983</td>\n",
       "      <td>44311.536407</td>\n",
       "      <td>210.503056</td>\n",
       "    </tr>\n",
       "    <tr>\n",
       "      <th>11</th>\n",
       "      <td>417.786477</td>\n",
       "      <td>47544.411388</td>\n",
       "      <td>218.046810</td>\n",
       "    </tr>\n",
       "    <tr>\n",
       "      <th>12</th>\n",
       "      <td>444.839344</td>\n",
       "      <td>44996.424763</td>\n",
       "      <td>212.123607</td>\n",
       "    </tr>\n",
       "    <tr>\n",
       "      <th rowspan=\"13\" valign=\"top\">ultimate</th>\n",
       "      <th>0</th>\n",
       "      <td>0.000000</td>\n",
       "      <td>0.000000</td>\n",
       "      <td>0.000000</td>\n",
       "    </tr>\n",
       "    <tr>\n",
       "      <th>01</th>\n",
       "      <td>193.500000</td>\n",
       "      <td>16572.333333</td>\n",
       "      <td>128.733575</td>\n",
       "    </tr>\n",
       "    <tr>\n",
       "      <th>02</th>\n",
       "      <td>403.142857</td>\n",
       "      <td>76889.476190</td>\n",
       "      <td>277.289517</td>\n",
       "    </tr>\n",
       "    <tr>\n",
       "      <th>03</th>\n",
       "      <td>304.250000</td>\n",
       "      <td>61984.931818</td>\n",
       "      <td>248.967732</td>\n",
       "    </tr>\n",
       "    <tr>\n",
       "      <th>04</th>\n",
       "      <td>336.857143</td>\n",
       "      <td>34888.928571</td>\n",
       "      <td>186.785783</td>\n",
       "    </tr>\n",
       "    <tr>\n",
       "      <th>05</th>\n",
       "      <td>406.241379</td>\n",
       "      <td>43841.046798</td>\n",
       "      <td>209.382537</td>\n",
       "    </tr>\n",
       "    <tr>\n",
       "      <th>06</th>\n",
       "      <td>370.957447</td>\n",
       "      <td>42503.563367</td>\n",
       "      <td>206.163924</td>\n",
       "    </tr>\n",
       "    <tr>\n",
       "      <th>07</th>\n",
       "      <td>402.000000</td>\n",
       "      <td>56209.035714</td>\n",
       "      <td>237.084448</td>\n",
       "    </tr>\n",
       "    <tr>\n",
       "      <th>08</th>\n",
       "      <td>409.000000</td>\n",
       "      <td>43282.289855</td>\n",
       "      <td>208.043961</td>\n",
       "    </tr>\n",
       "    <tr>\n",
       "      <th>09</th>\n",
       "      <td>409.662651</td>\n",
       "      <td>36630.957978</td>\n",
       "      <td>191.392158</td>\n",
       "    </tr>\n",
       "    <tr>\n",
       "      <th>10</th>\n",
       "      <td>436.980769</td>\n",
       "      <td>45143.844287</td>\n",
       "      <td>212.470808</td>\n",
       "    </tr>\n",
       "    <tr>\n",
       "      <th>11</th>\n",
       "      <td>428.991935</td>\n",
       "      <td>50759.764162</td>\n",
       "      <td>225.299277</td>\n",
       "    </tr>\n",
       "    <tr>\n",
       "      <th>12</th>\n",
       "      <td>438.204082</td>\n",
       "      <td>47264.793682</td>\n",
       "      <td>217.404677</td>\n",
       "    </tr>\n",
       "  </tbody>\n",
       "</table>\n",
       "</div>"
      ],
      "text/plain": [
       "                      mean           var         std\n",
       "                  duration      duration    duration\n",
       "plan     month                                      \n",
       "surf     0        0.000000      0.000000    0.000000\n",
       "         01     203.000000  15842.000000  125.865007\n",
       "         02     297.000000  52226.500000  228.531179\n",
       "         03     330.000000  35809.363636  189.233622\n",
       "         04     337.428571  41762.416667  204.358549\n",
       "         05     390.960526  54747.985088  233.982873\n",
       "         06     431.298969  45592.628436  213.524304\n",
       "         07     438.571429  54055.670702  232.498754\n",
       "         08     401.506250  48992.817571  221.343212\n",
       "         09     406.338542  40999.303638  202.482848\n",
       "         10     417.587983  44311.536407  210.503056\n",
       "         11     417.786477  47544.411388  218.046810\n",
       "         12     444.839344  44996.424763  212.123607\n",
       "ultimate 0        0.000000      0.000000    0.000000\n",
       "         01     193.500000  16572.333333  128.733575\n",
       "         02     403.142857  76889.476190  277.289517\n",
       "         03     304.250000  61984.931818  248.967732\n",
       "         04     336.857143  34888.928571  186.785783\n",
       "         05     406.241379  43841.046798  209.382537\n",
       "         06     370.957447  42503.563367  206.163924\n",
       "         07     402.000000  56209.035714  237.084448\n",
       "         08     409.000000  43282.289855  208.043961\n",
       "         09     409.662651  36630.957978  191.392158\n",
       "         10     436.980769  45143.844287  212.470808\n",
       "         11     428.991935  50759.764162  225.299277\n",
       "         12     438.204082  47264.793682  217.404677"
      ]
     },
     "execution_count": 96,
     "metadata": {},
     "output_type": "execute_result"
    }
   ],
   "source": [
    "without_outlier_call.pivot_table(index=['plan', 'month'], values='duration', aggfunc=[np.mean, np.var, np.std])"
   ]
  },
  {
   "cell_type": "markdown",
   "metadata": {},
   "source": [
    "<div class=\"alert alert-block alert-info\">\n",
    "<b>Note.</b> <a class=\"tocSkip\"></a>\n",
    "\n",
    "Kedua plan memiliki rata-rata, varian dan standar deviasi yang tidak jauh beda dan rata-rata pada plan surf cendrung meningkat pada setiap bulan."
   ]
  },
  {
   "cell_type": "markdown",
   "metadata": {},
   "source": [
    "<div class=\"alert alert-danger\">\n",
    "<b>Chamdani comment v.1</b> <a class=\"tocSkip\"></a>\n",
    "    \n",
    "Grafik yang bagus. Kamu bisa lebih memperindah grafik kamu agar lebih informatif dengan melakukan pengaturan *figure size*. Pastikan juga kamu memberi penjelasan atas *insight* yang terdapat dalam grafik ya. Kamu bisa menggunakan markdown di google colab atau jupyter notebook yaa. **Semangat!**\n",
    "\n",
    "<br>\n",
    "\n",
    "Untuk mengetahui lebih banyak tentang boxplot kamu bisa pelajari beberapa sumber berikut ini:\n",
    "\n",
    "* [MENGENAL BOX-PLOT (BOX AND WHISKER PLOTS)](https://www.smartstat.info/materi/statistika/eksplorasi-data/mengenal-box-plot-box-and-whisker-plots.html)\n",
    "* [Understanding Boxplots](https://builtin.com/data-science/boxplot)\n",
    "* [What does a box plot tell you?](https://www.simplypsychology.org/boxplots.html)\n",
    "\n",
    "<br>\n",
    "\n",
    "Untuk mengetahui lebih banyak tentang analisa outlier dengan boxplot:\n",
    "\n",
    "* [Outliers and Boxplots](https://www.geo.fu-berlin.de/en/v/soga/Basics-of-statistics/Descriptive-Statistics/Measures-of-Position/Outliers-and-Boxplots/index.html)\n",
    "* [Outlier detection with Boxplots](https://medium.com/@agarwal.vishal819/outlier-detection-with-boxplots-1b6757fafa21)\n",
    "</div>"
   ]
  },
  {
   "cell_type": "markdown",
   "metadata": {},
   "source": [
    "<div class=\"alert alert-danger\">\n",
    "<b>Chamdani comment v.2</b> <a class=\"tocSkip\"></a>\n",
    "\n",
    "Mohon perhatikan komentar saya sebelumnya.\n",
    "\n",
    "</div>\n",
    "<div class=\"alert alert-block alert-info\">\n",
    "<b>Student answer v.2</b> <a class=\"tocSkip\"></a>\n",
    "    \n",
    "Baik kak.\n",
    "</div>"
   ]
  },
  {
   "cell_type": "markdown",
   "metadata": {},
   "source": [
    "<div class=\"alert alert-success\">\n",
    "<b>Chamdani comment v.3</b> <a class=\"tocSkip\"></a>\n",
    "    \n",
    "Great!\n",
    "\n",
    "</div>"
   ]
  },
  {
   "cell_type": "code",
   "execution_count": 97,
   "metadata": {},
   "outputs": [],
   "source": [
    "# Mendapatkan nilai durasi pelanggan yang melebihi paket\n",
    "dataset['extra_call'] = dataset['duration'] - dataset['minutes_included']"
   ]
  },
  {
   "cell_type": "code",
   "execution_count": 98,
   "metadata": {},
   "outputs": [],
   "source": [
    "# Mengubah nilai negatif (pengguna tidak melebihi batas paket) menjadi 0 yang artinya tidak ada charge tambahan\n",
    "dataset.loc[dataset['extra_call'] < 0, 'extra_call'] = 0"
   ]
  },
  {
   "cell_type": "markdown",
   "metadata": {},
   "source": [
    "<div class=\"alert alert-success\">\n",
    "<b>Chamdani comment v.1</b> <a class=\"tocSkip\"></a>\n",
    "    \n",
    "Well done!. Keren mas Sultan \n",
    "    \n",
    "</div>"
   ]
  },
  {
   "cell_type": "code",
   "execution_count": 99,
   "metadata": {
    "scrolled": true
   },
   "outputs": [
    {
     "data": {
      "image/png": "[encoded data removed]",
      "text/plain": [
       "<Figure size 432x288 with 1 Axes>"
      ]
     },
     "metadata": {
      "needs_background": "light"
     },
     "output_type": "display_data"
    }
   ],
   "source": [
    "# Melihat distribusi penggunaan call yang melebihi batas paket berdasarkan plan\n",
    "sns.violinplot(data=dataset, x='extra_call', y='plan')\n",
    "plt.show()"
   ]
  },
  {
   "cell_type": "markdown",
   "metadata": {},
   "source": [
    "<div class=\"alert alert-block alert-info\">\n",
    "<b>Note.</b> <a class=\"tocSkip\"></a>\n",
    "\n",
    "Plan Ultimate tidak memiliki pengguna yang melebihi batas paket call, sedangkan plan surf terdapat banyak pengguna yang melebihi batas paket call."
   ]
  },
  {
   "cell_type": "code",
   "execution_count": 100,
   "metadata": {},
   "outputs": [
    {
     "data": {
      "text/plain": [
       "1010.0"
      ]
     },
     "execution_count": 100,
     "metadata": {},
     "output_type": "execute_result"
    }
   ],
   "source": [
    "dataset['extra_call'].max()"
   ]
  },
  {
   "cell_type": "code",
   "execution_count": 101,
   "metadata": {},
   "outputs": [
    {
     "data": {
      "text/html": [
       "<div>\n",
       "<style scoped>\n",
       "    .dataframe tbody tr th:only-of-type {\n",
       "        vertical-align: middle;\n",
       "    }\n",
       "\n",
       "    .dataframe tbody tr th {\n",
       "        vertical-align: top;\n",
       "    }\n",
       "\n",
       "    .dataframe thead tr th {\n",
       "        text-align: left;\n",
       "    }\n",
       "\n",
       "    .dataframe thead tr:last-of-type th {\n",
       "        text-align: right;\n",
       "    }\n",
       "</style>\n",
       "<table border=\"1\" class=\"dataframe\">\n",
       "  <thead>\n",
       "    <tr>\n",
       "      <th></th>\n",
       "      <th>mean</th>\n",
       "      <th>var</th>\n",
       "      <th>std</th>\n",
       "    </tr>\n",
       "    <tr>\n",
       "      <th></th>\n",
       "      <th>extra_call</th>\n",
       "      <th>extra_call</th>\n",
       "      <th>extra_call</th>\n",
       "    </tr>\n",
       "    <tr>\n",
       "      <th>plan</th>\n",
       "      <th></th>\n",
       "      <th></th>\n",
       "      <th></th>\n",
       "    </tr>\n",
       "  </thead>\n",
       "  <tbody>\n",
       "    <tr>\n",
       "      <th>surf</th>\n",
       "      <td>61.225459</td>\n",
       "      <td>15710.875625</td>\n",
       "      <td>125.343032</td>\n",
       "    </tr>\n",
       "    <tr>\n",
       "      <th>ultimate</th>\n",
       "      <td>0.000000</td>\n",
       "      <td>0.000000</td>\n",
       "      <td>0.000000</td>\n",
       "    </tr>\n",
       "  </tbody>\n",
       "</table>\n",
       "</div>"
      ],
      "text/plain": [
       "               mean           var         std\n",
       "         extra_call    extra_call  extra_call\n",
       "plan                                         \n",
       "surf      61.225459  15710.875625  125.343032\n",
       "ultimate   0.000000      0.000000    0.000000"
      ]
     },
     "execution_count": 101,
     "metadata": {},
     "output_type": "execute_result"
    }
   ],
   "source": [
    "# Mendapatkan nilai rata-rata, varian dan standar deviasi dari masing-masing plan\n",
    "dataset.pivot_table(index='plan', values='extra_call', aggfunc=[np.mean, np.var, np.std])"
   ]
  },
  {
   "cell_type": "code",
   "execution_count": 102,
   "metadata": {},
   "outputs": [],
   "source": [
    "extra_call_surf_user = dataset.loc[(dataset['extra_call'] > 0) & (dataset['plan'] == 'surf'), 'extra_call'].count()\n",
    "extra_call_ultimate_user = dataset.loc[(dataset['extra_call'] > 0) & (dataset['plan'] == 'ultimate'), 'extra_call'].count()\n",
    "surf_user_count = dataset.loc[dataset['plan'] == 'surf', 'plan'].count()\n",
    "ultimate_user_count = dataset.loc[dataset['plan'] == 'ultimate', 'plan'].count()\n"
   ]
  },
  {
   "cell_type": "code",
   "execution_count": 103,
   "metadata": {},
   "outputs": [
    {
     "name": "stdout",
     "output_type": "stream",
     "text": [
      "Pengguna plan Surf yang melebih paket sebanyak : 566 Pengguna\n",
      "Pengguna plan Ultimate yang melebih paket sebanyak : 0 Pengguna\n",
      "Probability pengguna plan Surf yang melebihi paket : 35.85%\n",
      "Probability pengguna plan Ultimate yang melebihi paket : 0.00%\n"
     ]
    }
   ],
   "source": [
    "# Probability pengguna melebihi batas paket call\n",
    "print(f'Pengguna plan Surf yang melebih paket sebanyak : {extra_call_surf_user} Pengguna')\n",
    "print(f'Pengguna plan Ultimate yang melebih paket sebanyak : {extra_call_ultimate_user} Pengguna')\n",
    "print(f'Probability pengguna plan Surf yang melebihi paket : {(extra_call_surf_user / surf_user_count)*100:0.2f}%')\n",
    "print(f'Probability pengguna plan Ultimate yang melebihi paket : {(extra_call_ultimate_user / ultimate_user_count)*100:0.2f}%')\n"
   ]
  },
  {
   "cell_type": "markdown",
   "metadata": {},
   "source": [
    "<div class=\"alert alert-success\">\n",
    "<b>Chamdani comment v.1</b> <a class=\"tocSkip\"></a>\n",
    "    \n",
    "Temuan bagus mas Sultan.\n",
    "    \n",
    "</div>"
   ]
  },
  {
   "cell_type": "code",
   "execution_count": 104,
   "metadata": {},
   "outputs": [],
   "source": [
    "# Mendapatkan nilai extra cost call pengguna\n",
    "dataset['charge_call'] = dataset['extra_call'] * dataset['usd_per_minute']"
   ]
  },
  {
   "cell_type": "code",
   "execution_count": 105,
   "metadata": {},
   "outputs": [
    {
     "name": "stdout",
     "output_type": "stream",
     "text": [
      "Total pendapatan dari pengguna plan surf yang melebihi batas call yaitu : 2900.25 $\n",
      "Total pendapatan dari pengguna plan ultimate yang melebihi batas call yaitu : 0.0 $\n"
     ]
    }
   ],
   "source": [
    "# Mendapatkan total pendapatan extra dari setiap plan\n",
    "call_charge_total_surf_user = dataset.loc[dataset['plan'] == 'surf', 'charge_call'].sum()\n",
    "call_charge_total_ultimate_user = dataset.loc[dataset['plan'] == 'ultimate', 'charge_call'].sum()\n",
    "\n",
    "print(f'Total pendapatan dari pengguna plan surf yang melebihi batas call yaitu : {call_charge_total_surf_user} $')\n",
    "print(f'Total pendapatan dari pengguna plan ultimate yang melebihi batas call yaitu : {call_charge_total_ultimate_user} $')"
   ]
  },
  {
   "cell_type": "markdown",
   "metadata": {},
   "source": [
    "<div class=\"alert alert-block alert-info\">\n",
    "<b>Note.</b> <a class=\"tocSkip\"></a>\n",
    "\n",
    "Findings: \n",
    "- Plan Ultimate tidak memiliki pengguna yang melebihi batas paket call, sedangkan plan surf terdapat banyak pengguna yang melebihi batas paket call.\n",
    "- Total pendapatan dari pengguna plan surf yang melebihi batas call yaitu : 2900.25 $\n",
    "\n",
    "- Total pendapatan dari pengguna plan ultimate yang melebihi batas call yaitu : 0 $\n",
    "- Pengguna plan Surf yang melebih paket sebanyak : 566 Pengguna\n",
    "- Pengguna plan Ultimate yang melebih paket sebanyak : 0 Pengguna\n",
    "- Probability pengguna plan Surf yang melebihi paket : 35.98%\n",
    "- Probability pengguna plan Ultimate yang melebihi paket : 0.00%\n",
    "    \n",
    "Insight:\n",
    "- Berikan pemberitahuan kepada pengguna apabila sudah melebihi batas paket call.\n",
    "- Pembuatan paket call extra yang dapat ditawarkan bila pengguna sudah melebihi batas paket.\n",
    "- Pembuatan plan tambahan diatara surf dan ultimate\n",
    "</div>"
   ]
  },
  {
   "cell_type": "markdown",
   "metadata": {},
   "source": [
    "<div class=\"alert alert-success\">\n",
    "<b>Chamdani comment v.1</b> <a class=\"tocSkip\"></a>\n",
    "    \n",
    "Keren, Bagus mas Sultan kamu sudah memberikan insight dan deskripsi yang cukup detail. Kamu juga bisa mempertimbangkan untuk membuat suatu insight di setiap result yang kamu dapatkan dari setiap proses ya. Semangat!\n",
    "    \n",
    "</div>"
   ]
  },
  {
   "cell_type": "markdown",
   "metadata": {},
   "source": [
    "####  Bagaimana distribusi penggunaan quota dari masing-masing paket?"
   ]
  },
  {
   "cell_type": "code",
   "execution_count": 106,
   "metadata": {},
   "outputs": [
    {
     "data": {
      "image/png": "[encoded data removed]",
      "text/plain": [
       "<Figure size 432x288 with 1 Axes>"
      ]
     },
     "metadata": {
      "needs_background": "light"
     },
     "output_type": "display_data"
    }
   ],
   "source": [
    "# Mendapatkan distribusi penggunaan quota internet berdasarkan plan\n",
    "sns.violinplot(data=dataset, x='gb_used', y='plan')\n",
    "plt.show()"
   ]
  },
  {
   "cell_type": "code",
   "execution_count": 107,
   "metadata": {},
   "outputs": [],
   "source": [
    "# menentukan Quartile 1, Quartile 3 dan IQR\n",
    "q1_internet = dataset['gb_used'].quantile(0.25)\n",
    "q3_internet = dataset['gb_used'].quantile(0.75)\n",
    "iqr_internet = q3_internet - q1_internet"
   ]
  },
  {
   "cell_type": "code",
   "execution_count": 108,
   "metadata": {},
   "outputs": [
    {
     "name": "stdout",
     "output_type": "stream",
     "text": [
      "Batas atas: 81.0\n",
      "Batas bawah: 1.0\n"
     ]
    }
   ],
   "source": [
    "# Menentukan batas atas dan batas bawah\n",
    "lower_internet = q1_internet - (1.5*iqr_internet)\n",
    "upper_internet = q3_internet + (1.5*iqr_internet)\n",
    "print('Batas atas:', upper_internet)\n",
    "print('Batas bawah:', lower_internet)"
   ]
  },
  {
   "cell_type": "code",
   "execution_count": 109,
   "metadata": {},
   "outputs": [],
   "source": [
    "# Memotong nilai outlier pada data internet 'gb_used'\n",
    "without_outlier_internet = dataset.query(\"@lower_internet < gb_used < @upper_internet\")"
   ]
  },
  {
   "cell_type": "code",
   "execution_count": 110,
   "metadata": {},
   "outputs": [
    {
     "data": {
      "image/png": "[encoded data removed]",
      "text/plain": [
       "<Figure size 432x288 with 1 Axes>"
      ]
     },
     "metadata": {
      "needs_background": "light"
     },
     "output_type": "display_data"
    }
   ],
   "source": [
    "# Mendapatkan distribusi penggunaan quota internet berdasarkan plan tanpa outlier\n",
    "sns.violinplot(data=without_outlier_internet, x='gb_used', y='plan') \n",
    "plt.show()"
   ]
  },
  {
   "cell_type": "markdown",
   "metadata": {},
   "source": [
    "<div class=\"alert alert-block alert-info\">\n",
    "<b>Note.</b> <a class=\"tocSkip\"></a>\n",
    "\n",
    "Kedua plan memiliki distribusi yang terlihat tidak jauh beda atau terlihat sama.\n",
    "</div>"
   ]
  },
  {
   "cell_type": "code",
   "execution_count": 111,
   "metadata": {
    "scrolled": true
   },
   "outputs": [
    {
     "data": {
      "text/html": [
       "<div>\n",
       "<style scoped>\n",
       "    .dataframe tbody tr th:only-of-type {\n",
       "        vertical-align: middle;\n",
       "    }\n",
       "\n",
       "    .dataframe tbody tr th {\n",
       "        vertical-align: top;\n",
       "    }\n",
       "\n",
       "    .dataframe thead tr th {\n",
       "        text-align: left;\n",
       "    }\n",
       "\n",
       "    .dataframe thead tr:last-of-type th {\n",
       "        text-align: right;\n",
       "    }\n",
       "</style>\n",
       "<table border=\"1\" class=\"dataframe\">\n",
       "  <thead>\n",
       "    <tr>\n",
       "      <th></th>\n",
       "      <th>mean</th>\n",
       "      <th>var</th>\n",
       "      <th>std</th>\n",
       "    </tr>\n",
       "    <tr>\n",
       "      <th></th>\n",
       "      <th>gb_used</th>\n",
       "      <th>gb_used</th>\n",
       "      <th>gb_used</th>\n",
       "    </tr>\n",
       "    <tr>\n",
       "      <th>plan</th>\n",
       "      <th></th>\n",
       "      <th></th>\n",
       "      <th></th>\n",
       "    </tr>\n",
       "  </thead>\n",
       "  <tbody>\n",
       "    <tr>\n",
       "      <th>surf</th>\n",
       "      <td>40.392182</td>\n",
       "      <td>268.839574</td>\n",
       "      <td>16.396328</td>\n",
       "    </tr>\n",
       "    <tr>\n",
       "      <th>ultimate</th>\n",
       "      <td>40.786723</td>\n",
       "      <td>244.185000</td>\n",
       "      <td>15.626420</td>\n",
       "    </tr>\n",
       "  </tbody>\n",
       "</table>\n",
       "</div>"
      ],
      "text/plain": [
       "               mean         var        std\n",
       "            gb_used     gb_used    gb_used\n",
       "plan                                      \n",
       "surf      40.392182  268.839574  16.396328\n",
       "ultimate  40.786723  244.185000  15.626420"
      ]
     },
     "execution_count": 111,
     "metadata": {},
     "output_type": "execute_result"
    }
   ],
   "source": [
    "# Mendapatkan nilai rata-rata, varian dan standar deviasi dari masing-masing plan tanpa outlier\n",
    "without_outlier_internet.pivot_table(index='plan', values='gb_used', aggfunc=[np.mean, np.var, np.std])"
   ]
  },
  {
   "cell_type": "markdown",
   "metadata": {},
   "source": [
    "<div class=\"alert alert-block alert-info\">\n",
    "<b>Note.</b> <a class=\"tocSkip\"></a>\n",
    "\n",
    "Rata-rata penggunaan quota setiap plan hampir sama.\n",
    "Namun varian surf lebih banyak bila dibandingkan dengan ultimate.\n",
    "Lalu bagaimana mengenai distribusi pengguna yang melebihi batas paket?\n",
    "</div>"
   ]
  },
  {
   "cell_type": "code",
   "execution_count": 112,
   "metadata": {},
   "outputs": [],
   "source": [
    "# Mendapatkan nilai durasi pelanggan yang melebihi paket\n",
    "dataset['extra_internet'] = dataset['gb_used'] - dataset['gb_per_month_included']"
   ]
  },
  {
   "cell_type": "code",
   "execution_count": 113,
   "metadata": {},
   "outputs": [],
   "source": [
    "# Mengubah nilai negatif (pengguna tidak melebihi batas paket) menjadi 0 yang artinya tidak ada charge tambahan\n",
    "dataset.loc[dataset['extra_internet'] < 0, 'extra_internet'] = 0"
   ]
  },
  {
   "cell_type": "code",
   "execution_count": 114,
   "metadata": {
    "scrolled": true
   },
   "outputs": [
    {
     "data": {
      "image/png": "[encoded data removed]",
      "text/plain": [
       "<Figure size 432x288 with 1 Axes>"
      ]
     },
     "metadata": {
      "needs_background": "light"
     },
     "output_type": "display_data"
    }
   ],
   "source": [
    "# Melihat distribusi penggunaan quota internet yang melebihi batas paket berdasarkan plan\n",
    "sns.violinplot(data=dataset, x='extra_internet', y='plan')\n",
    "plt.show()"
   ]
  },
  {
   "cell_type": "code",
   "execution_count": 115,
   "metadata": {
    "scrolled": true
   },
   "outputs": [
    {
     "data": {
      "text/html": [
       "<div>\n",
       "<style scoped>\n",
       "    .dataframe tbody tr th:only-of-type {\n",
       "        vertical-align: middle;\n",
       "    }\n",
       "\n",
       "    .dataframe tbody tr th {\n",
       "        vertical-align: top;\n",
       "    }\n",
       "\n",
       "    .dataframe thead tr th {\n",
       "        text-align: left;\n",
       "    }\n",
       "\n",
       "    .dataframe thead tr:last-of-type th {\n",
       "        text-align: right;\n",
       "    }\n",
       "</style>\n",
       "<table border=\"1\" class=\"dataframe\">\n",
       "  <thead>\n",
       "    <tr>\n",
       "      <th></th>\n",
       "      <th>mean</th>\n",
       "      <th>var</th>\n",
       "      <th>std</th>\n",
       "    </tr>\n",
       "    <tr>\n",
       "      <th></th>\n",
       "      <th>extra_internet</th>\n",
       "      <th>extra_internet</th>\n",
       "      <th>extra_internet</th>\n",
       "    </tr>\n",
       "    <tr>\n",
       "      <th>plan</th>\n",
       "      <th></th>\n",
       "      <th></th>\n",
       "      <th></th>\n",
       "    </tr>\n",
       "  </thead>\n",
       "  <tbody>\n",
       "    <tr>\n",
       "      <th>surf</th>\n",
       "      <td>25.907536</td>\n",
       "      <td>266.295628</td>\n",
       "      <td>16.318567</td>\n",
       "    </tr>\n",
       "    <tr>\n",
       "      <th>ultimate</th>\n",
       "      <td>13.727901</td>\n",
       "      <td>155.791696</td>\n",
       "      <td>12.481654</td>\n",
       "    </tr>\n",
       "  </tbody>\n",
       "</table>\n",
       "</div>"
      ],
      "text/plain": [
       "                   mean            var            std\n",
       "         extra_internet extra_internet extra_internet\n",
       "plan                                                 \n",
       "surf          25.907536     266.295628      16.318567\n",
       "ultimate      13.727901     155.791696      12.481654"
      ]
     },
     "execution_count": 115,
     "metadata": {},
     "output_type": "execute_result"
    }
   ],
   "source": [
    "# Mendapatkan nilai rata-rata, varian dan standar deviasi dari masing-masing plan\n",
    "dataset.pivot_table(index='plan', values='extra_internet', aggfunc=[np.mean, np.var, np.std])"
   ]
  },
  {
   "cell_type": "markdown",
   "metadata": {},
   "source": [
    "<div class=\"alert alert-block alert-info\">\n",
    "<b>Note.</b> <a class=\"tocSkip\"></a>\n",
    "\n",
    "Rata-rata penggunaan quota surf lebih banyak dibandingkan dengan ultimate"
   ]
  },
  {
   "cell_type": "code",
   "execution_count": 116,
   "metadata": {},
   "outputs": [],
   "source": [
    "extra_internet_surf_user = dataset.loc[(dataset['extra_internet'] > 0) & (dataset['plan'] == 'surf'), 'extra_internet'].count()\n",
    "extra_internet_ultimate_user = dataset.loc[(dataset['extra_internet'] > 0) & (dataset['plan'] == 'ultimate'), 'extra_internet'].count()"
   ]
  },
  {
   "cell_type": "code",
   "execution_count": 117,
   "metadata": {},
   "outputs": [
    {
     "name": "stdout",
     "output_type": "stream",
     "text": [
      "Pengguna plan Surf yang melebih paket sebanyak : 1394 Pengguna\n",
      "Pengguna plan Ultimate yang melebih paket sebanyak : 558 Pengguna\n",
      "Probability pengguna plan Surf yang melebihi paket : 88.28%\n",
      "Probability pengguna plan Ultimate yang melebihi paket : 77.07%\n"
     ]
    }
   ],
   "source": [
    "# Probability pengguna melebihi batas paket\n",
    "print(f'Pengguna plan Surf yang melebih paket sebanyak : {extra_internet_surf_user} Pengguna')\n",
    "print(f'Pengguna plan Ultimate yang melebih paket sebanyak : {extra_internet_ultimate_user} Pengguna')\n",
    "print(f'Probability pengguna plan Surf yang melebihi paket : {(extra_internet_surf_user / surf_user_count)*100:0.2f}%')\n",
    "print(f'Probability pengguna plan Ultimate yang melebihi paket : {(extra_internet_ultimate_user / ultimate_user_count)*100:0.2f}%')\n"
   ]
  },
  {
   "cell_type": "code",
   "execution_count": 118,
   "metadata": {},
   "outputs": [],
   "source": [
    "# Mendapatkan nilai extra cost quota internet pengguna\n",
    "dataset['charge_internet'] = dataset['extra_internet'] * dataset['usd_per_gb']"
   ]
  },
  {
   "cell_type": "code",
   "execution_count": 119,
   "metadata": {
    "scrolled": true
   },
   "outputs": [
    {
     "name": "stdout",
     "output_type": "stream",
     "text": [
      "Total pendapatan dari pengguna plan surf yang melebihi batas quota internet yaitu : 409080.0 $\n",
      "Total pendapatan dari pengguna plan ultimate yang melebihi batas quota internet yaitu : 69573.0 $\n"
     ]
    }
   ],
   "source": [
    "# Mendapatkan total pendapatan extra dari setiap plan\n",
    "internet_charge_total_surf_user = dataset.loc[dataset['plan'] == 'surf', 'charge_internet'].sum()\n",
    "internet_charge_total_ultimate_user = dataset.loc[dataset['plan'] == 'ultimate', 'charge_internet'].sum()\n",
    "\n",
    "print(f'Total pendapatan dari pengguna plan surf yang melebihi batas quota internet yaitu : {internet_charge_total_surf_user} $')\n",
    "print(f'Total pendapatan dari pengguna plan ultimate yang melebihi batas quota internet yaitu : {internet_charge_total_ultimate_user} $')"
   ]
  },
  {
   "cell_type": "markdown",
   "metadata": {},
   "source": [
    "<div class=\"alert alert-block alert-info\">\n",
    "<b>Note.</b> <a class=\"tocSkip\"></a>\n",
    "\n",
    "Findings: \n",
    "- Plan surf lebih banyak memiliki pengguna yang melebihi batas paket quota internet dibanding plan ultimate\n",
    "- Total pendapatan dari pengguna plan surf yang melebihi batas quota internet yaitu : 409080 $\n",
    "\n",
    "- Total pendapatan dari pengguna plan ultimate yang melebihi batas quota internet yaitu : 69573 $\n",
    "- Pengguna plan Surf yang melebih paket sebanyak : 1394 Pengguna\n",
    "- Pengguna plan Ultimate yang melebih paket sebanyak : 558 Pengguna\n",
    "- Probability pengguna plan Surf yang melebihi paket : 88.62%\n",
    "- Probability pengguna plan Ultimate yang melebihi paket : 77.50%\n",
    "    \n",
    "Insight:\n",
    "- memberikan peringatan apabila pengguna melewati batas penggunaan\n",
    "- Pembuatan paket call extra yang dapat ditawarkan bila pengguna sudah melebihi batas paket.\n",
    "- Memberikan penawaran menarik kepada pengguna untuk upgrade plan\n",
    "- Membuat plan baru diatas plan ultimate\n",
    "</div>"
   ]
  },
  {
   "cell_type": "markdown",
   "metadata": {},
   "source": [
    "<div class=\"alert alert-danger\">\n",
    "<b>Chamdani comment v.1</b> <a class=\"tocSkip\"></a>\n",
    "\n",
    "Penjabaran yang keren. Namun sayangnya tidak ada penjelasan yang cukup terkait percilan dan distribusi dari data.\n",
    "    \n",
    "</div>"
   ]
  },
  {
   "cell_type": "markdown",
   "metadata": {},
   "source": [
    "<div class=\"alert alert-danger\">\n",
    "<b>Chamdani comment v.2</b> <a class=\"tocSkip\"></a>\n",
    "    \n",
    "Perhatkan feedback saya sebelumnya. Mohon ikuti arahan tersebut pada seluruh feedback warna kuning maupun merah.\n",
    "    \n",
    "</div>\n",
    "<div class=\"alert alert-block alert-info\">\n",
    "<b>Student answer v.2</b> <a class=\"tocSkip\"></a>\n",
    "    \n",
    "Baik kak.\n",
    "</div>"
   ]
  },
  {
   "cell_type": "markdown",
   "metadata": {},
   "source": [
    "<div class=\"alert alert-success\">\n",
    "<b>Chamdani comment v.3</b> <a class=\"tocSkip\"></a>\n",
    "    \n",
    "Great!\n",
    "\n",
    "</div>"
   ]
  },
  {
   "cell_type": "markdown",
   "metadata": {},
   "source": [
    "####  Bagaimana distribusi penggunaan pesan dari masing-masing paket?"
   ]
  },
  {
   "cell_type": "code",
   "execution_count": 120,
   "metadata": {
    "scrolled": true
   },
   "outputs": [
    {
     "data": {
      "image/png": "[encoded data removed]",
      "text/plain": [
       "<Figure size 432x288 with 1 Axes>"
      ]
     },
     "metadata": {
      "needs_background": "light"
     },
     "output_type": "display_data"
    }
   ],
   "source": [
    "# Melihat distribusi data\n",
    "sns.violinplot(data=dataset, x='messages_count', y='plan')\n",
    "plt.show()"
   ]
  },
  {
   "cell_type": "markdown",
   "metadata": {},
   "source": [
    "<div class=\"alert alert-block alert-info\">\n",
    "<b>Note.</b> <a class=\"tocSkip\"></a>\n",
    "\n",
    "Kedua plan memiliki nilai outlier yang cukup jauh diatas rata-rata\n",
    "</div>"
   ]
  },
  {
   "cell_type": "code",
   "execution_count": 121,
   "metadata": {},
   "outputs": [],
   "source": [
    "# menentukan Quartile 1, Quartile 3 dan IQR\n",
    "q1_messages = dataset['messages_count'].quantile(0.25)\n",
    "q3_messages = dataset['messages_count'].quantile(0.75)\n",
    "iqr_messages = q3_messages - q1_messages"
   ]
  },
  {
   "cell_type": "code",
   "execution_count": 122,
   "metadata": {},
   "outputs": [
    {
     "name": "stdout",
     "output_type": "stream",
     "text": [
      "Batas atas: 123.0\n",
      "Batas bawah: -69.0\n"
     ]
    }
   ],
   "source": [
    "# Menentukan batas atas dan batas bawah\n",
    "lower_messages = q1_messages - (1.5*iqr_messages)\n",
    "upper_messages = q3_messages + (1.5*iqr_messages)\n",
    "print('Batas atas:', upper_messages)\n",
    "print('Batas bawah:', lower_messages)"
   ]
  },
  {
   "cell_type": "code",
   "execution_count": 123,
   "metadata": {},
   "outputs": [],
   "source": [
    "# Memotong nilai outlier pada data messages 'messages_count'\n",
    "without_outlier_messages = dataset.query(\"@lower_messages < messages_count < @upper_messages\")"
   ]
  },
  {
   "cell_type": "code",
   "execution_count": 124,
   "metadata": {},
   "outputs": [
    {
     "data": {
      "image/png": "[encoded data removed]",
      "text/plain": [
       "<Figure size 432x288 with 1 Axes>"
      ]
     },
     "metadata": {
      "needs_background": "light"
     },
     "output_type": "display_data"
    }
   ],
   "source": [
    "# Melihat distribusi data tanpa outlier\n",
    "sns.violinplot(data=without_outlier_messages, x='messages_count', y='plan')\n",
    "plt.show()"
   ]
  },
  {
   "cell_type": "markdown",
   "metadata": {},
   "source": [
    "<div class=\"alert alert-block alert-info\">\n",
    "<b>Note.</b> <a class=\"tocSkip\"></a>\n",
    "\n",
    "Nilai median pada plan ultime lebih besar dibanding plan surf\n",
    "</div>"
   ]
  },
  {
   "cell_type": "code",
   "execution_count": 125,
   "metadata": {},
   "outputs": [
    {
     "data": {
      "text/html": [
       "<div>\n",
       "<style scoped>\n",
       "    .dataframe tbody tr th:only-of-type {\n",
       "        vertical-align: middle;\n",
       "    }\n",
       "\n",
       "    .dataframe tbody tr th {\n",
       "        vertical-align: top;\n",
       "    }\n",
       "\n",
       "    .dataframe thead tr th {\n",
       "        text-align: left;\n",
       "    }\n",
       "\n",
       "    .dataframe thead tr:last-of-type th {\n",
       "        text-align: right;\n",
       "    }\n",
       "</style>\n",
       "<table border=\"1\" class=\"dataframe\">\n",
       "  <thead>\n",
       "    <tr>\n",
       "      <th></th>\n",
       "      <th>mean</th>\n",
       "      <th>var</th>\n",
       "      <th>std</th>\n",
       "    </tr>\n",
       "    <tr>\n",
       "      <th></th>\n",
       "      <th>messages_count</th>\n",
       "      <th>messages_count</th>\n",
       "      <th>messages_count</th>\n",
       "    </tr>\n",
       "    <tr>\n",
       "      <th>plan</th>\n",
       "      <th></th>\n",
       "      <th></th>\n",
       "      <th></th>\n",
       "    </tr>\n",
       "  </thead>\n",
       "  <tbody>\n",
       "    <tr>\n",
       "      <th>surf</th>\n",
       "      <td>28.017544</td>\n",
       "      <td>775.893710</td>\n",
       "      <td>27.854869</td>\n",
       "    </tr>\n",
       "    <tr>\n",
       "      <th>ultimate</th>\n",
       "      <td>34.298720</td>\n",
       "      <td>921.007505</td>\n",
       "      <td>30.348105</td>\n",
       "    </tr>\n",
       "  </tbody>\n",
       "</table>\n",
       "</div>"
      ],
      "text/plain": [
       "                   mean            var            std\n",
       "         messages_count messages_count messages_count\n",
       "plan                                                 \n",
       "surf          28.017544     775.893710      27.854869\n",
       "ultimate      34.298720     921.007505      30.348105"
      ]
     },
     "execution_count": 125,
     "metadata": {},
     "output_type": "execute_result"
    }
   ],
   "source": [
    "# Mendapatkan nilai rata-rata, varian dan standar deviasi dari masing-masing plan tanpa outlier\n",
    "without_outlier_messages.pivot_table(index='plan', values='messages_count', aggfunc=[np.mean, np.var, np.std])"
   ]
  },
  {
   "cell_type": "markdown",
   "metadata": {},
   "source": [
    "<div class=\"alert alert-block alert-info\">\n",
    "<b>Note.</b> <a class=\"tocSkip\"></a>\n",
    "\n",
    "Rata-rata penggunaan message plan ultimate lebih banyak 6 pesan bila dibandingkan dengan plan surf\n",
    "Lalu bagaimana mengenai distribusi pengguna yang melebihi batas paket?\n",
    "</div>"
   ]
  },
  {
   "cell_type": "code",
   "execution_count": 126,
   "metadata": {},
   "outputs": [],
   "source": [
    "# Mendapatkan nilai durasi pelanggan yang melebihi paket\n",
    "dataset['extra_messages'] = dataset['messages_count'] - dataset['messages_included']"
   ]
  },
  {
   "cell_type": "code",
   "execution_count": 127,
   "metadata": {},
   "outputs": [],
   "source": [
    "# Mengubah nilai negatif (pengguna tidak melebihi batas paket) menjadi 0 yang artinya tidak ada charge tambahan\n",
    "dataset.loc[dataset['extra_messages'] < 0, 'extra_messages'] = 0"
   ]
  },
  {
   "cell_type": "code",
   "execution_count": 128,
   "metadata": {},
   "outputs": [
    {
     "data": {
      "image/png": "[encoded data removed]",
      "text/plain": [
       "<Figure size 432x288 with 1 Axes>"
      ]
     },
     "metadata": {
      "needs_background": "light"
     },
     "output_type": "display_data"
    }
   ],
   "source": [
    "# Melihat distribusi penggunaan messages yang melebihi batas paket berdasarkan plan\n",
    "sns.violinplot(data=dataset, x='extra_messages', y='plan')\n",
    "plt.show()"
   ]
  },
  {
   "cell_type": "code",
   "execution_count": 129,
   "metadata": {
    "scrolled": true
   },
   "outputs": [
    {
     "data": {
      "text/html": [
       "<div>\n",
       "<style scoped>\n",
       "    .dataframe tbody tr th:only-of-type {\n",
       "        vertical-align: middle;\n",
       "    }\n",
       "\n",
       "    .dataframe tbody tr th {\n",
       "        vertical-align: top;\n",
       "    }\n",
       "\n",
       "    .dataframe thead tr th {\n",
       "        text-align: left;\n",
       "    }\n",
       "\n",
       "    .dataframe thead tr:last-of-type th {\n",
       "        text-align: right;\n",
       "    }\n",
       "</style>\n",
       "<table border=\"1\" class=\"dataframe\">\n",
       "  <thead>\n",
       "    <tr>\n",
       "      <th></th>\n",
       "      <th>mean</th>\n",
       "      <th>var</th>\n",
       "      <th>std</th>\n",
       "    </tr>\n",
       "    <tr>\n",
       "      <th></th>\n",
       "      <th>extra_messages</th>\n",
       "      <th>extra_messages</th>\n",
       "      <th>extra_messages</th>\n",
       "    </tr>\n",
       "    <tr>\n",
       "      <th>plan</th>\n",
       "      <th></th>\n",
       "      <th></th>\n",
       "      <th></th>\n",
       "    </tr>\n",
       "  </thead>\n",
       "  <tbody>\n",
       "    <tr>\n",
       "      <th>surf</th>\n",
       "      <td>6.986067</td>\n",
       "      <td>377.860389</td>\n",
       "      <td>19.438631</td>\n",
       "    </tr>\n",
       "    <tr>\n",
       "      <th>ultimate</th>\n",
       "      <td>0.000000</td>\n",
       "      <td>0.000000</td>\n",
       "      <td>0.000000</td>\n",
       "    </tr>\n",
       "  </tbody>\n",
       "</table>\n",
       "</div>"
      ],
      "text/plain": [
       "                   mean            var            std\n",
       "         extra_messages extra_messages extra_messages\n",
       "plan                                                 \n",
       "surf           6.986067     377.860389      19.438631\n",
       "ultimate       0.000000       0.000000       0.000000"
      ]
     },
     "execution_count": 129,
     "metadata": {},
     "output_type": "execute_result"
    }
   ],
   "source": [
    "# Mendapatkan nilai rata-rata, varian dan standar deviasi dari masing-masing plan\n",
    "dataset.pivot_table(index='plan', values='extra_messages', aggfunc=[np.mean, np.var, np.std])"
   ]
  },
  {
   "cell_type": "markdown",
   "metadata": {},
   "source": [
    "<div class=\"alert alert-block alert-info\">\n",
    "<b>Note.</b> <a class=\"tocSkip\"></a>\n",
    "\n",
    "plan ultimate tidak terdapat pengguna yang melebihi batas paket messages,\n",
    "</div>"
   ]
  },
  {
   "cell_type": "code",
   "execution_count": 130,
   "metadata": {},
   "outputs": [],
   "source": [
    "extra_messages_surf_user = dataset.loc[(dataset['extra_messages'] > 0) & (dataset['plan'] == 'surf'), 'extra_messages'].count()\n",
    "extra_messages_ultimate_user = dataset.loc[(dataset['extra_messages'] > 0) & (dataset['plan'] == 'ultimate'), 'extra_messages'].count()"
   ]
  },
  {
   "cell_type": "code",
   "execution_count": 131,
   "metadata": {},
   "outputs": [
    {
     "name": "stdout",
     "output_type": "stream",
     "text": [
      "Pengguna plan Surf yang melebih paket sebanyak : 340 Pengguna\n",
      "Pengguna plan Ultimate yang melebih paket sebanyak : 0 Pengguna\n",
      "Probability pengguna plan Surf yang melebihi paket : 21.53%\n",
      "Probability pengguna plan Ultimate yang melebihi paket : 0.00%\n"
     ]
    }
   ],
   "source": [
    "# Probability pengguna melebihi batas paket\n",
    "print(f'Pengguna plan Surf yang melebih paket sebanyak : {extra_messages_surf_user} Pengguna')\n",
    "print(f'Pengguna plan Ultimate yang melebih paket sebanyak : {extra_messages_ultimate_user} Pengguna')\n",
    "print(f'Probability pengguna plan Surf yang melebihi paket : {(extra_messages_surf_user / surf_user_count)*100:0.2f}%')\n",
    "print(f'Probability pengguna plan Ultimate yang melebihi paket : {(extra_messages_ultimate_user / ultimate_user_count)*100:0.2f}%')"
   ]
  },
  {
   "cell_type": "code",
   "execution_count": 132,
   "metadata": {},
   "outputs": [],
   "source": [
    "# Mendapatkan nilai extra cost quota internet pengguna\n",
    "dataset['charge_messages'] = dataset['extra_messages'] * dataset['usd_per_message']"
   ]
  },
  {
   "cell_type": "code",
   "execution_count": 133,
   "metadata": {
    "scrolled": true
   },
   "outputs": [
    {
     "name": "stdout",
     "output_type": "stream",
     "text": [
      "Total pendapatan dari pengguna plan surf yang melebihi batas quota messages yaitu : 330.93 $\n",
      "Total pendapatan dari pengguna plan ultimate yang melebihi batas quota messages yaitu : 0.0 $\n"
     ]
    }
   ],
   "source": [
    "# Mendapatkan total pendapatan extra dari setiap plan\n",
    "messages_charge_total_surf_user = dataset.loc[dataset['plan'] == 'surf', 'charge_messages'].sum()\n",
    "messages_charge_total_ultimate_user = dataset.loc[dataset['plan'] == 'ultimate', 'charge_messages'].sum()\n",
    "\n",
    "print(f'Total pendapatan dari pengguna plan surf yang melebihi batas quota messages yaitu : {messages_charge_total_surf_user} $')\n",
    "print(f'Total pendapatan dari pengguna plan ultimate yang melebihi batas quota messages yaitu : {messages_charge_total_ultimate_user} $')"
   ]
  },
  {
   "cell_type": "markdown",
   "metadata": {},
   "source": [
    "<div class=\"alert alert-block alert-info\">\n",
    "<b>Note.</b> <a class=\"tocSkip\"></a>\n",
    "\n",
    "- Pengguna plan Surf yang melebih paket sebanyak : 340 Pengguna\n",
    "- Pengguna plan Ultimate yang melebih paket sebanyak : 0 Pengguna\n",
    "- Probability pengguna plan Surf yang melebihi paket messages : 21.61%\n",
    "- Probability pengguna plan Ultimate yang melebihi paket messages : 0.00%\n",
    "\n",
    "    \n",
    "Total pendapatan dari pengguna plan surf yang melebihi batas quota messages yaitu : 330.93 $\n",
    "\n",
    "Total pendapatan dari pengguna plan ultimate yang melebihi batas quota messages yaitu : 0 $\n",
    "</div>"
   ]
  },
  {
   "cell_type": "markdown",
   "metadata": {},
   "source": [
    "### Hypothetical Testing"
   ]
  },
  {
   "cell_type": "markdown",
   "metadata": {},
   "source": [
    "#### Apakah rata-rata pendapatan dari pengguna plan Ultimate dan Surf berbeda?\n",
    "\n",
    "Ho = rata-rata pendapatan pada plan ultimate dan surf sama.\n",
    "\n",
    "H1 = rata-rata pendapatan pada plan ultimate dan surf berbeda."
   ]
  },
  {
   "cell_type": "code",
   "execution_count": 134,
   "metadata": {},
   "outputs": [],
   "source": [
    "# Mendapatkan data pendapatan\n",
    "dataset['cost_total'] = dataset[['usd_monthly_pay', 'charge_call', 'charge_internet', 'charge_messages']].sum(axis=1)\n",
    "dataset['charge_total'] = dataset[['charge_call', 'charge_internet', 'charge_messages']].sum(axis=1)"
   ]
  },
  {
   "cell_type": "markdown",
   "metadata": {},
   "source": [
    "<div class=\"alert alert-warning\">\n",
    "<b>Chamdani comment v.1</b> <a class=\"tocSkip\"></a>\n",
    "\n",
    "Bagus mas Sultan. Namun cobalah untuk menggunakan fungsi agregat yang telah disediakan pandas dan numpy yang bisa kamu gunakan untuk melakukan penjumlahan beberapa kolom di dataframe.\n",
    "    \n",
    "Saran gunakan fungsi `.sum` dari pandas [disini](https://pandas.pydata.org/docs/reference/api/pandas.DataFrame.sum.html)\n",
    "    \n",
    "</div>"
   ]
  },
  {
   "cell_type": "markdown",
   "metadata": {},
   "source": [
    "<div class=\"alert alert-danger\">\n",
    "<b>Chamdani comment v.2</b> <a class=\"tocSkip\"></a>\n",
    "    \n",
    "Perhatkan feedback saya sebelumnya. Mohon ikuti arahan tersebut pada seluruh feedback warna kuning maupun merah.\n",
    "    \n",
    "</div>\n",
    "\n",
    "<div class=\"alert alert-block alert-info\">\n",
    "<b>Student answer v.2</b> <a class=\"tocSkip\"></a>\n",
    "    \n",
    "Baik kak.\n",
    "</div>"
   ]
  },
  {
   "cell_type": "markdown",
   "metadata": {},
   "source": [
    "<div class=\"alert alert-success\">\n",
    "<b>Chamdani comment v.3</b> <a class=\"tocSkip\"></a>\n",
    "    \n",
    "Great!\n",
    "\n",
    "</div>"
   ]
  },
  {
   "cell_type": "code",
   "execution_count": 136,
   "metadata": {},
   "outputs": [],
   "source": [
    "# Mendapatkan data pendapatan berdasarkan plan\n",
    "cost_surf = dataset.loc[dataset['plan'] == 'surf', 'cost_total'].dropna()\n",
    "\n",
    "cost_ultimate = dataset.loc[dataset['plan'] == 'ultimate', 'cost_total'].dropna()"
   ]
  },
  {
   "cell_type": "code",
   "execution_count": 137,
   "metadata": {},
   "outputs": [
    {
     "name": "stdout",
     "output_type": "stream",
     "text": [
      "0\n",
      "1579\n"
     ]
    }
   ],
   "source": [
    "# Memeriksa nilai yang hilang dan menghitung daftar dataset pada plan surf\n",
    "print(cost_surf.isna().sum())\n",
    "print(cost_surf.count())"
   ]
  },
  {
   "cell_type": "code",
   "execution_count": 138,
   "metadata": {},
   "outputs": [
    {
     "name": "stdout",
     "output_type": "stream",
     "text": [
      "0\n",
      "724\n"
     ]
    }
   ],
   "source": [
    "# Memeriksa nilai yang hilang dan menghitung daftar dataset pada plan ultimate\n",
    "print(cost_ultimate.isna().sum())\n",
    "print(cost_ultimate.count())"
   ]
  },
  {
   "cell_type": "code",
   "execution_count": 139,
   "metadata": {},
   "outputs": [],
   "source": [
    "# menguji hypothesis dengan metode T-test rata-rata dua populasi setara\n",
    "p_value = st.ttest_ind(cost_surf, cost_ultimate, equal_var = False).pvalue"
   ]
  },
  {
   "cell_type": "code",
   "execution_count": 140,
   "metadata": {
    "scrolled": true
   },
   "outputs": [
    {
     "name": "stdout",
     "output_type": "stream",
     "text": [
      "P-value: 0.00%\n",
      "H1 Diterima\n"
     ]
    }
   ],
   "source": [
    "# tingkat signifikansi statistik kritis\n",
    "alpha = 0.05\n",
    "\n",
    "print(f'P-value: {p_value * 100:0.2f}%')\n",
    "if p_value >= alpha:\n",
    "    print('H0 Diterima')\n",
    "elif p_value < alpha:\n",
    "    print('H1 Diterima')"
   ]
  },
  {
   "cell_type": "markdown",
   "metadata": {},
   "source": [
    "<div class=\"alert alert-danger\">\n",
    "<b>Chamdani comment v.1</b> <a class=\"tocSkip\"></a>\n",
    "\n",
    "Bagus mas Sultan. Namun pastikan dahulu bahwa data yang kamu kelola adalah data yang valid dan tidak ada informasi yang hilang. Karena infomasi yang hilang atau tidak valid akan sangat mempengaruhi hipotesis. Jangan lupa untuk menjelaskan setiap langkah pemrosesan dengan baik agar tidak ada disinformasi.\n",
    "\n",
    "Silahkan baca kembali materi terkait penarikan hipotesis atau kunjungi referensi berikut ini:\n",
    "    \n",
    "* [P-Value in Statistical Hypothesis Tests: What is it?](https://www.statisticshowto.com/probability-and-statistics/statistics-definitions/p-value/#:~:text=A%20p%20value%20is%20used,should%20reject%20the%20null%20hypothesis.)\n",
    "* [Hypothesis Testing & p-Value](https://towardsdatascience.com/hypothesis-testing-p-value-13b55f4b32d9)\n",
    "* [S.3.2 Hypothesis Testing (P-Value Approach)](https://online.stat.psu.edu/statprogram/reviews/statistical-concepts/hypothesis-testing/p-value-approach)\n",
    "* [P-Value Method For Hypothesis Testing](https://www.youtube.com/watch?v=8Aw45HN5lnA&ab_channel=TheOrganicChemistryTutor)\n",
    "\n",
    "</div>"
   ]
  },
  {
   "cell_type": "markdown",
   "metadata": {},
   "source": [
    "<div class=\"alert alert-danger\">\n",
    "<b>Chamdani comment v.2</b> <a class=\"tocSkip\"></a>\n",
    "    \n",
    "Perhatkan feedback saya sebelumnya. Mohon ikuti arahan tersebut pada seluruh feedback warna kuning maupun merah. Atau berikan saya balasan jika kamu tidak mengerti sesuatu.\n",
    "    \n",
    "</div>\n",
    "<div class=\"alert alert-block alert-info\">\n",
    "<b>Student answer v.2</b> <a class=\"tocSkip\"></a>\n",
    "    \n",
    "Baik kak.\n",
    "</div>"
   ]
  },
  {
   "cell_type": "markdown",
   "metadata": {},
   "source": [
    "<div class=\"alert alert-success\">\n",
    "<b>Chamdani comment v.3</b> <a class=\"tocSkip\"></a>\n",
    "    \n",
    "Great!\n",
    "\n",
    "</div>"
   ]
  },
  {
   "cell_type": "code",
   "execution_count": 141,
   "metadata": {},
   "outputs": [
    {
     "data": {
      "text/html": [
       "<div>\n",
       "<style scoped>\n",
       "    .dataframe tbody tr th:only-of-type {\n",
       "        vertical-align: middle;\n",
       "    }\n",
       "\n",
       "    .dataframe tbody tr th {\n",
       "        vertical-align: top;\n",
       "    }\n",
       "\n",
       "    .dataframe thead tr th {\n",
       "        text-align: left;\n",
       "    }\n",
       "\n",
       "    .dataframe thead tr:last-of-type th {\n",
       "        text-align: right;\n",
       "    }\n",
       "</style>\n",
       "<table border=\"1\" class=\"dataframe\">\n",
       "  <thead>\n",
       "    <tr>\n",
       "      <th></th>\n",
       "      <th>mean</th>\n",
       "      <th>var</th>\n",
       "      <th>std</th>\n",
       "    </tr>\n",
       "    <tr>\n",
       "      <th></th>\n",
       "      <th>cost_total</th>\n",
       "      <th>cost_total</th>\n",
       "      <th>cost_total</th>\n",
       "    </tr>\n",
       "    <tr>\n",
       "      <th>plan</th>\n",
       "      <th></th>\n",
       "      <th></th>\n",
       "      <th></th>\n",
       "    </tr>\n",
       "  </thead>\n",
       "  <tbody>\n",
       "    <tr>\n",
       "      <th>surf</th>\n",
       "      <td>281.121710</td>\n",
       "      <td>26805.999148</td>\n",
       "      <td>163.725377</td>\n",
       "    </tr>\n",
       "    <tr>\n",
       "      <th>ultimate</th>\n",
       "      <td>166.095304</td>\n",
       "      <td>7633.793118</td>\n",
       "      <td>87.371581</td>\n",
       "    </tr>\n",
       "  </tbody>\n",
       "</table>\n",
       "</div>"
      ],
      "text/plain": [
       "                mean           var         std\n",
       "          cost_total    cost_total  cost_total\n",
       "plan                                          \n",
       "surf      281.121710  26805.999148  163.725377\n",
       "ultimate  166.095304   7633.793118   87.371581"
      ]
     },
     "execution_count": 141,
     "metadata": {},
     "output_type": "execute_result"
    }
   ],
   "source": [
    "# Mendapatkan nilai rata-rata, varian dan standar deviasi dari masing-masing plan\n",
    "dataset.pivot_table(index='plan', values='cost_total', aggfunc=[np.mean, np.var, np.std])"
   ]
  },
  {
   "cell_type": "code",
   "execution_count": 142,
   "metadata": {},
   "outputs": [
    {
     "data": {
      "text/html": [
       "<div>\n",
       "<style scoped>\n",
       "    .dataframe tbody tr th:only-of-type {\n",
       "        vertical-align: middle;\n",
       "    }\n",
       "\n",
       "    .dataframe tbody tr th {\n",
       "        vertical-align: top;\n",
       "    }\n",
       "\n",
       "    .dataframe thead tr th {\n",
       "        text-align: left;\n",
       "    }\n",
       "\n",
       "    .dataframe thead tr:last-of-type th {\n",
       "        text-align: right;\n",
       "    }\n",
       "</style>\n",
       "<table border=\"1\" class=\"dataframe\">\n",
       "  <thead>\n",
       "    <tr>\n",
       "      <th></th>\n",
       "      <th>mean</th>\n",
       "      <th>var</th>\n",
       "      <th>std</th>\n",
       "    </tr>\n",
       "    <tr>\n",
       "      <th></th>\n",
       "      <th>charge_total</th>\n",
       "      <th>charge_total</th>\n",
       "      <th>charge_total</th>\n",
       "    </tr>\n",
       "    <tr>\n",
       "      <th>plan</th>\n",
       "      <th></th>\n",
       "      <th></th>\n",
       "      <th></th>\n",
       "    </tr>\n",
       "  </thead>\n",
       "  <tbody>\n",
       "    <tr>\n",
       "      <th>surf</th>\n",
       "      <td>261.121710</td>\n",
       "      <td>26805.999148</td>\n",
       "      <td>163.725377</td>\n",
       "    </tr>\n",
       "    <tr>\n",
       "      <th>ultimate</th>\n",
       "      <td>96.095304</td>\n",
       "      <td>7633.793118</td>\n",
       "      <td>87.371581</td>\n",
       "    </tr>\n",
       "  </tbody>\n",
       "</table>\n",
       "</div>"
      ],
      "text/plain": [
       "                 mean           var          std\n",
       "         charge_total  charge_total charge_total\n",
       "plan                                            \n",
       "surf       261.121710  26805.999148   163.725377\n",
       "ultimate    96.095304   7633.793118    87.371581"
      ]
     },
     "execution_count": 142,
     "metadata": {},
     "output_type": "execute_result"
    }
   ],
   "source": [
    "# Mendapatkan nilai rata-rata, varian dan standar deviasi dari masing-masing plan\n",
    "dataset.pivot_table(index='plan', values='charge_total', aggfunc=[np.mean, np.var, np.std])"
   ]
  },
  {
   "cell_type": "markdown",
   "metadata": {},
   "source": [
    "<div class=\"alert alert-block alert-info\">\n",
    "<b>Note.</b> <a class=\"tocSkip\"></a>\n",
    "\n",
    "Verdict :\n",
    "- Rata-rata pendapatan pengguna paket telepon pada plan ultimate dan surf berbeda.\n",
    "\n",
    "Insight :\n",
    "- Charge biaya tambahan akibat melebihi quota pada plan Surf memberikan pendapatan yang signifikan\n",
    "- Pelanggan dapat diberikan edukasi terkait biaya yang dikeluarkan dengan memilih plan ultimate yang mungkin lebih ideal\n",
    "\n",
    "\n",
    "    \n",
    "\n",
    "</div>"
   ]
  },
  {
   "cell_type": "markdown",
   "metadata": {},
   "source": [
    "<div class=\"alert alert-success\">\n",
    "<b>Chamdani comment v.1</b> <a class=\"tocSkip\"></a>\n",
    "\n",
    "Penjabaran yang keren dan to the point. \n",
    "    \n",
    "</div>"
   ]
  },
  {
   "cell_type": "markdown",
   "metadata": {},
   "source": [
    "#### Apakah Rata-rata pendapatan dari pengguna di wilayah NY-NJ berbeda dengan pendapatan pengguna dari wilayah lain?\n",
    "\n",
    "Ho = Rata-rata pendapatan dari pengguna di wilayah NY-NJ sama dengan pendapatan pengguna dari wilayah lain\n",
    "\n",
    "H1 = Rata-rata pendapatan dari pengguna di wilayah NY-NJ berbeda dengan pendapatan pengguna dari wilayah lain"
   ]
  },
  {
   "cell_type": "code",
   "execution_count": 143,
   "metadata": {},
   "outputs": [],
   "source": [
    "# Mengiris kota NY-NJ pada kolom fixed_city\n",
    "dataset['is_ny_nj'] = dataset['fixed_city'].str.contains('NY-NJ', regex=True)"
   ]
  },
  {
   "cell_type": "code",
   "execution_count": 144,
   "metadata": {},
   "outputs": [],
   "source": [
    "dataset['is_ny_nj'] = dataset['is_ny_nj'].astype(str)"
   ]
  },
  {
   "cell_type": "code",
   "execution_count": 145,
   "metadata": {},
   "outputs": [],
   "source": [
    "# Mendapatkan data kota NY-NJ\n",
    "ny_nj_income = dataset.loc[dataset['is_ny_nj'] == 'True', 'cost_total'].dropna()\n",
    "\n",
    "other_city = dataset.loc[dataset['is_ny_nj'] == 'False', 'cost_total'].dropna()"
   ]
  },
  {
   "cell_type": "code",
   "execution_count": 146,
   "metadata": {},
   "outputs": [
    {
     "name": "stdout",
     "output_type": "stream",
     "text": [
      "0\n",
      "1925\n"
     ]
    }
   ],
   "source": [
    "# Memeriksa nilai yang hilang dan menghitung daftar dataset pada wilayah lainnya\n",
    "print(other_city.isna().sum())\n",
    "print(other_city.count())"
   ]
  },
  {
   "cell_type": "code",
   "execution_count": 147,
   "metadata": {},
   "outputs": [
    {
     "name": "stdout",
     "output_type": "stream",
     "text": [
      "0\n",
      "378\n"
     ]
    }
   ],
   "source": [
    "# Memeriksa nilai yang hilang dan menghitung daftar dataset pada wilayah NY-NJ\n",
    "print(ny_nj_income.isna().sum())\n",
    "print(ny_nj_income.count())"
   ]
  },
  {
   "cell_type": "code",
   "execution_count": 148,
   "metadata": {},
   "outputs": [],
   "source": [
    "# menguji hypothesis dengan metode T-test rata-rata dua populasi setara\n",
    "p_value = st.ttest_ind(ny_nj_income, other_city, equal_var = False).pvalue"
   ]
  },
  {
   "cell_type": "code",
   "execution_count": 149,
   "metadata": {
    "scrolled": true
   },
   "outputs": [
    {
     "name": "stdout",
     "output_type": "stream",
     "text": [
      "P-value: 0.39%\n",
      "H1 Diterima\n"
     ]
    }
   ],
   "source": [
    "# tingkat signifikansi statistik kritis\n",
    "alpha = 0.05\n",
    "\n",
    "print(f'P-value: {p_value * 100:0.2f}%')\n",
    "if p_value >= alpha:\n",
    "    print('H0 Diterima')\n",
    "elif p_value < alpha:\n",
    "    print('H1 Diterima')"
   ]
  },
  {
   "cell_type": "markdown",
   "metadata": {},
   "source": [
    "<div class=\"alert alert-danger\">\n",
    "<b>Chamdani comment v.1</b> <a class=\"tocSkip\"></a>\n",
    "\n",
    "Pastikan dahulu bahwa data yang kamu kelola adalah data yang valid dan tidak ada informasi yang hilang. Karena infomasi yang hilang atau tidak valid akan sangat mempengaruhi hipotesis. Jangan lupa untuk menjelaskan setiap langkah pemrosesan dengan baik agar tidak ada disinformasi.\n",
    "    \n",
    "<br>\n",
    "    \n",
    "Saya melihat ada banyak data yang belum sesuai karena ada beberapa proses yang keliru. Mohon perhatikan feedback dari saya seluruhnya agar kamu dapat berhasil dalam submission tugas kali ini. Saya juga tidak melihat penjelasan dari insight penarikan hipotesis ini.\n",
    "    \n",
    "</div>"
   ]
  },
  {
   "cell_type": "markdown",
   "metadata": {},
   "source": [
    "<div class=\"alert alert-danger\">\n",
    "<b>Chamdani comment v.2</b> <a class=\"tocSkip\"></a>\n",
    "    \n",
    "Perhatkan feedback saya sebelumnya. Mohon ikuti arahan tersebut pada seluruh feedback warna kuning maupun merah. Atau berikan saya balasan jika kamu tidak mengerti sesuatu.\n",
    "    \n",
    "</div>"
   ]
  },
  {
   "cell_type": "code",
   "execution_count": 121,
   "metadata": {
    "scrolled": true
   },
   "outputs": [
    {
     "data": {
      "text/html": [
       "<div>\n",
       "<style scoped>\n",
       "    .dataframe tbody tr th:only-of-type {\n",
       "        vertical-align: middle;\n",
       "    }\n",
       "\n",
       "    .dataframe tbody tr th {\n",
       "        vertical-align: top;\n",
       "    }\n",
       "\n",
       "    .dataframe thead tr th {\n",
       "        text-align: left;\n",
       "    }\n",
       "\n",
       "    .dataframe thead tr:last-of-type th {\n",
       "        text-align: right;\n",
       "    }\n",
       "</style>\n",
       "<table border=\"1\" class=\"dataframe\">\n",
       "  <thead>\n",
       "    <tr>\n",
       "      <th></th>\n",
       "      <th>mean</th>\n",
       "      <th>var</th>\n",
       "      <th>std</th>\n",
       "    </tr>\n",
       "    <tr>\n",
       "      <th></th>\n",
       "      <th>cost_total</th>\n",
       "      <th>cost_total</th>\n",
       "      <th>cost_total</th>\n",
       "    </tr>\n",
       "    <tr>\n",
       "      <th>is_ny_nj</th>\n",
       "      <th></th>\n",
       "      <th></th>\n",
       "      <th></th>\n",
       "    </tr>\n",
       "  </thead>\n",
       "  <tbody>\n",
       "    <tr>\n",
       "      <th>False</th>\n",
       "      <td>241.973815</td>\n",
       "      <td>23907.386873</td>\n",
       "      <td>154.620137</td>\n",
       "    </tr>\n",
       "    <tr>\n",
       "      <th>True</th>\n",
       "      <td>265.576525</td>\n",
       "      <td>21278.910914</td>\n",
       "      <td>145.872927</td>\n",
       "    </tr>\n",
       "  </tbody>\n",
       "</table>\n",
       "</div>"
      ],
      "text/plain": [
       "                mean           var         std\n",
       "          cost_total    cost_total  cost_total\n",
       "is_ny_nj                                      \n",
       "False     241.973815  23907.386873  154.620137\n",
       "True      265.576525  21278.910914  145.872927"
      ]
     },
     "execution_count": 121,
     "metadata": {},
     "output_type": "execute_result"
    }
   ],
   "source": [
    "# Mendapatkan nilai rata-rata, varian dan standar deviasi dari masing-masing plan\n",
    "dataset.pivot_table(index='is_ny_nj', values='cost_total', aggfunc=[np.mean, np.var, np.std])"
   ]
  },
  {
   "cell_type": "markdown",
   "metadata": {},
   "source": [
    "<div class=\"alert alert-block alert-info\">\n",
    "<b>Note.</b> <a class=\"tocSkip\"></a>\n",
    "\n",
    "Verdict :\n",
    "- Rata-rata pendapatan dari pengguna wilayah NY-NJ berbeda dengan wilayah lainnya.\n",
    "- Rata-rata pendapatan dari pengguna wilayah NY-NJ lebih besar dari wilayah lainnya.\n",
    "\n",
    "Insight :\n",
    "\n",
    "- Perlu dilakukan analysis lebih lanjut mengapa income dari pengguna wilayah NY-NJ lebih besar.\n",
    "\n",
    "    \n",
    "\n",
    "</div>"
   ]
  },
  {
   "cell_type": "markdown",
   "metadata": {},
   "source": [
    "###  Conclusion"
   ]
  },
  {
   "cell_type": "markdown",
   "metadata": {},
   "source": [
    "<div class=\"alert alert-block alert-info\">\n",
    "<b>Conclusion.</b> <a class=\"tocSkip\"></a>\n",
    "\n",
    "1. Masih banyak ditemukan plan surf yang melebihi batas paket yang ditentukan.\n",
    "    \n",
    "Insight:\n",
    "- Berikan pemberitahuan kepada pengguna apabila sudah melebihi batas paket call.\n",
    "- Pembuatan paket call extra yang dapat ditawarkan bila pengguna sudah melebihi batas paket.\n",
    "- Pembuatan plan tambahan diatara surf dan ultimate\n",
    "    \n",
    "2. Probability pengguna plan Surf yang melebihi paket call : 35.98% dan,\n",
    "    <br>Probability pengguna plan Ultimate yang melebihi paket call : 0%\n",
    "    \n",
    "    \n",
    "    \n",
    "3. Probability pengguna plan Surf yang melebihi paket : 88.62%\n",
    "    <br>Probability pengguna plan Ultimate yang melebihi paket : 77.50%\n",
    "    \n",
    "    \n",
    "4. Probability pengguna plan Surf yang melebihi paket messages : 21.61%\n",
    "     <br>Probability pengguna plan Ultimate yang melebihi paket messages : 0.00%\n",
    "</div>"
   ]
  },
  {
   "cell_type": "markdown",
   "metadata": {},
   "source": [
    "<div class=\"alert alert-success\">\n",
    "<b>Chamdani comment v.1</b> <a class=\"tocSkip\"></a>\n",
    "\n",
    "Keren mas Sultan. Sebuah konklusi yang cukup baik dengan penjabaran yang mudah dimengerti. Kamu juga berhasil memberikan gambaran dan saran yang bagus berdasarkan data.\n",
    "    \n",
    "</div>"
   ]
  },
  {
   "cell_type": "markdown",
   "metadata": {},
   "source": [
    "<div style=\"border:solid black 2px; padding: 20px\">\n",
    "    \n",
    "# Hasil akhir untuk review di percobaan pertama kamu *(perlu perbaikan mayor)*\n",
    "\n",
    "Terima kasih banyak telah mengirimkan proyek Anda! \n",
    "\n",
    "<br>\n",
    "\n",
    "Saya suka gaya analisis Anda. Anda melakukan pekerjaan dengan baik! \n",
    "\n",
    "Secara keseluruhan, proyek Anda sangat mengesankan. Namun saya melihat masih banyak hal yang perlu di perbaiki. Saya telah menemukan beberapa kesalahan kecil dan beberapa penjelasan yang kurang dalam proyek Anda. Selain itu ada beberapa hal yang perlu diperbaiki dalam proyek Anda. Sebagian besar masalah kecil yang mudah diperbaiki. Namun ada beberapa hal yang perlu dilakukan perubahan dan pemahaman mendalam agar anda berhasil dalam submission ini. Saya telah meninggalkan komentar, yang dapat membantu Anda meningkatkan proyek dan mengembangkan keterampilan Anda lebih lanjut. Itu tidak berarti bahwa Anda telah melakukan sesuatu yang salah, itu hanya berisi beberapa saran tentang bagaimana hal itu dapat diperbaiki. Anda masih memiliki kesempatan kedua untuk memperbaikinya dan jangan lupa untuk kembali kepada saya setelah perbaikan anda selesai. \n",
    "\n",
    "<br>\n",
    "\n",
    "Jika ada sesuatu yang membuat Anda bingung atau tidak mengerti. \n",
    "\n",
    "Tolong, jangan ragu untuk menghubungi saya kapan saja jika Anda memiliki pemblokir. Saya ingin berdiskusi dengan Anda. \n",
    "\n",
    "**TETAP SEMANGAT!!**\n",
    "</div>"
   ]
  },
  {
   "cell_type": "markdown",
   "metadata": {},
   "source": [
    "<div style=\"border:solid black 2px; padding: 20px\" class=\"alert alert-warning\">\n",
    "    \n",
    "# Hasil akhir untuk review di percobaan **Kedua** kamu *(perlu perbaikan minor)*\n",
    "\n",
    "</div>"
   ]
  },
  {
   "cell_type": "markdown",
   "metadata": {},
   "source": [
    "<div style=\"border:solid black 2px; padding: 20px\" class=\"alert alert-success\">\n",
    "    \n",
    "# Hasil akhir untuk review di percobaan **Terakhir** kamu dinyatakan *lulus*\n",
    "\n",
    "</div>"
   ]
  },
  {
   "cell_type": "markdown",
   "metadata": {},
   "source": []
  },
  {
   "cell_type": "code",
   "execution_count": null,
   "metadata": {},
   "outputs": [],
   "source": []
  }
 ],
 "metadata": {
  "kernelspec": {
   "display_name": "Python 3 (ipykernel)",
   "language": "python",
   "name": "python3"
  },
  "language_info": {
   "codemirror_mode": {
    "name": "ipython",
    "version": 3
   },
   "file_extension": ".py",
   "mimetype": "text/x-python",
   "name": "python",
   "nbconvert_exporter": "python",
   "pygments_lexer": "ipython3",
   "version": "3.9.5"
  },
  "toc": {
   "base_numbering": 1,
   "nav_menu": {},
   "number_sections": true,
   "sideBar": true,
   "skip_h1_title": true,
   "title_cell": "Table of Contents",
   "title_sidebar": "Contents",
   "toc_cell": false,
   "toc_position": {
    "height": "calc(100% - 180px)",
    "left": "10px",
    "top": "150px",
    "width": "279.387px"
   },
   "toc_section_display": true,
   "toc_window_display": true
  }
 },
 "nbformat": 4,
 "nbformat_minor": 2
}
